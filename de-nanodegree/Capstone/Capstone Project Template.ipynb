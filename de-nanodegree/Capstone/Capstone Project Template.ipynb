{
 "cells": [
  {
   "cell_type": "markdown",
   "metadata": {},
   "source": [
    "# US Immigration Data Warehouse\n",
    "### Data Engineering Capstone Project\n",
    "\n",
    "#### Project Summary\n",
    "The purpose of this data engineering capstone project is to give students a chance to combine what they've learned throughout the program. This project will be an important part of learners portfolio that will help to achieve data engineering-related career goals. I choose to use dataset that Udacity provided which is related with US Immigration. The goal of this project is to create scalable data warehouse which can be used by Data Analyst or Data Scientist so they can create Insight in Jupyter notebook or implement Machine Learning algorithms.\n",
    "\n",
    "The project follows the follow steps:\n",
    "* Step 1: Scope the Project and Gather Data\n",
    "* Step 2: Explore and Assess the Data\n",
    "* Step 3: Define the Data Model\n",
    "* Step 4: Run ETL to Model the Data\n",
    "* Step 5: Complete Project Write Up"
   ]
  },
  {
   "cell_type": "code",
   "execution_count": 2,
   "metadata": {},
   "outputs": [
    {
     "name": "stdout",
     "output_type": "stream",
     "text": [
      "Requirement already satisfied: pip in /opt/conda/lib/python3.6/site-packages (21.0.1)\n",
      "Requirement already satisfied: notebook>=5.3 in /opt/conda/lib/python3.6/site-packages (5.7.0)\n",
      "Requirement already satisfied: ipywidgets>=7.5 in /opt/conda/lib/python3.6/site-packages (7.6.3)\n",
      "Requirement already satisfied: traitlets>=4.3.1 in /opt/conda/lib/python3.6/site-packages (from ipywidgets>=7.5) (4.3.2)\n",
      "Requirement already satisfied: ipykernel>=4.5.1 in /opt/conda/lib/python3.6/site-packages (from ipywidgets>=7.5) (4.9.0)\n",
      "Requirement already satisfied: jupyterlab-widgets>=1.0.0 in /opt/conda/lib/python3.6/site-packages (from ipywidgets>=7.5) (1.0.0)\n",
      "Requirement already satisfied: nbformat>=4.2.0 in /opt/conda/lib/python3.6/site-packages (from ipywidgets>=7.5) (4.4.0)\n",
      "Requirement already satisfied: ipython>=4.0.0 in /opt/conda/lib/python3.6/site-packages (from ipywidgets>=7.5) (6.5.0)\n",
      "Requirement already satisfied: widgetsnbextension~=3.5.0 in /opt/conda/lib/python3.6/site-packages (from ipywidgets>=7.5) (3.5.1)\n",
      "Requirement already satisfied: jinja2 in /opt/conda/lib/python3.6/site-packages (from notebook>=5.3) (2.10)\n",
      "Requirement already satisfied: tornado>=4 in /opt/conda/lib/python3.6/site-packages (from notebook>=5.3) (4.5.3)\n",
      "Requirement already satisfied: pyzmq>=17 in /opt/conda/lib/python3.6/site-packages (from notebook>=5.3) (17.1.2)\n",
      "Requirement already satisfied: ipython_genutils in /opt/conda/lib/python3.6/site-packages (from notebook>=5.3) (0.2.0)\n",
      "Requirement already satisfied: jupyter_core>=4.4.0 in /opt/conda/lib/python3.6/site-packages (from notebook>=5.3) (4.4.0)\n",
      "Requirement already satisfied: jupyter_client>=5.2.0 in /opt/conda/lib/python3.6/site-packages (from notebook>=5.3) (5.2.4)\n",
      "Requirement already satisfied: nbconvert in /opt/conda/lib/python3.6/site-packages (from notebook>=5.3) (5.4.0)\n",
      "Requirement already satisfied: Send2Trash in /opt/conda/lib/python3.6/site-packages (from notebook>=5.3) (1.5.0)\n",
      "Requirement already satisfied: terminado>=0.8.1 in /opt/conda/lib/python3.6/site-packages (from notebook>=5.3) (0.8.1)\n",
      "Requirement already satisfied: prometheus_client in /opt/conda/lib/python3.6/site-packages (from notebook>=5.3) (0.3.1)\n",
      "Requirement already satisfied: backcall in /opt/conda/lib/python3.6/site-packages (from ipython>=4.0.0->ipywidgets>=7.5) (0.1.0)\n",
      "Requirement already satisfied: pickleshare in /opt/conda/lib/python3.6/site-packages (from ipython>=4.0.0->ipywidgets>=7.5) (0.7.4)\n",
      "Requirement already satisfied: decorator in /opt/conda/lib/python3.6/site-packages (from ipython>=4.0.0->ipywidgets>=7.5) (4.0.11)\n",
      "Requirement already satisfied: setuptools>=18.5 in /opt/conda/lib/python3.6/site-packages (from ipython>=4.0.0->ipywidgets>=7.5) (38.4.0)\n",
      "Requirement already satisfied: jedi>=0.10 in /opt/conda/lib/python3.6/site-packages (from ipython>=4.0.0->ipywidgets>=7.5) (0.10.2)\n",
      "Requirement already satisfied: pygments in /opt/conda/lib/python3.6/site-packages (from ipython>=4.0.0->ipywidgets>=7.5) (2.2.0)\n",
      "Requirement already satisfied: pexpect in /opt/conda/lib/python3.6/site-packages (from ipython>=4.0.0->ipywidgets>=7.5) (4.3.1)\n",
      "Requirement already satisfied: prompt-toolkit<2.0.0,>=1.0.15 in /opt/conda/lib/python3.6/site-packages (from ipython>=4.0.0->ipywidgets>=7.5) (1.0.15)\n",
      "Requirement already satisfied: simplegeneric>0.8 in /opt/conda/lib/python3.6/site-packages (from ipython>=4.0.0->ipywidgets>=7.5) (0.8.1)\n",
      "Requirement already satisfied: python-dateutil>=2.1 in /opt/conda/lib/python3.6/site-packages (from jupyter_client>=5.2.0->notebook>=5.3) (2.6.1)\n",
      "Requirement already satisfied: jsonschema!=2.5.0,>=2.4 in /opt/conda/lib/python3.6/site-packages (from nbformat>=4.2.0->ipywidgets>=7.5) (2.6.0)\n",
      "Requirement already satisfied: six>=1.9.0 in /opt/conda/lib/python3.6/site-packages (from prompt-toolkit<2.0.0,>=1.0.15->ipython>=4.0.0->ipywidgets>=7.5) (1.11.0)\n",
      "Requirement already satisfied: wcwidth in /opt/conda/lib/python3.6/site-packages (from prompt-toolkit<2.0.0,>=1.0.15->ipython>=4.0.0->ipywidgets>=7.5) (0.1.7)\n",
      "Requirement already satisfied: MarkupSafe>=0.23 in /opt/conda/lib/python3.6/site-packages (from jinja2->notebook>=5.3) (1.0)\n",
      "Requirement already satisfied: mistune>=0.8.1 in /opt/conda/lib/python3.6/site-packages (from nbconvert->notebook>=5.3) (0.8.3)\n",
      "Requirement already satisfied: entrypoints>=0.2.2 in /opt/conda/lib/python3.6/site-packages (from nbconvert->notebook>=5.3) (0.2.3)\n",
      "Requirement already satisfied: bleach in /opt/conda/lib/python3.6/site-packages (from nbconvert->notebook>=5.3) (1.5.0)\n",
      "Requirement already satisfied: pandocfilters>=1.4.1 in /opt/conda/lib/python3.6/site-packages (from nbconvert->notebook>=5.3) (1.4.1)\n",
      "Requirement already satisfied: testpath in /opt/conda/lib/python3.6/site-packages (from nbconvert->notebook>=5.3) (0.3.1)\n",
      "Requirement already satisfied: defusedxml in /opt/conda/lib/python3.6/site-packages (from nbconvert->notebook>=5.3) (0.5.0)\n",
      "Requirement already satisfied: html5lib!=0.9999,!=0.99999,<0.99999999,>=0.999 in /opt/conda/lib/python3.6/site-packages (from bleach->nbconvert->notebook>=5.3) (0.9999999)\n",
      "Requirement already satisfied: ptyprocess>=0.5 in /opt/conda/lib/python3.6/site-packages (from pexpect->ipython>=4.0.0->ipywidgets>=7.5) (0.5.2)\n",
      "Requirement already satisfied: plotly==4.5.0 in /opt/conda/lib/python3.6/site-packages (4.5.0)\n",
      "Requirement already satisfied: retrying>=1.3.3 in /opt/conda/lib/python3.6/site-packages (from plotly==4.5.0) (1.3.3)\n",
      "Requirement already satisfied: six in /opt/conda/lib/python3.6/site-packages (from plotly==4.5.0) (1.11.0)\n",
      "Requirement already satisfied: pyspark in /opt/spark-2.4.3-bin-hadoop2.7/python (2.4.3)\n",
      "Requirement already satisfied: py4j==0.10.7 in /opt/conda/lib/python3.6/site-packages (from pyspark) (0.10.7)\n",
      "Requirement already satisfied: pyarrow in /opt/conda/lib/python3.6/site-packages (3.0.0)\n",
      "Requirement already satisfied: numpy>=1.16.6 in /opt/conda/lib/python3.6/site-packages (from pyarrow) (1.19.5)\n"
     ]
    }
   ],
   "source": [
    "# install additional library\n",
    "import sys\n",
    "!{sys.executable} -m pip install --upgrade pip\n",
    "!{sys.executable} -m pip install \"notebook>=5.3\" \"ipywidgets>=7.5\"\n",
    "!{sys.executable} -m pip install plotly==4.5.0\n",
    "!{sys.executable} -m pip install pyspark\n",
    "!{sys.executable} -m pip install pyarrow"
   ]
  },
  {
   "cell_type": "code",
   "execution_count": 3,
   "metadata": {},
   "outputs": [
    {
     "data": {
      "text/html": [
       "        <script type=\"text/javascript\">\n",
       "        window.PlotlyConfig = {MathJaxConfig: 'local'};\n",
       "        if (window.MathJax) {MathJax.Hub.Config({SVG: {font: \"STIX-Web\"}});}\n",
       "        if (typeof require !== 'undefined') {\n",
       "        require.undef(\"plotly\");\n",
       "        requirejs.config({\n",
       "            paths: {\n",
       "                'plotly': ['https://cdn.plot.ly/plotly-latest.min']\n",
       "            }\n",
       "        });\n",
       "        require(['plotly'], function(Plotly) {\n",
       "            window._Plotly = Plotly;\n",
       "        });\n",
       "        }\n",
       "        </script>\n",
       "        "
      ]
     },
     "metadata": {},
     "output_type": "display_data"
    }
   ],
   "source": [
    "# Do all imports here\n",
    "import pandas as pd\n",
    "\n",
    "from pyspark.sql import SparkSession\n",
    "from pyspark import SparkContext\n",
    "from pyspark.sql.functions import when, count, col, isnan, sum, max, min, expr, desc, isnull, round, lit, avg, first\n",
    "from pyspark.sql.functions import datediff, year, month, dayofmonth, quarter, format_number, upper\n",
    "from pyspark.sql.types import IntegerType\n",
    "from pyspark.sql import SQLContext\n",
    "\n",
    "import plotly.express as px\n",
    "import plotly.offline as pyo\n",
    "\n",
    "# Set notebook mode to work in offline\n",
    "pyo.init_notebook_mode(connected=True)"
   ]
  },
  {
   "cell_type": "code",
   "execution_count": 4,
   "metadata": {},
   "outputs": [],
   "source": [
    "# Create Spark Session\n",
    "spark = SparkSession.builder.\\\n",
    "config(\"spark.jars.packages\",\"saurfang:spark-sas7bdat:2.0.0-s_2.11\")\\\n",
    ".enableHiveSupport().getOrCreate()\n",
    "\n",
    "# Enable Arrow-based columnar data transfers\n",
    "spark.conf.set(\"spark.sql.execution.arrow.enabled\", \"true\")\n",
    "\n",
    "# Change memory configuration\n",
    "spark.conf.set(\"spark.executor.memory\", '16g')\n",
    "\n",
    "# Change format display\n",
    "spark.conf.set('spark.sql.repl.eagerEval.enabled', True)"
   ]
  },
  {
   "cell_type": "markdown",
   "metadata": {},
   "source": [
    "### Step 1: Scope the Project and Gather Data\n",
    "\n",
    "#### Scope \n",
    "Explain what you plan to do in the project in more detail. What data do you use? What is your end solution look like? What tools did you use? etc\n",
    "\n",
    "#### Describe and Gather Data \n",
    "In the following sections we will describe each data set.\n",
    "\n",
    "##### I94 Immigration Data\n",
    "\n",
    "This data comes from US National Tourism and Trade Office. The data highlighting overseas visitor arrivals by country of residence, ports of entry, mode of transportation, type of visa, and more. The data is located in ```../../data/18-83510-I94-Data-2016/``` . In this project we not use entire dataset but we used only the month of April of 2016. In the workspace, we also have sample data of this dataset.\n",
    "\n",
    "**Data Dictionary**\n",
    "\n",
    "| Column Name  | Description                                                                           | Data Type   |\n",
    "|--------------|---------------------------------------------------------------------------------------|-------------|\n",
    "| CICD         | Unique ID (Serial Primary Key)                                                        | text        |\n",
    "| I94YR        | Year (4 digits)                                                                       | integer     |\n",
    "| I94MON       | Numeric Month                                                                         | integer     |\n",
    "| I94CIT       | Born country (3 digits)                                                               | text        |\n",
    "| I94RES       | Residence country (3 digits)                                                          | text        |\n",
    "| I94PORT      | Port (3 digits)                                                                       | text        |\n",
    "| ARRDATE      | Arrival Date (SAS date format)                                                        | text        |\n",
    "| I94MODE      | Mode of Transportation (1 = Air; 2 = Sea; 3 = Land; 9 = Not reported)                 | integer     |\n",
    "| I94ADDR      | State of Arrival                                                                      | text        |\n",
    "| DEPDATE      | Departure Date from the USA (SAS date format)                                         | text        |\n",
    "| I94BIR       | Age of Respondent in Years                                                            | integer     |\n",
    "| I94VISA      | Visa codes collapsed into three categories: (1 = Business; 2 = Pleasure; 3 = Student) | integer     |\n",
    "| COUNT        | Used for summary statistics                                                           | integer     |\n",
    "| DTADFILE     | Date added to I-94 Files                                                              | text        |\n",
    "| VISAPOST     | Department of State where where Visa was issued                                       | text        |\n",
    "| OCCUP        | Occupation that will be performed in U.S                                              | text        |\n",
    "| ENTDEPA      | Arrival Flag - admitted or paroled into the U.S.                                      | text        |\n",
    "| ENTDEPD      | Departure Flag - Departed, lost I-94 or is deceased                                   | text        |\n",
    "| ENTDEPU      | Update Flag - Either apprehended, overstayed, adjusted to perm residence              | text        |\n",
    "| MATFLAG      | Match flag - Match of arrival and departure records                                   | text        |\n",
    "| BIRYEAR      | 4 digit year of birth                                                                 | integer     |\n",
    "| DTADDTO      | Date to which admitted to U.S. (allowed to stay until)                                | text        |\n",
    "| GENDER       | Non-immigrant sex                                                                     | text        |\n",
    "| INSNUM       | INS number                                                                            | text        |\n",
    "| AIRLINE      | Airline used to arrive in U.S.                                                        | text        |\n",
    "| ADMNUM       | Admission Number                                                                      | double      |\n",
    "| FLTNO        | Flight number of Airline used to arrive in U.S.                                       | text        |\n",
    "| VISATYPE     | Class of admission legally admitting the non-immigrant to temporarily stay in U.S.    | text        |"
   ]
  },
  {
   "cell_type": "code",
   "execution_count": 7,
   "metadata": {},
   "outputs": [
    {
     "data": {
      "text/html": [
       "<table border='1'>\n",
       "<tr><th>cicid</th><th>i94yr</th><th>i94mon</th><th>i94cit</th><th>i94res</th><th>i94port</th><th>arrdate</th><th>i94mode</th><th>i94addr</th><th>depdate</th><th>i94bir</th><th>i94visa</th><th>count</th><th>dtadfile</th><th>visapost</th><th>occup</th><th>entdepa</th><th>entdepd</th><th>entdepu</th><th>matflag</th><th>biryear</th><th>dtaddto</th><th>gender</th><th>insnum</th><th>airline</th><th>admnum</th><th>fltno</th><th>visatype</th></tr>\n",
       "<tr><td>5748517.0</td><td>2016.0</td><td>4.0</td><td>245.0</td><td>438.0</td><td>LOS</td><td>20574.0</td><td>1.0</td><td>CA</td><td>20582.0</td><td>40.0</td><td>1.0</td><td>1.0</td><td>20160430</td><td>SYD</td><td>null</td><td>G</td><td>O</td><td>null</td><td>M</td><td>1976.0</td><td>10292016</td><td>F</td><td>null</td><td>QF</td><td>9.495387003E10</td><td>00011</td><td>B1</td></tr>\n",
       "<tr><td>5748518.0</td><td>2016.0</td><td>4.0</td><td>245.0</td><td>438.0</td><td>LOS</td><td>20574.0</td><td>1.0</td><td>NV</td><td>20591.0</td><td>32.0</td><td>1.0</td><td>1.0</td><td>20160430</td><td>SYD</td><td>null</td><td>G</td><td>O</td><td>null</td><td>M</td><td>1984.0</td><td>10292016</td><td>F</td><td>null</td><td>VA</td><td>9.495562283E10</td><td>00007</td><td>B1</td></tr>\n",
       "<tr><td>5748519.0</td><td>2016.0</td><td>4.0</td><td>245.0</td><td>438.0</td><td>LOS</td><td>20574.0</td><td>1.0</td><td>WA</td><td>20582.0</td><td>29.0</td><td>1.0</td><td>1.0</td><td>20160430</td><td>SYD</td><td>null</td><td>G</td><td>O</td><td>null</td><td>M</td><td>1987.0</td><td>10292016</td><td>M</td><td>null</td><td>DL</td><td>9.495640653E10</td><td>00040</td><td>B1</td></tr>\n",
       "<tr><td>5748520.0</td><td>2016.0</td><td>4.0</td><td>245.0</td><td>438.0</td><td>LOS</td><td>20574.0</td><td>1.0</td><td>WA</td><td>20588.0</td><td>29.0</td><td>1.0</td><td>1.0</td><td>20160430</td><td>SYD</td><td>null</td><td>G</td><td>O</td><td>null</td><td>M</td><td>1987.0</td><td>10292016</td><td>F</td><td>null</td><td>DL</td><td>9.495645143E10</td><td>00040</td><td>B1</td></tr>\n",
       "<tr><td>5748521.0</td><td>2016.0</td><td>4.0</td><td>245.0</td><td>438.0</td><td>LOS</td><td>20574.0</td><td>1.0</td><td>WA</td><td>20588.0</td><td>28.0</td><td>1.0</td><td>1.0</td><td>20160430</td><td>SYD</td><td>null</td><td>G</td><td>O</td><td>null</td><td>M</td><td>1988.0</td><td>10292016</td><td>M</td><td>null</td><td>DL</td><td>9.495638813E10</td><td>00040</td><td>B1</td></tr>\n",
       "</table>\n"
      ],
      "text/plain": [
       "+---------+------+------+------+------+-------+-------+-------+-------+-------+------+-------+-----+--------+--------+-----+-------+-------+-------+-------+-------+--------+------+------+-------+--------------+-----+--------+\n",
       "|    cicid| i94yr|i94mon|i94cit|i94res|i94port|arrdate|i94mode|i94addr|depdate|i94bir|i94visa|count|dtadfile|visapost|occup|entdepa|entdepd|entdepu|matflag|biryear| dtaddto|gender|insnum|airline|        admnum|fltno|visatype|\n",
       "+---------+------+------+------+------+-------+-------+-------+-------+-------+------+-------+-----+--------+--------+-----+-------+-------+-------+-------+-------+--------+------+------+-------+--------------+-----+--------+\n",
       "|5748517.0|2016.0|   4.0| 245.0| 438.0|    LOS|20574.0|    1.0|     CA|20582.0|  40.0|    1.0|  1.0|20160430|     SYD| null|      G|      O|   null|      M| 1976.0|10292016|     F|  null|     QF|9.495387003E10|00011|      B1|\n",
       "|5748518.0|2016.0|   4.0| 245.0| 438.0|    LOS|20574.0|    1.0|     NV|20591.0|  32.0|    1.0|  1.0|20160430|     SYD| null|      G|      O|   null|      M| 1984.0|10292016|     F|  null|     VA|9.495562283E10|00007|      B1|\n",
       "|5748519.0|2016.0|   4.0| 245.0| 438.0|    LOS|20574.0|    1.0|     WA|20582.0|  29.0|    1.0|  1.0|20160430|     SYD| null|      G|      O|   null|      M| 1987.0|10292016|     M|  null|     DL|9.495640653E10|00040|      B1|\n",
       "|5748520.0|2016.0|   4.0| 245.0| 438.0|    LOS|20574.0|    1.0|     WA|20588.0|  29.0|    1.0|  1.0|20160430|     SYD| null|      G|      O|   null|      M| 1987.0|10292016|     F|  null|     DL|9.495645143E10|00040|      B1|\n",
       "|5748521.0|2016.0|   4.0| 245.0| 438.0|    LOS|20574.0|    1.0|     WA|20588.0|  28.0|    1.0|  1.0|20160430|     SYD| null|      G|      O|   null|      M| 1988.0|10292016|     M|  null|     DL|9.495638813E10|00040|      B1|\n",
       "+---------+------+------+------+------+-------+-------+-------+-------+-------+------+-------+-----+--------+--------+-----+-------+-------+-------+-------+-------+--------+------+------+-------+--------------+-----+--------+"
      ]
     },
     "execution_count": 7,
     "metadata": {},
     "output_type": "execute_result"
    }
   ],
   "source": [
    "# Ingest April 2016 data using Spark\n",
    "df_immigration = spark.read.format('com.github.saurfang.sas.spark')\\\n",
    "                 .load('../../data/18-83510-I94-Data-2016/i94_apr16_sub.sas7bdat')\n",
    "df_immigration.write.mode('overwrite').parquet(\"sas_data\")\n",
    "df_immigration=spark.read.parquet(\"sas_data\")\n",
    "df_immigration.limit(5)"
   ]
  },
  {
   "cell_type": "markdown",
   "metadata": {},
   "source": [
    "##### Global Land Temperatures By City Data\n",
    "\n",
    "This data comes from [Kaggle](https://www.kaggle.com/berkeleyearth/climate-change-earth-surface-temperature-data) dataset. They repackaged the data from Berkeley Earth, which is affiliated with Lawrence Berkeley National Labotary. The Berkeley Earth Surface Temperature Study combines 1.6 billion temperature reports from 16 pre-existing archives. Several files are available in Kaggle dataset but we will be using only the GlobalLandTemperaturesByCity. The data is located in ```../../data2/``` and there's just one file in that folder, called ```GlobalLandTemperaturesByCity.csv``` . \n",
    "\n",
    "**Data Dictionary**\n",
    "\n",
    "| Column Name                   | Description                                    | Data Type     |\n",
    "|-------------------------------|------------------------------------------------|---------------|\n",
    "| dt                            | Date (YYYY-MM-DD)                              | date          |\n",
    "| AverageTemperature            | Global average temperature in Celcius          | decimal       |\n",
    "| AverageTemperatureUncertainty | The 95% confidence interval around the average | decimal       |\n",
    "| City                          | City Name                                      | text          |\n",
    "| Country                       | Country Name                                   | text          |\n",
    "| Latitude                      | Latitude                                       | double        |\n",
    "| Longitude                     | Longitude                                      | double        |"
   ]
  },
  {
   "cell_type": "code",
   "execution_count": 15,
   "metadata": {},
   "outputs": [
    {
     "data": {
      "text/html": [
       "<table border='1'>\n",
       "<tr><th>dt</th><th>AverageTemperature</th><th>AverageTemperatureUncertainty</th><th>City</th><th>Country</th><th>Latitude</th><th>Longitude</th></tr>\n",
       "<tr><td>1743-11-01 00:00:00</td><td>6.068</td><td>1.7369999999999999</td><td>Århus</td><td>Denmark</td><td>57.05N</td><td>10.33E</td></tr>\n",
       "<tr><td>1743-12-01 00:00:00</td><td>null</td><td>null</td><td>Århus</td><td>Denmark</td><td>57.05N</td><td>10.33E</td></tr>\n",
       "<tr><td>1744-01-01 00:00:00</td><td>null</td><td>null</td><td>Århus</td><td>Denmark</td><td>57.05N</td><td>10.33E</td></tr>\n",
       "<tr><td>1744-02-01 00:00:00</td><td>null</td><td>null</td><td>Århus</td><td>Denmark</td><td>57.05N</td><td>10.33E</td></tr>\n",
       "<tr><td>1744-03-01 00:00:00</td><td>null</td><td>null</td><td>Århus</td><td>Denmark</td><td>57.05N</td><td>10.33E</td></tr>\n",
       "</table>\n"
      ],
      "text/plain": [
       "+-------------------+------------------+-----------------------------+-----+-------+--------+---------+\n",
       "|                 dt|AverageTemperature|AverageTemperatureUncertainty| City|Country|Latitude|Longitude|\n",
       "+-------------------+------------------+-----------------------------+-----+-------+--------+---------+\n",
       "|1743-11-01 00:00:00|             6.068|           1.7369999999999999|Århus|Denmark|  57.05N|   10.33E|\n",
       "|1743-12-01 00:00:00|              null|                         null|Århus|Denmark|  57.05N|   10.33E|\n",
       "|1744-01-01 00:00:00|              null|                         null|Århus|Denmark|  57.05N|   10.33E|\n",
       "|1744-02-01 00:00:00|              null|                         null|Århus|Denmark|  57.05N|   10.33E|\n",
       "|1744-03-01 00:00:00|              null|                         null|Århus|Denmark|  57.05N|   10.33E|\n",
       "+-------------------+------------------+-----------------------------+-----+-------+--------+---------+"
      ]
     },
     "execution_count": 15,
     "metadata": {},
     "output_type": "execute_result"
    }
   ],
   "source": [
    "# Read sample data Global Temperature by City\n",
    "fname = '../../data2/GlobalLandTemperaturesByCity.csv'\n",
    "df_temperature = spark.read.csv(fname, header=True, inferSchema=True)\n",
    "df_temperature.limit(5)"
   ]
  },
  {
   "cell_type": "markdown",
   "metadata": {},
   "source": [
    "##### U.S. City Demographic Data\n",
    "\n",
    "This [data](https://public.opendatasoft.com/explore/dataset/us-cities-demographics/information/) comes from the US Census Bureau's 2015 American Community Survey. This dataset contains information about the demographics of all US cities and census-designated places with a population greater or equal to 65,000. The data is located in the workspace.\n",
    "\n",
    "**Data Dictionary**\n",
    "\n",
    "| Column Name            | Description                                        | Data Type      |\n",
    "|------------------------|----------------------------------------------------|----------------|\n",
    "| City                   | City Name                                          | text           |\n",
    "| State                  | USA State                                          | text           |\n",
    "| Median Age             | The median age of population                       | decimal        |\n",
    "| Male Population        | Number of Male Population                          | integer        |\n",
    "| Female Population      | Number of Female Population                        | integer        |\n",
    "| Total Population       | Number of Total Population                         | integer        |\n",
    "| Number of Veterans     | Number of Veterans                                 | integer        |\n",
    "| Foreign-born           | Number of residents that were not born in the city | integer        |\n",
    "| Average Household Size | Average size of the house                          | decimal        |\n",
    "| State Code             | Code of the state (2 digits)                       | text           |\n",
    "| Race                   | Race                                               | text           |\n",
    "| Count                  | Number of Race                                     | integer        |"
   ]
  },
  {
   "cell_type": "code",
   "execution_count": 8,
   "metadata": {},
   "outputs": [
    {
     "data": {
      "text/html": [
       "<table border='1'>\n",
       "<tr><th>City</th><th>State</th><th>Median Age</th><th>Male Population</th><th>Female Population</th><th>Total Population</th><th>Number of Veterans</th><th>Foreign-born</th><th>Average Household Size</th><th>State Code</th><th>Race</th><th>Count</th></tr>\n",
       "<tr><td>Silver Spring</td><td>Maryland</td><td>33.8</td><td>40601</td><td>41862</td><td>82463</td><td>1562</td><td>30908</td><td>2.6</td><td>MD</td><td>Hispanic or Latino</td><td>25924</td></tr>\n",
       "<tr><td>Quincy</td><td>Massachusetts</td><td>41.0</td><td>44129</td><td>49500</td><td>93629</td><td>4147</td><td>32935</td><td>2.39</td><td>MA</td><td>White</td><td>58723</td></tr>\n",
       "<tr><td>Hoover</td><td>Alabama</td><td>38.5</td><td>38040</td><td>46799</td><td>84839</td><td>4819</td><td>8229</td><td>2.58</td><td>AL</td><td>Asian</td><td>4759</td></tr>\n",
       "<tr><td>Rancho Cucamonga</td><td>California</td><td>34.5</td><td>88127</td><td>87105</td><td>175232</td><td>5821</td><td>33878</td><td>3.18</td><td>CA</td><td>Black or African-...</td><td>24437</td></tr>\n",
       "<tr><td>Newark</td><td>New Jersey</td><td>34.6</td><td>138040</td><td>143873</td><td>281913</td><td>5829</td><td>86253</td><td>2.73</td><td>NJ</td><td>White</td><td>76402</td></tr>\n",
       "</table>\n"
      ],
      "text/plain": [
       "+----------------+-------------+----------+---------------+-----------------+----------------+------------------+------------+----------------------+----------+--------------------+-----+\n",
       "|            City|        State|Median Age|Male Population|Female Population|Total Population|Number of Veterans|Foreign-born|Average Household Size|State Code|                Race|Count|\n",
       "+----------------+-------------+----------+---------------+-----------------+----------------+------------------+------------+----------------------+----------+--------------------+-----+\n",
       "|   Silver Spring|     Maryland|      33.8|          40601|            41862|           82463|              1562|       30908|                   2.6|        MD|  Hispanic or Latino|25924|\n",
       "|          Quincy|Massachusetts|      41.0|          44129|            49500|           93629|              4147|       32935|                  2.39|        MA|               White|58723|\n",
       "|          Hoover|      Alabama|      38.5|          38040|            46799|           84839|              4819|        8229|                  2.58|        AL|               Asian| 4759|\n",
       "|Rancho Cucamonga|   California|      34.5|          88127|            87105|          175232|              5821|       33878|                  3.18|        CA|Black or African-...|24437|\n",
       "|          Newark|   New Jersey|      34.6|         138040|           143873|          281913|              5829|       86253|                  2.73|        NJ|               White|76402|\n",
       "+----------------+-------------+----------+---------------+-----------------+----------------+------------------+------------+----------------------+----------+--------------------+-----+"
      ]
     },
     "execution_count": 8,
     "metadata": {},
     "output_type": "execute_result"
    }
   ],
   "source": [
    "# Read sample data U.S City Demographic\n",
    "df_demographic = spark.read.csv(\"us-cities-demographics.csv\", sep=\";\", header=True, inferSchema=True)\n",
    "df_demographic.limit(5)"
   ]
  },
  {
   "cell_type": "markdown",
   "metadata": {},
   "source": [
    "##### Airport Code Data\n",
    "\n",
    "This data comes from [here](https://datahub.io/core/airport-codes#data). The airport codes may refer to either IATA airport code, a three-letter code which is used in passenger reservation, ticketing and baggage-handling systems, or the ICAO airport code which is a four letter code used by ATC systems and for airports that do not have an IATA airport code.\n",
    "\n",
    "**Data Dictionary**\n",
    "\n",
    "| Column Name  | Description                       | Data Type |\n",
    "|--------------|-----------------------------------|-----------|\n",
    "| ident        | Unique identifier                 | text      |\n",
    "| type         | Type of the airport               | text      |\n",
    "| name         | Airport Name                      | text      |\n",
    "| elevation_ft | Altitude of the airport           | integer   |\n",
    "| continent    | Continent                         | text      |\n",
    "| iso_country  | ISO code of the country           | text      |\n",
    "| iso_region   | ISO code of the region            | text      |\n",
    "| municipality | City where the airport is located | text      |\n",
    "| gps_code     | GPS Code                          | text      |\n",
    "| iata_code    | IATA Code                         | text      |\n",
    "| local_code   | Local Code                        | text      |\n",
    "| coordinates  | GPS coordinates                   | text      |"
   ]
  },
  {
   "cell_type": "code",
   "execution_count": 9,
   "metadata": {},
   "outputs": [
    {
     "data": {
      "text/html": [
       "<table border='1'>\n",
       "<tr><th>ident</th><th>type</th><th>name</th><th>elevation_ft</th><th>continent</th><th>iso_country</th><th>iso_region</th><th>municipality</th><th>gps_code</th><th>iata_code</th><th>local_code</th><th>coordinates</th></tr>\n",
       "<tr><td>00A</td><td>heliport</td><td>Total Rf Heliport</td><td>11</td><td>NA</td><td>US</td><td>US-PA</td><td>Bensalem</td><td>00A</td><td>null</td><td>00A</td><td>-74.9336013793945...</td></tr>\n",
       "<tr><td>00AA</td><td>small_airport</td><td>Aero B Ranch Airport</td><td>3435</td><td>NA</td><td>US</td><td>US-KS</td><td>Leoti</td><td>00AA</td><td>null</td><td>00AA</td><td>-101.473911, 38.7...</td></tr>\n",
       "<tr><td>00AK</td><td>small_airport</td><td>Lowell Field</td><td>450</td><td>NA</td><td>US</td><td>US-AK</td><td>Anchor Point</td><td>00AK</td><td>null</td><td>00AK</td><td>-151.695999146, 5...</td></tr>\n",
       "<tr><td>00AL</td><td>small_airport</td><td>Epps Airpark</td><td>820</td><td>NA</td><td>US</td><td>US-AL</td><td>Harvest</td><td>00AL</td><td>null</td><td>00AL</td><td>-86.7703018188476...</td></tr>\n",
       "<tr><td>00AR</td><td>closed</td><td>Newport Hospital ...</td><td>237</td><td>NA</td><td>US</td><td>US-AR</td><td>Newport</td><td>null</td><td>null</td><td>null</td><td>-91.254898, 35.6087</td></tr>\n",
       "</table>\n"
      ],
      "text/plain": [
       "+-----+-------------+--------------------+------------+---------+-----------+----------+------------+--------+---------+----------+--------------------+\n",
       "|ident|         type|                name|elevation_ft|continent|iso_country|iso_region|municipality|gps_code|iata_code|local_code|         coordinates|\n",
       "+-----+-------------+--------------------+------------+---------+-----------+----------+------------+--------+---------+----------+--------------------+\n",
       "|  00A|     heliport|   Total Rf Heliport|          11|       NA|         US|     US-PA|    Bensalem|     00A|     null|       00A|-74.9336013793945...|\n",
       "| 00AA|small_airport|Aero B Ranch Airport|        3435|       NA|         US|     US-KS|       Leoti|    00AA|     null|      00AA|-101.473911, 38.7...|\n",
       "| 00AK|small_airport|        Lowell Field|         450|       NA|         US|     US-AK|Anchor Point|    00AK|     null|      00AK|-151.695999146, 5...|\n",
       "| 00AL|small_airport|        Epps Airpark|         820|       NA|         US|     US-AL|     Harvest|    00AL|     null|      00AL|-86.7703018188476...|\n",
       "| 00AR|       closed|Newport Hospital ...|         237|       NA|         US|     US-AR|     Newport|    null|     null|      null| -91.254898, 35.6087|\n",
       "+-----+-------------+--------------------+------------+---------+-----------+----------+------------+--------+---------+----------+--------------------+"
      ]
     },
     "execution_count": 9,
     "metadata": {},
     "output_type": "execute_result"
    }
   ],
   "source": [
    "# Read sample data Airport Code\n",
    "df_airport = spark.read.csv(\"airport-codes_csv.csv\", header=True, inferSchema=True)\n",
    "df_airport.limit(5)"
   ]
  },
  {
   "cell_type": "markdown",
   "metadata": {},
   "source": [
    "### Step 2: Explore and Assess the Data\n",
    "### Explore the Data \n",
    "We will explore each dataset and identify data quality issues, like missing values, duplicate data and other issues.\n",
    "\n",
    "#### I94 Immigration Data\n",
    "\n",
    "**EDA**\n",
    "\n",
    "First we need to identify primary key from this data. From below statements, we can sure that ccid is the primary key as total unique ccid equal to total rows."
   ]
  },
  {
   "cell_type": "code",
   "execution_count": 10,
   "metadata": {},
   "outputs": [
    {
     "name": "stdout",
     "output_type": "stream",
     "text": [
      "Total rows in immigration table: 3096313\n",
      "Total unique ccid in immigration table: 3096313\n"
     ]
    }
   ],
   "source": [
    "# count the total number of records\n",
    "total_immigration = df_immigration.count()\n",
    "total_ccid = df_immigration.select(\"cicid\").distinct().count()\n",
    "print(\"Total rows in immigration table: {}\".format(total_immigration))\n",
    "print(\"Total unique ccid in immigration table: {}\".format(total_ccid))"
   ]
  },
  {
   "cell_type": "markdown",
   "metadata": {},
   "source": [
    "Some columns should have ```Integer``` type but Spark loaded them as ```Double```. We need to correct these columns."
   ]
  },
  {
   "cell_type": "code",
   "execution_count": 11,
   "metadata": {},
   "outputs": [],
   "source": [
    "# cast to IntegerType\n",
    "cols = ['cicid', 'i94yr', 'i94mon', 'i94cit', 'i94res', 'i94mode','i94bir','i94visa', 'biryear']\n",
    "\n",
    "for column in cols:\n",
    "    df_immigration = df_immigration.withColumn(column,round(df_immigration[column]).cast(IntegerType()))\n"
   ]
  },
  {
   "cell_type": "markdown",
   "metadata": {},
   "source": [
    "After explore unique values of each column and analyze the use, we need to discard meaningless columns from this dataset"
   ]
  },
  {
   "cell_type": "code",
   "execution_count": 12,
   "metadata": {},
   "outputs": [],
   "source": [
    "# columns that need to be removed\n",
    "cols = ['count', 'dtadfile', 'entdepa','entdepd','matflag','dtaddto','admnum']\n",
    "\n",
    "# drop these columns\n",
    "df_immigration = df_immigration.drop(*cols)"
   ]
  },
  {
   "cell_type": "markdown",
   "metadata": {},
   "source": [
    "If we check ```I94_SAS_Labels_Description.SAS``` file in the workshop, we could find other information that will help us to create dimension tables. First dimension table that we will create is **Country**. ```i94city``` and ```i94res``` will refer to this table."
   ]
  },
  {
   "cell_type": "code",
   "execution_count": 13,
   "metadata": {},
   "outputs": [
    {
     "name": "stdout",
     "output_type": "stream",
     "text": [
      "root\n",
      " |-- CountryCode: integer (nullable = true)\n",
      " |-- CountryName: string (nullable = true)\n",
      "\n"
     ]
    },
    {
     "data": {
      "text/html": [
       "<table border='1'>\n",
       "<tr><th>CountryCode</th><th>CountryName</th></tr>\n",
       "<tr><td>582</td><td>MEXICO Air Sea, a...</td></tr>\n",
       "<tr><td>236</td><td>AFGHANISTAN</td></tr>\n",
       "<tr><td>101</td><td>ALBANIA</td></tr>\n",
       "<tr><td>316</td><td>ALGERIA</td></tr>\n",
       "<tr><td>102</td><td>ANDORRA</td></tr>\n",
       "</table>\n"
      ],
      "text/plain": [
       "+-----------+--------------------+\n",
       "|CountryCode|         CountryName|\n",
       "+-----------+--------------------+\n",
       "|        582|MEXICO Air Sea, a...|\n",
       "|        236|         AFGHANISTAN|\n",
       "|        101|             ALBANIA|\n",
       "|        316|             ALGERIA|\n",
       "|        102|             ANDORRA|\n",
       "+-----------+--------------------+"
      ]
     },
     "execution_count": 13,
     "metadata": {},
     "output_type": "execute_result"
    }
   ],
   "source": [
    "# get first dimension: Country\n",
    "df_country = spark.read.csv(\"Country_Name.csv\", sep=\",\", header=True, inferSchema=True)\n",
    "df_country.printSchema()\n",
    "df_country.limit(5)"
   ]
  },
  {
   "cell_type": "markdown",
   "metadata": {},
   "source": [
    "Next dimension table is **Port**. ```i94port``` will refer to this table."
   ]
  },
  {
   "cell_type": "code",
   "execution_count": 26,
   "metadata": {},
   "outputs": [
    {
     "name": "stdout",
     "output_type": "stream",
     "text": [
      "root\n",
      " |-- port_code: string (nullable = true)\n",
      " |-- port_name: string (nullable = true)\n",
      "\n"
     ]
    },
    {
     "data": {
      "text/html": [
       "<table border='1'>\n",
       "<tr><th>port_code</th><th>port_name</th></tr>\n",
       "<tr><td>ALC</td><td>ALCAN, AK</td></tr>\n",
       "<tr><td>ANC</td><td>ANCHORAGE, AK</td></tr>\n",
       "<tr><td>BAR</td><td>BAKER AAF - BAKER...</td></tr>\n",
       "<tr><td>DAC</td><td>DALTONS CACHE, AK</td></tr>\n",
       "<tr><td>PIZ</td><td>DEW STATION PT LA...</td></tr>\n",
       "</table>\n"
      ],
      "text/plain": [
       "+---------+--------------------+\n",
       "|port_code|           port_name|\n",
       "+---------+--------------------+\n",
       "|      ALC|           ALCAN, AK|\n",
       "|      ANC|       ANCHORAGE, AK|\n",
       "|      BAR|BAKER AAF - BAKER...|\n",
       "|      DAC|   DALTONS CACHE, AK|\n",
       "|      PIZ|DEW STATION PT LA...|\n",
       "+---------+--------------------+"
      ]
     },
     "execution_count": 26,
     "metadata": {},
     "output_type": "execute_result"
    }
   ],
   "source": [
    "# get next dimension: Port\n",
    "df_port = spark.read.csv(\"Port_Name.csv\", sep=\",\", header=True, inferSchema=True)\n",
    "\n",
    "# rename the columns so it will align with Redshift schema\n",
    "df_port = df_port.withColumnRenamed(\"PortCode\",\"port_code\") \\\n",
    "                 .withColumnRenamed(\"PortName\",\"port_name\") \n",
    "\n",
    "df_port.printSchema()\n",
    "df_port.limit(5)"
   ]
  },
  {
   "cell_type": "markdown",
   "metadata": {},
   "source": [
    "As ```arrdate``` and ```depdate``` using SAS date format, we need to convert these to standard date time format in SQL."
   ]
  },
  {
   "cell_type": "code",
   "execution_count": 27,
   "metadata": {},
   "outputs": [],
   "source": [
    "# convert SAS date format to standard date format\n",
    "df_immigration = df_immigration.withColumn('arrival_date', expr(\"date_add('1960-01-01', arrdate)\"))\n",
    "df_immigration = df_immigration.withColumn('departure_date', expr(\"date_add('1960-01-01', depdate)\"))"
   ]
  },
  {
   "cell_type": "markdown",
   "metadata": {},
   "source": [
    "We need to check if ```departure_date``` > ```arrival_date```. If not follow this rule, we need to drop the rows."
   ]
  },
  {
   "cell_type": "code",
   "execution_count": 28,
   "metadata": {},
   "outputs": [
    {
     "data": {
      "text/plain": [
       "3095938"
      ]
     },
     "execution_count": 28,
     "metadata": {},
     "output_type": "execute_result"
    }
   ],
   "source": [
    "# remove rows where duration_stay < 0\n",
    "# keep rows where duration_stay isnull as departure_date might be empty\n",
    "df_immigration = df_immigration.withColumn('duration_stay', datediff(col('departure_date'),col('arrival_date')))\n",
    "df_immigration = df_immigration.filter('duration_stay > 0 or duration_stay is null') \n",
    "df_immigration.count()"
   ]
  },
  {
   "cell_type": "markdown",
   "metadata": {},
   "source": [
    "For best practice, it will be great to have dimension calendar table. Usually it will help us a lot if we create financial reports (create measurement Month To Date, Year To Date, etc). We will create this dimension table based on ```arrival_date``` and ```departure_date```."
   ]
  },
  {
   "cell_type": "code",
   "execution_count": 30,
   "metadata": {
    "scrolled": true
   },
   "outputs": [
    {
     "name": "stdout",
     "output_type": "stream",
     "text": [
      "root\n",
      " |-- date_deparr: date (nullable = true)\n",
      " |-- year_deparr: integer (nullable = true)\n",
      " |-- month_deparr: integer (nullable = true)\n",
      " |-- day_deparr: integer (nullable = true)\n",
      " |-- quarter_deparr: integer (nullable = true)\n",
      "\n"
     ]
    },
    {
     "data": {
      "text/html": [
       "<table border='1'>\n",
       "<tr><th>date_deparr</th><th>year_deparr</th><th>month_deparr</th><th>day_deparr</th><th>quarter_deparr</th></tr>\n",
       "<tr><td>2016-04-25</td><td>2016</td><td>4</td><td>25</td><td>2</td></tr>\n",
       "<tr><td>2016-05-03</td><td>2016</td><td>5</td><td>3</td><td>2</td></tr>\n",
       "<tr><td>2016-08-15</td><td>2016</td><td>8</td><td>15</td><td>3</td></tr>\n",
       "<tr><td>2016-08-31</td><td>2016</td><td>8</td><td>31</td><td>3</td></tr>\n",
       "<tr><td>2016-07-26</td><td>2016</td><td>7</td><td>26</td><td>3</td></tr>\n",
       "</table>\n"
      ],
      "text/plain": [
       "+-----------+-----------+------------+----------+--------------+\n",
       "|date_deparr|year_deparr|month_deparr|day_deparr|quarter_deparr|\n",
       "+-----------+-----------+------------+----------+--------------+\n",
       "| 2016-04-25|       2016|           4|        25|             2|\n",
       "| 2016-05-03|       2016|           5|         3|             2|\n",
       "| 2016-08-15|       2016|           8|        15|             3|\n",
       "| 2016-08-31|       2016|           8|        31|             3|\n",
       "| 2016-07-26|       2016|           7|        26|             3|\n",
       "+-----------+-----------+------------+----------+--------------+"
      ]
     },
     "execution_count": 30,
     "metadata": {},
     "output_type": "execute_result"
    }
   ],
   "source": [
    "# create dimension date, combine arrival and departure date\n",
    "df_temp  = df_immigration.select(col(\"arrival_date\").alias(\"date_deparr\")).distinct()\n",
    "df_temp2 = df_immigration.select(col(\"departure_date\").alias(\"date_deparr\")).distinct()\n",
    "df_calendar = df_temp.union(df_temp2)\n",
    "df_calendar = df_calendar.distinct()\n",
    "\n",
    "# derived year, month, day from date\n",
    "df_calendar = df_calendar.withColumn(\"year_deparr\", year(col(\"date_deparr\"))) \\\n",
    ".withColumn(\"month_deparr\", month(col(\"date_deparr\"))) \\\n",
    ".withColumn(\"day_deparr\", dayofmonth(col(\"date_deparr\"))) \\\n",
    ".withColumn(\"quarter_deparr\", quarter(col(\"date_deparr\")))\n",
    "\n",
    "df_calendar.printSchema()\n",
    "df_calendar.limit(5)"
   ]
  },
  {
   "cell_type": "code",
   "execution_count": 46,
   "metadata": {},
   "outputs": [
    {
     "data": {
      "text/plain": [
       "0"
      ]
     },
     "execution_count": 46,
     "metadata": {},
     "output_type": "execute_result"
    }
   ],
   "source": [
    "# remove rows based on missing values\n",
    "df_calendar = df_calendar.na.drop(subset=(\"date_deparr\"))\n",
    "\n",
    "# count null values\n",
    "df_calendar.filter(\"date_deparr is null\").count()"
   ]
  },
  {
   "cell_type": "markdown",
   "metadata": {},
   "source": [
    "Next dimension table is **Mode of Transportation**. ```i94mode``` will refer to this table."
   ]
  },
  {
   "cell_type": "code",
   "execution_count": 31,
   "metadata": {},
   "outputs": [
    {
     "name": "stdout",
     "output_type": "stream",
     "text": [
      "root\n",
      " |-- mode_code: integer (nullable = true)\n",
      " |-- mode_name: string (nullable = true)\n",
      "\n"
     ]
    },
    {
     "data": {
      "text/html": [
       "<table border='1'>\n",
       "<tr><th>mode_code</th><th>mode_name</th></tr>\n",
       "<tr><td>1</td><td>Air</td></tr>\n",
       "<tr><td>2</td><td>Sea</td></tr>\n",
       "<tr><td>3</td><td>Land</td></tr>\n",
       "<tr><td>9</td><td>Not reported</td></tr>\n",
       "</table>\n"
      ],
      "text/plain": [
       "+---------+------------+\n",
       "|mode_code|   mode_name|\n",
       "+---------+------------+\n",
       "|        1|         Air|\n",
       "|        2|         Sea|\n",
       "|        3|        Land|\n",
       "|        9|Not reported|\n",
       "+---------+------------+"
      ]
     },
     "execution_count": 31,
     "metadata": {},
     "output_type": "execute_result"
    }
   ],
   "source": [
    "# create dimension table\n",
    "df_mode_trans = spark.createDataFrame([(1, \"Air\"), (2, \"Sea\"), (3, \"Land\"), (9, \"Not reported\")], (\"mode_code\", \"mode_name\"))\n",
    "df_mode_trans = df_mode_trans.withColumn(\"mode_code\",col(\"mode_code\").cast(IntegerType()))\n",
    "df_mode_trans.printSchema()\n",
    "df_mode_trans.limit(5)"
   ]
  },
  {
   "cell_type": "markdown",
   "metadata": {},
   "source": [
    "Assume that null values in ```i94mode``` equal to 9 so we could replace this null values."
   ]
  },
  {
   "cell_type": "code",
   "execution_count": 12,
   "metadata": {},
   "outputs": [
    {
     "data": {
      "text/html": [
       "<table border='1'>\n",
       "<tr><th>i94mode</th></tr>\n",
       "<tr><td>1.0</td></tr>\n",
       "<tr><td>3.0</td></tr>\n",
       "<tr><td>2.0</td></tr>\n",
       "<tr><td>9.0</td></tr>\n",
       "</table>\n"
      ],
      "text/plain": [
       "+-------+\n",
       "|i94mode|\n",
       "+-------+\n",
       "|    1.0|\n",
       "|    3.0|\n",
       "|    2.0|\n",
       "|    9.0|\n",
       "+-------+"
      ]
     },
     "execution_count": 12,
     "metadata": {},
     "output_type": "execute_result"
    }
   ],
   "source": [
    "df_immigration = df_immigration.fillna({'i94mode':9})\n",
    "df_immigration.select(\"i94mode\").distinct().limit(5)"
   ]
  },
  {
   "cell_type": "markdown",
   "metadata": {},
   "source": [
    "Next dimension table is **State**. ```i94addr``` will refer to this table."
   ]
  },
  {
   "cell_type": "code",
   "execution_count": 33,
   "metadata": {},
   "outputs": [
    {
     "name": "stdout",
     "output_type": "stream",
     "text": [
      "root\n",
      " |-- StateCode: string (nullable = true)\n",
      " |-- StateName: string (nullable = true)\n",
      "\n"
     ]
    },
    {
     "data": {
      "text/html": [
       "<table border='1'>\n",
       "<tr><th>StateCode</th><th>StateName</th></tr>\n",
       "<tr><td>AL</td><td>ALABAMA</td></tr>\n",
       "<tr><td>AK</td><td>ALASKA</td></tr>\n",
       "<tr><td>AZ</td><td>ARIZONA</td></tr>\n",
       "<tr><td>AR</td><td>ARKANSAS</td></tr>\n",
       "<tr><td>CA</td><td>CALIFORNIA</td></tr>\n",
       "</table>\n"
      ],
      "text/plain": [
       "+---------+----------+\n",
       "|StateCode| StateName|\n",
       "+---------+----------+\n",
       "|       AL|   ALABAMA|\n",
       "|       AK|    ALASKA|\n",
       "|       AZ|   ARIZONA|\n",
       "|       AR|  ARKANSAS|\n",
       "|       CA|CALIFORNIA|\n",
       "+---------+----------+"
      ]
     },
     "execution_count": 33,
     "metadata": {},
     "output_type": "execute_result"
    }
   ],
   "source": [
    "# get State description\n",
    "df_state = spark.read.csv(\"State_Name.csv\", sep=\",\", header=True, inferSchema=True)\n",
    "df_state.printSchema()\n",
    "df_state.limit(5)"
   ]
  },
  {
   "cell_type": "markdown",
   "metadata": {},
   "source": [
    "Replace invalid value of ```i94addr``` with value 99 (All Other Codes)"
   ]
  },
  {
   "cell_type": "code",
   "execution_count": 14,
   "metadata": {},
   "outputs": [],
   "source": [
    "# collect valid code of State\n",
    "list_state = df_state.select(\"StateCode\").rdd.flatMap(lambda x: x).collect()\n",
    "\n",
    "# replace invalid code with 99 (All Other Codes)\n",
    "df_immigration = df_immigration.withColumn('i94addr', \\\n",
    "                   when(df_immigration.i94addr.isin(list_state),df_immigration['i94addr']).otherwise('99'))"
   ]
  },
  {
   "cell_type": "markdown",
   "metadata": {},
   "source": [
    "Now we need to check whether there are invalid values of Age ( ```i94bir``` )."
   ]
  },
  {
   "cell_type": "code",
   "execution_count": 15,
   "metadata": {},
   "outputs": [
    {
     "data": {
      "text/html": [
       "<table border='1'>\n",
       "<tr><th>i94bir</th><th>count</th></tr>\n",
       "<tr><td>null</td><td>800</td></tr>\n",
       "<tr><td>-3.0</td><td>1</td></tr>\n",
       "</table>\n"
      ],
      "text/plain": [
       "+------+-----+\n",
       "|i94bir|count|\n",
       "+------+-----+\n",
       "|  null|  800|\n",
       "|  -3.0|    1|\n",
       "+------+-----+"
      ]
     },
     "execution_count": 15,
     "metadata": {},
     "output_type": "execute_result"
    }
   ],
   "source": [
    "df_immigration.where('i94bir is null or i94bir < 0').groupBy('i94bir').count().limit(5)"
   ]
  },
  {
   "cell_type": "markdown",
   "metadata": {},
   "source": [
    "We assume that these are invalid data and we need to remove these rows."
   ]
  },
  {
   "cell_type": "code",
   "execution_count": 16,
   "metadata": {},
   "outputs": [],
   "source": [
    "# drop rows where Age Is Null or Age < 0\n",
    "df_immigration = df_immigration.filter('i94bir is not null and i94bir >= 0')"
   ]
  },
  {
   "cell_type": "markdown",
   "metadata": {},
   "source": [
    "Next dimension table is **Visa Category**. ```i94visa``` will refer to this table."
   ]
  },
  {
   "cell_type": "code",
   "execution_count": 41,
   "metadata": {},
   "outputs": [
    {
     "name": "stdout",
     "output_type": "stream",
     "text": [
      "root\n",
      " |-- visacat_code: integer (nullable = true)\n",
      " |-- visa_category: string (nullable = true)\n",
      "\n"
     ]
    },
    {
     "data": {
      "text/html": [
       "<table border='1'>\n",
       "<tr><th>visacat_code</th><th>visa_category</th></tr>\n",
       "<tr><td>1</td><td>Business</td></tr>\n",
       "<tr><td>2</td><td>Pleasure</td></tr>\n",
       "<tr><td>3</td><td>Student</td></tr>\n",
       "</table>\n"
      ],
      "text/plain": [
       "+------------+-------------+\n",
       "|visacat_code|visa_category|\n",
       "+------------+-------------+\n",
       "|           1|     Business|\n",
       "|           2|     Pleasure|\n",
       "|           3|      Student|\n",
       "+------------+-------------+"
      ]
     },
     "execution_count": 41,
     "metadata": {},
     "output_type": "execute_result"
    }
   ],
   "source": [
    "# create dimension table\n",
    "df_visa_cat = spark.createDataFrame([(1, \"Business\"), (2, \"Pleasure\"), (3, \"Student\")], (\"visacat_code\", \"visa_category\"))\n",
    "df_visa_cat = df_visa_cat.withColumn(\"visacat_code\",col(\"visacat_code\").cast(IntegerType()))\n",
    "df_visa_cat.printSchema()\n",
    "df_visa_cat.limit(5)"
   ]
  },
  {
   "cell_type": "markdown",
   "metadata": {},
   "source": [
    "The last data that we need to check is ```gender```. We found many invalid gender: (null,'U','X')"
   ]
  },
  {
   "cell_type": "code",
   "execution_count": 18,
   "metadata": {},
   "outputs": [
    {
     "data": {
      "text/html": [
       "<table border='1'>\n",
       "<tr><th>gender</th><th>count</th></tr>\n",
       "<tr><td>F</td><td>1302257</td></tr>\n",
       "<tr><td>null</td><td>414268</td></tr>\n",
       "<tr><td>M</td><td>1376762</td></tr>\n",
       "<tr><td>U</td><td>243</td></tr>\n",
       "<tr><td>X</td><td>1607</td></tr>\n",
       "</table>\n"
      ],
      "text/plain": [
       "+------+-------+\n",
       "|gender|  count|\n",
       "+------+-------+\n",
       "|     F|1302257|\n",
       "|  null| 414268|\n",
       "|     M|1376762|\n",
       "|     U|    243|\n",
       "|     X|   1607|\n",
       "+------+-------+"
      ]
     },
     "execution_count": 18,
     "metadata": {},
     "output_type": "execute_result"
    }
   ],
   "source": [
    "df_immigration.groupBy('gender').count().limit(10)"
   ]
  },
  {
   "cell_type": "markdown",
   "metadata": {},
   "source": [
    "As we lack information to identify these invalid gender, we replace these values with constant value = 'N/A'"
   ]
  },
  {
   "cell_type": "code",
   "execution_count": 19,
   "metadata": {},
   "outputs": [],
   "source": [
    "# valid gender\n",
    "list_gender = ['F', 'M']\n",
    "\n",
    "# replace invalid code with N/A\n",
    "df_immigration = df_immigration.withColumn('gender', \\\n",
    "                   when(df_immigration.gender.isin(list_gender),df_immigration['gender']).otherwise('N/A'))"
   ]
  },
  {
   "cell_type": "code",
   "execution_count": 20,
   "metadata": {},
   "outputs": [
    {
     "data": {
      "text/html": [
       "<table border='1'>\n",
       "<tr><th>gender</th><th>count</th></tr>\n",
       "<tr><td>F</td><td>1302257</td></tr>\n",
       "<tr><td>M</td><td>1376762</td></tr>\n",
       "<tr><td>N/A</td><td>416118</td></tr>\n",
       "</table>\n"
      ],
      "text/plain": [
       "+------+-------+\n",
       "|gender|  count|\n",
       "+------+-------+\n",
       "|     F|1302257|\n",
       "|     M|1376762|\n",
       "|   N/A| 416118|\n",
       "+------+-------+"
      ]
     },
     "execution_count": 20,
     "metadata": {},
     "output_type": "execute_result"
    }
   ],
   "source": [
    "df_immigration.groupBy('gender').count().limit(10)"
   ]
  },
  {
   "cell_type": "markdown",
   "metadata": {},
   "source": [
    "**Missing Values**\n",
    "\n",
    "We need to identify % missing percentage for all columns. Assume we only accept % missing percentages below or equal to 30%. \n",
    "If more than 30% than we need to remove the column.\n",
    "As we can see below, there are 4 columns that have missing values percentage more than 30% : visapost, occup, entdepu, insnum"
   ]
  },
  {
   "cell_type": "code",
   "execution_count": 21,
   "metadata": {},
   "outputs": [
    {
     "name": "stderr",
     "output_type": "stream",
     "text": [
      "/opt/conda/lib/python3.6/site-packages/pyarrow/util.py:43: FutureWarning:\n",
      "\n",
      "pyarrow.open_stream is deprecated as of 0.17.0, please use pyarrow.ipc.open_stream instead.\n",
      "\n"
     ]
    }
   ],
   "source": [
    "# count missing value for each column\n",
    "df_nan_imm = df_immigration.select([count(when(col(c).isNull(), c))\\\n",
    "            .alias(c) for c in df_immigration.columns]).toPandas()"
   ]
  },
  {
   "cell_type": "code",
   "execution_count": 22,
   "metadata": {},
   "outputs": [
    {
     "data": {
      "application/vnd.plotly.v1+json": {
       "config": {
        "plotlyServerURL": "https://plot.ly"
       },
       "data": [
        {
         "alignmentgroup": "True",
         "hoverlabel": {
          "namelength": 0
         },
         "hovertemplate": "columns=%{x}<br>% Missing Values=%{y}",
         "legendgroup": "depdate",
         "marker": {
          "color": "#636efa"
         },
         "name": "depdate",
         "offsetgroup": "depdate",
         "orientation": "v",
         "showlegend": true,
         "textposition": "auto",
         "type": "bar",
         "x": [
          "depdate"
         ],
         "xaxis": "x",
         "y": [
          4.576475311120032
         ],
         "yaxis": "y"
        },
        {
         "alignmentgroup": "True",
         "hoverlabel": {
          "namelength": 0
         },
         "hovertemplate": "columns=%{x}<br>% Missing Values=%{y}",
         "legendgroup": "visapost",
         "marker": {
          "color": "#EF553B"
         },
         "name": "visapost",
         "offsetgroup": "visapost",
         "orientation": "v",
         "showlegend": true,
         "textposition": "auto",
         "type": "bar",
         "x": [
          "visapost"
         ],
         "xaxis": "x",
         "y": [
          60.72325375373872
         ],
         "yaxis": "y"
        },
        {
         "alignmentgroup": "True",
         "hoverlabel": {
          "namelength": 0
         },
         "hovertemplate": "columns=%{x}<br>% Missing Values=%{y}",
         "legendgroup": "occup",
         "marker": {
          "color": "#00cc96"
         },
         "name": "occup",
         "offsetgroup": "occup",
         "orientation": "v",
         "showlegend": true,
         "textposition": "auto",
         "type": "bar",
         "x": [
          "occup"
         ],
         "xaxis": "x",
         "y": [
          99.6996104721971
         ],
         "yaxis": "y"
        },
        {
         "alignmentgroup": "True",
         "hoverlabel": {
          "namelength": 0
         },
         "hovertemplate": "columns=%{x}<br>% Missing Values=%{y}",
         "legendgroup": "entdepd",
         "marker": {
          "color": "#ab63fa"
         },
         "name": "entdepd",
         "offsetgroup": "entdepd",
         "orientation": "v",
         "showlegend": true,
         "textposition": "auto",
         "type": "bar",
         "x": [
          "entdepd"
         ],
         "xaxis": "x",
         "y": [
          4.446417400308044
         ],
         "yaxis": "y"
        },
        {
         "alignmentgroup": "True",
         "hoverlabel": {
          "namelength": 0
         },
         "hovertemplate": "columns=%{x}<br>% Missing Values=%{y}",
         "legendgroup": "entdepu",
         "marker": {
          "color": "#FFA15A"
         },
         "name": "entdepu",
         "offsetgroup": "entdepu",
         "orientation": "v",
         "showlegend": true,
         "textposition": "auto",
         "type": "bar",
         "x": [
          "entdepu"
         ],
         "xaxis": "x",
         "y": [
          99.94935912486883
         ],
         "yaxis": "y"
        },
        {
         "alignmentgroup": "True",
         "hoverlabel": {
          "namelength": 0
         },
         "hovertemplate": "columns=%{x}<br>% Missing Values=%{y}",
         "legendgroup": "matflag",
         "marker": {
          "color": "#19d3f3"
         },
         "name": "matflag",
         "offsetgroup": "matflag",
         "orientation": "v",
         "showlegend": true,
         "textposition": "auto",
         "type": "bar",
         "x": [
          "matflag"
         ],
         "xaxis": "x",
         "y": [
          4.446417400308044
         ],
         "yaxis": "y"
        },
        {
         "alignmentgroup": "True",
         "hoverlabel": {
          "namelength": 0
         },
         "hovertemplate": "columns=%{x}<br>% Missing Values=%{y}",
         "legendgroup": "insnum",
         "marker": {
          "color": "#FF6692"
         },
         "name": "insnum",
         "offsetgroup": "insnum",
         "orientation": "v",
         "showlegend": true,
         "textposition": "auto",
         "type": "bar",
         "x": [
          "insnum"
         ],
         "xaxis": "x",
         "y": [
          96.31991339376866
         ],
         "yaxis": "y"
        },
        {
         "alignmentgroup": "True",
         "hoverlabel": {
          "namelength": 0
         },
         "hovertemplate": "columns=%{x}<br>% Missing Values=%{y}",
         "legendgroup": "airline",
         "marker": {
          "color": "#B6E880"
         },
         "name": "airline",
         "offsetgroup": "airline",
         "orientation": "v",
         "showlegend": true,
         "textposition": "auto",
         "type": "bar",
         "x": [
          "airline"
         ],
         "xaxis": "x",
         "y": [
          2.6904579737255245
         ],
         "yaxis": "y"
        },
        {
         "alignmentgroup": "True",
         "hoverlabel": {
          "namelength": 0
         },
         "hovertemplate": "columns=%{x}<br>% Missing Values=%{y}",
         "legendgroup": "departure_date",
         "marker": {
          "color": "#FF97FF"
         },
         "name": "departure_date",
         "offsetgroup": "departure_date",
         "orientation": "v",
         "showlegend": true,
         "textposition": "auto",
         "type": "bar",
         "x": [
          "departure_date"
         ],
         "xaxis": "x",
         "y": [
          4.576475311120032
         ],
         "yaxis": "y"
        },
        {
         "alignmentgroup": "True",
         "hoverlabel": {
          "namelength": 0
         },
         "hovertemplate": "columns=%{x}<br>% Missing Values=%{y}",
         "legendgroup": "duration_stay",
         "marker": {
          "color": "#FECB52"
         },
         "name": "duration_stay",
         "offsetgroup": "duration_stay",
         "orientation": "v",
         "showlegend": true,
         "textposition": "auto",
         "type": "bar",
         "x": [
          "duration_stay"
         ],
         "xaxis": "x",
         "y": [
          4.576475311120032
         ],
         "yaxis": "y"
        }
       ],
       "layout": {
        "barmode": "relative",
        "legend": {
         "title": {
          "text": "columns"
         },
         "tracegroupgap": 0
        },
        "margin": {
         "t": 60
        },
        "template": {
         "data": {
          "bar": [
           {
            "error_x": {
             "color": "#2a3f5f"
            },
            "error_y": {
             "color": "#2a3f5f"
            },
            "marker": {
             "line": {
              "color": "#E5ECF6",
              "width": 0.5
             }
            },
            "type": "bar"
           }
          ],
          "barpolar": [
           {
            "marker": {
             "line": {
              "color": "#E5ECF6",
              "width": 0.5
             }
            },
            "type": "barpolar"
           }
          ],
          "carpet": [
           {
            "aaxis": {
             "endlinecolor": "#2a3f5f",
             "gridcolor": "white",
             "linecolor": "white",
             "minorgridcolor": "white",
             "startlinecolor": "#2a3f5f"
            },
            "baxis": {
             "endlinecolor": "#2a3f5f",
             "gridcolor": "white",
             "linecolor": "white",
             "minorgridcolor": "white",
             "startlinecolor": "#2a3f5f"
            },
            "type": "carpet"
           }
          ],
          "choropleth": [
           {
            "colorbar": {
             "outlinewidth": 0,
             "ticks": ""
            },
            "type": "choropleth"
           }
          ],
          "contour": [
           {
            "colorbar": {
             "outlinewidth": 0,
             "ticks": ""
            },
            "colorscale": [
             [
              0,
              "#0d0887"
             ],
             [
              0.1111111111111111,
              "#46039f"
             ],
             [
              0.2222222222222222,
              "#7201a8"
             ],
             [
              0.3333333333333333,
              "#9c179e"
             ],
             [
              0.4444444444444444,
              "#bd3786"
             ],
             [
              0.5555555555555556,
              "#d8576b"
             ],
             [
              0.6666666666666666,
              "#ed7953"
             ],
             [
              0.7777777777777778,
              "#fb9f3a"
             ],
             [
              0.8888888888888888,
              "#fdca26"
             ],
             [
              1,
              "#f0f921"
             ]
            ],
            "type": "contour"
           }
          ],
          "contourcarpet": [
           {
            "colorbar": {
             "outlinewidth": 0,
             "ticks": ""
            },
            "type": "contourcarpet"
           }
          ],
          "heatmap": [
           {
            "colorbar": {
             "outlinewidth": 0,
             "ticks": ""
            },
            "colorscale": [
             [
              0,
              "#0d0887"
             ],
             [
              0.1111111111111111,
              "#46039f"
             ],
             [
              0.2222222222222222,
              "#7201a8"
             ],
             [
              0.3333333333333333,
              "#9c179e"
             ],
             [
              0.4444444444444444,
              "#bd3786"
             ],
             [
              0.5555555555555556,
              "#d8576b"
             ],
             [
              0.6666666666666666,
              "#ed7953"
             ],
             [
              0.7777777777777778,
              "#fb9f3a"
             ],
             [
              0.8888888888888888,
              "#fdca26"
             ],
             [
              1,
              "#f0f921"
             ]
            ],
            "type": "heatmap"
           }
          ],
          "heatmapgl": [
           {
            "colorbar": {
             "outlinewidth": 0,
             "ticks": ""
            },
            "colorscale": [
             [
              0,
              "#0d0887"
             ],
             [
              0.1111111111111111,
              "#46039f"
             ],
             [
              0.2222222222222222,
              "#7201a8"
             ],
             [
              0.3333333333333333,
              "#9c179e"
             ],
             [
              0.4444444444444444,
              "#bd3786"
             ],
             [
              0.5555555555555556,
              "#d8576b"
             ],
             [
              0.6666666666666666,
              "#ed7953"
             ],
             [
              0.7777777777777778,
              "#fb9f3a"
             ],
             [
              0.8888888888888888,
              "#fdca26"
             ],
             [
              1,
              "#f0f921"
             ]
            ],
            "type": "heatmapgl"
           }
          ],
          "histogram": [
           {
            "marker": {
             "colorbar": {
              "outlinewidth": 0,
              "ticks": ""
             }
            },
            "type": "histogram"
           }
          ],
          "histogram2d": [
           {
            "colorbar": {
             "outlinewidth": 0,
             "ticks": ""
            },
            "colorscale": [
             [
              0,
              "#0d0887"
             ],
             [
              0.1111111111111111,
              "#46039f"
             ],
             [
              0.2222222222222222,
              "#7201a8"
             ],
             [
              0.3333333333333333,
              "#9c179e"
             ],
             [
              0.4444444444444444,
              "#bd3786"
             ],
             [
              0.5555555555555556,
              "#d8576b"
             ],
             [
              0.6666666666666666,
              "#ed7953"
             ],
             [
              0.7777777777777778,
              "#fb9f3a"
             ],
             [
              0.8888888888888888,
              "#fdca26"
             ],
             [
              1,
              "#f0f921"
             ]
            ],
            "type": "histogram2d"
           }
          ],
          "histogram2dcontour": [
           {
            "colorbar": {
             "outlinewidth": 0,
             "ticks": ""
            },
            "colorscale": [
             [
              0,
              "#0d0887"
             ],
             [
              0.1111111111111111,
              "#46039f"
             ],
             [
              0.2222222222222222,
              "#7201a8"
             ],
             [
              0.3333333333333333,
              "#9c179e"
             ],
             [
              0.4444444444444444,
              "#bd3786"
             ],
             [
              0.5555555555555556,
              "#d8576b"
             ],
             [
              0.6666666666666666,
              "#ed7953"
             ],
             [
              0.7777777777777778,
              "#fb9f3a"
             ],
             [
              0.8888888888888888,
              "#fdca26"
             ],
             [
              1,
              "#f0f921"
             ]
            ],
            "type": "histogram2dcontour"
           }
          ],
          "mesh3d": [
           {
            "colorbar": {
             "outlinewidth": 0,
             "ticks": ""
            },
            "type": "mesh3d"
           }
          ],
          "parcoords": [
           {
            "line": {
             "colorbar": {
              "outlinewidth": 0,
              "ticks": ""
             }
            },
            "type": "parcoords"
           }
          ],
          "pie": [
           {
            "automargin": true,
            "type": "pie"
           }
          ],
          "scatter": [
           {
            "marker": {
             "colorbar": {
              "outlinewidth": 0,
              "ticks": ""
             }
            },
            "type": "scatter"
           }
          ],
          "scatter3d": [
           {
            "line": {
             "colorbar": {
              "outlinewidth": 0,
              "ticks": ""
             }
            },
            "marker": {
             "colorbar": {
              "outlinewidth": 0,
              "ticks": ""
             }
            },
            "type": "scatter3d"
           }
          ],
          "scattercarpet": [
           {
            "marker": {
             "colorbar": {
              "outlinewidth": 0,
              "ticks": ""
             }
            },
            "type": "scattercarpet"
           }
          ],
          "scattergeo": [
           {
            "marker": {
             "colorbar": {
              "outlinewidth": 0,
              "ticks": ""
             }
            },
            "type": "scattergeo"
           }
          ],
          "scattergl": [
           {
            "marker": {
             "colorbar": {
              "outlinewidth": 0,
              "ticks": ""
             }
            },
            "type": "scattergl"
           }
          ],
          "scattermapbox": [
           {
            "marker": {
             "colorbar": {
              "outlinewidth": 0,
              "ticks": ""
             }
            },
            "type": "scattermapbox"
           }
          ],
          "scatterpolar": [
           {
            "marker": {
             "colorbar": {
              "outlinewidth": 0,
              "ticks": ""
             }
            },
            "type": "scatterpolar"
           }
          ],
          "scatterpolargl": [
           {
            "marker": {
             "colorbar": {
              "outlinewidth": 0,
              "ticks": ""
             }
            },
            "type": "scatterpolargl"
           }
          ],
          "scatterternary": [
           {
            "marker": {
             "colorbar": {
              "outlinewidth": 0,
              "ticks": ""
             }
            },
            "type": "scatterternary"
           }
          ],
          "surface": [
           {
            "colorbar": {
             "outlinewidth": 0,
             "ticks": ""
            },
            "colorscale": [
             [
              0,
              "#0d0887"
             ],
             [
              0.1111111111111111,
              "#46039f"
             ],
             [
              0.2222222222222222,
              "#7201a8"
             ],
             [
              0.3333333333333333,
              "#9c179e"
             ],
             [
              0.4444444444444444,
              "#bd3786"
             ],
             [
              0.5555555555555556,
              "#d8576b"
             ],
             [
              0.6666666666666666,
              "#ed7953"
             ],
             [
              0.7777777777777778,
              "#fb9f3a"
             ],
             [
              0.8888888888888888,
              "#fdca26"
             ],
             [
              1,
              "#f0f921"
             ]
            ],
            "type": "surface"
           }
          ],
          "table": [
           {
            "cells": {
             "fill": {
              "color": "#EBF0F8"
             },
             "line": {
              "color": "white"
             }
            },
            "header": {
             "fill": {
              "color": "#C8D4E3"
             },
             "line": {
              "color": "white"
             }
            },
            "type": "table"
           }
          ]
         },
         "layout": {
          "annotationdefaults": {
           "arrowcolor": "#2a3f5f",
           "arrowhead": 0,
           "arrowwidth": 1
          },
          "coloraxis": {
           "colorbar": {
            "outlinewidth": 0,
            "ticks": ""
           }
          },
          "colorscale": {
           "diverging": [
            [
             0,
             "#8e0152"
            ],
            [
             0.1,
             "#c51b7d"
            ],
            [
             0.2,
             "#de77ae"
            ],
            [
             0.3,
             "#f1b6da"
            ],
            [
             0.4,
             "#fde0ef"
            ],
            [
             0.5,
             "#f7f7f7"
            ],
            [
             0.6,
             "#e6f5d0"
            ],
            [
             0.7,
             "#b8e186"
            ],
            [
             0.8,
             "#7fbc41"
            ],
            [
             0.9,
             "#4d9221"
            ],
            [
             1,
             "#276419"
            ]
           ],
           "sequential": [
            [
             0,
             "#0d0887"
            ],
            [
             0.1111111111111111,
             "#46039f"
            ],
            [
             0.2222222222222222,
             "#7201a8"
            ],
            [
             0.3333333333333333,
             "#9c179e"
            ],
            [
             0.4444444444444444,
             "#bd3786"
            ],
            [
             0.5555555555555556,
             "#d8576b"
            ],
            [
             0.6666666666666666,
             "#ed7953"
            ],
            [
             0.7777777777777778,
             "#fb9f3a"
            ],
            [
             0.8888888888888888,
             "#fdca26"
            ],
            [
             1,
             "#f0f921"
            ]
           ],
           "sequentialminus": [
            [
             0,
             "#0d0887"
            ],
            [
             0.1111111111111111,
             "#46039f"
            ],
            [
             0.2222222222222222,
             "#7201a8"
            ],
            [
             0.3333333333333333,
             "#9c179e"
            ],
            [
             0.4444444444444444,
             "#bd3786"
            ],
            [
             0.5555555555555556,
             "#d8576b"
            ],
            [
             0.6666666666666666,
             "#ed7953"
            ],
            [
             0.7777777777777778,
             "#fb9f3a"
            ],
            [
             0.8888888888888888,
             "#fdca26"
            ],
            [
             1,
             "#f0f921"
            ]
           ]
          },
          "colorway": [
           "#636efa",
           "#EF553B",
           "#00cc96",
           "#ab63fa",
           "#FFA15A",
           "#19d3f3",
           "#FF6692",
           "#B6E880",
           "#FF97FF",
           "#FECB52"
          ],
          "font": {
           "color": "#2a3f5f"
          },
          "geo": {
           "bgcolor": "white",
           "lakecolor": "white",
           "landcolor": "#E5ECF6",
           "showlakes": true,
           "showland": true,
           "subunitcolor": "white"
          },
          "hoverlabel": {
           "align": "left"
          },
          "hovermode": "closest",
          "mapbox": {
           "style": "light"
          },
          "paper_bgcolor": "white",
          "plot_bgcolor": "#E5ECF6",
          "polar": {
           "angularaxis": {
            "gridcolor": "white",
            "linecolor": "white",
            "ticks": ""
           },
           "bgcolor": "#E5ECF6",
           "radialaxis": {
            "gridcolor": "white",
            "linecolor": "white",
            "ticks": ""
           }
          },
          "scene": {
           "xaxis": {
            "backgroundcolor": "#E5ECF6",
            "gridcolor": "white",
            "gridwidth": 2,
            "linecolor": "white",
            "showbackground": true,
            "ticks": "",
            "zerolinecolor": "white"
           },
           "yaxis": {
            "backgroundcolor": "#E5ECF6",
            "gridcolor": "white",
            "gridwidth": 2,
            "linecolor": "white",
            "showbackground": true,
            "ticks": "",
            "zerolinecolor": "white"
           },
           "zaxis": {
            "backgroundcolor": "#E5ECF6",
            "gridcolor": "white",
            "gridwidth": 2,
            "linecolor": "white",
            "showbackground": true,
            "ticks": "",
            "zerolinecolor": "white"
           }
          },
          "shapedefaults": {
           "line": {
            "color": "#2a3f5f"
           }
          },
          "ternary": {
           "aaxis": {
            "gridcolor": "white",
            "linecolor": "white",
            "ticks": ""
           },
           "baxis": {
            "gridcolor": "white",
            "linecolor": "white",
            "ticks": ""
           },
           "bgcolor": "#E5ECF6",
           "caxis": {
            "gridcolor": "white",
            "linecolor": "white",
            "ticks": ""
           }
          },
          "title": {
           "x": 0.05
          },
          "xaxis": {
           "automargin": true,
           "gridcolor": "white",
           "linecolor": "white",
           "ticks": "",
           "title": {
            "standoff": 15
           },
           "zerolinecolor": "white",
           "zerolinewidth": 2
          },
          "yaxis": {
           "automargin": true,
           "gridcolor": "white",
           "linecolor": "white",
           "ticks": "",
           "title": {
            "standoff": 15
           },
           "zerolinecolor": "white",
           "zerolinewidth": 2
          }
         }
        },
        "xaxis": {
         "anchor": "y",
         "categoryarray": [
          "depdate",
          "visapost",
          "occup",
          "entdepd",
          "entdepu",
          "matflag",
          "insnum",
          "airline",
          "departure_date",
          "duration_stay"
         ],
         "categoryorder": "array",
         "domain": [
          0,
          1
         ],
         "title": {
          "text": "columns"
         }
        },
        "yaxis": {
         "anchor": "x",
         "domain": [
          0,
          1
         ],
         "title": {
          "text": "% Missing Values"
         }
        }
       }
      },
      "text/html": [
       "<div>\n",
       "        \n",
       "        \n",
       "            <div id=\"5aa02ff2-3767-430a-bdd3-b6e770918c78\" class=\"plotly-graph-div\" style=\"height:525px; width:100%;\"></div>\n",
       "            <script type=\"text/javascript\">\n",
       "                require([\"plotly\"], function(Plotly) {\n",
       "                    window.PLOTLYENV=window.PLOTLYENV || {};\n",
       "                    \n",
       "                if (document.getElementById(\"5aa02ff2-3767-430a-bdd3-b6e770918c78\")) {\n",
       "                    Plotly.newPlot(\n",
       "                        '5aa02ff2-3767-430a-bdd3-b6e770918c78',\n",
       "                        [{\"alignmentgroup\": \"True\", \"hoverlabel\": {\"namelength\": 0}, \"hovertemplate\": \"columns=%{x}<br>% Missing Values=%{y}\", \"legendgroup\": \"depdate\", \"marker\": {\"color\": \"#636efa\"}, \"name\": \"depdate\", \"offsetgroup\": \"depdate\", \"orientation\": \"v\", \"showlegend\": true, \"textposition\": \"auto\", \"type\": \"bar\", \"x\": [\"depdate\"], \"xaxis\": \"x\", \"y\": [4.576475311120032], \"yaxis\": \"y\"}, {\"alignmentgroup\": \"True\", \"hoverlabel\": {\"namelength\": 0}, \"hovertemplate\": \"columns=%{x}<br>% Missing Values=%{y}\", \"legendgroup\": \"visapost\", \"marker\": {\"color\": \"#EF553B\"}, \"name\": \"visapost\", \"offsetgroup\": \"visapost\", \"orientation\": \"v\", \"showlegend\": true, \"textposition\": \"auto\", \"type\": \"bar\", \"x\": [\"visapost\"], \"xaxis\": \"x\", \"y\": [60.72325375373872], \"yaxis\": \"y\"}, {\"alignmentgroup\": \"True\", \"hoverlabel\": {\"namelength\": 0}, \"hovertemplate\": \"columns=%{x}<br>% Missing Values=%{y}\", \"legendgroup\": \"occup\", \"marker\": {\"color\": \"#00cc96\"}, \"name\": \"occup\", \"offsetgroup\": \"occup\", \"orientation\": \"v\", \"showlegend\": true, \"textposition\": \"auto\", \"type\": \"bar\", \"x\": [\"occup\"], \"xaxis\": \"x\", \"y\": [99.6996104721971], \"yaxis\": \"y\"}, {\"alignmentgroup\": \"True\", \"hoverlabel\": {\"namelength\": 0}, \"hovertemplate\": \"columns=%{x}<br>% Missing Values=%{y}\", \"legendgroup\": \"entdepd\", \"marker\": {\"color\": \"#ab63fa\"}, \"name\": \"entdepd\", \"offsetgroup\": \"entdepd\", \"orientation\": \"v\", \"showlegend\": true, \"textposition\": \"auto\", \"type\": \"bar\", \"x\": [\"entdepd\"], \"xaxis\": \"x\", \"y\": [4.446417400308044], \"yaxis\": \"y\"}, {\"alignmentgroup\": \"True\", \"hoverlabel\": {\"namelength\": 0}, \"hovertemplate\": \"columns=%{x}<br>% Missing Values=%{y}\", \"legendgroup\": \"entdepu\", \"marker\": {\"color\": \"#FFA15A\"}, \"name\": \"entdepu\", \"offsetgroup\": \"entdepu\", \"orientation\": \"v\", \"showlegend\": true, \"textposition\": \"auto\", \"type\": \"bar\", \"x\": [\"entdepu\"], \"xaxis\": \"x\", \"y\": [99.94935912486883], \"yaxis\": \"y\"}, {\"alignmentgroup\": \"True\", \"hoverlabel\": {\"namelength\": 0}, \"hovertemplate\": \"columns=%{x}<br>% Missing Values=%{y}\", \"legendgroup\": \"matflag\", \"marker\": {\"color\": \"#19d3f3\"}, \"name\": \"matflag\", \"offsetgroup\": \"matflag\", \"orientation\": \"v\", \"showlegend\": true, \"textposition\": \"auto\", \"type\": \"bar\", \"x\": [\"matflag\"], \"xaxis\": \"x\", \"y\": [4.446417400308044], \"yaxis\": \"y\"}, {\"alignmentgroup\": \"True\", \"hoverlabel\": {\"namelength\": 0}, \"hovertemplate\": \"columns=%{x}<br>% Missing Values=%{y}\", \"legendgroup\": \"insnum\", \"marker\": {\"color\": \"#FF6692\"}, \"name\": \"insnum\", \"offsetgroup\": \"insnum\", \"orientation\": \"v\", \"showlegend\": true, \"textposition\": \"auto\", \"type\": \"bar\", \"x\": [\"insnum\"], \"xaxis\": \"x\", \"y\": [96.31991339376866], \"yaxis\": \"y\"}, {\"alignmentgroup\": \"True\", \"hoverlabel\": {\"namelength\": 0}, \"hovertemplate\": \"columns=%{x}<br>% Missing Values=%{y}\", \"legendgroup\": \"airline\", \"marker\": {\"color\": \"#B6E880\"}, \"name\": \"airline\", \"offsetgroup\": \"airline\", \"orientation\": \"v\", \"showlegend\": true, \"textposition\": \"auto\", \"type\": \"bar\", \"x\": [\"airline\"], \"xaxis\": \"x\", \"y\": [2.6904579737255245], \"yaxis\": \"y\"}, {\"alignmentgroup\": \"True\", \"hoverlabel\": {\"namelength\": 0}, \"hovertemplate\": \"columns=%{x}<br>% Missing Values=%{y}\", \"legendgroup\": \"departure_date\", \"marker\": {\"color\": \"#FF97FF\"}, \"name\": \"departure_date\", \"offsetgroup\": \"departure_date\", \"orientation\": \"v\", \"showlegend\": true, \"textposition\": \"auto\", \"type\": \"bar\", \"x\": [\"departure_date\"], \"xaxis\": \"x\", \"y\": [4.576475311120032], \"yaxis\": \"y\"}, {\"alignmentgroup\": \"True\", \"hoverlabel\": {\"namelength\": 0}, \"hovertemplate\": \"columns=%{x}<br>% Missing Values=%{y}\", \"legendgroup\": \"duration_stay\", \"marker\": {\"color\": \"#FECB52\"}, \"name\": \"duration_stay\", \"offsetgroup\": \"duration_stay\", \"orientation\": \"v\", \"showlegend\": true, \"textposition\": \"auto\", \"type\": \"bar\", \"x\": [\"duration_stay\"], \"xaxis\": \"x\", \"y\": [4.576475311120032], \"yaxis\": \"y\"}],\n",
       "                        {\"barmode\": \"relative\", \"legend\": {\"title\": {\"text\": \"columns\"}, \"tracegroupgap\": 0}, \"margin\": {\"t\": 60}, \"template\": {\"data\": {\"bar\": [{\"error_x\": {\"color\": \"#2a3f5f\"}, \"error_y\": {\"color\": \"#2a3f5f\"}, \"marker\": {\"line\": {\"color\": \"#E5ECF6\", \"width\": 0.5}}, \"type\": \"bar\"}], \"barpolar\": [{\"marker\": {\"line\": {\"color\": \"#E5ECF6\", \"width\": 0.5}}, \"type\": \"barpolar\"}], \"carpet\": [{\"aaxis\": {\"endlinecolor\": \"#2a3f5f\", \"gridcolor\": \"white\", \"linecolor\": \"white\", \"minorgridcolor\": \"white\", \"startlinecolor\": \"#2a3f5f\"}, \"baxis\": {\"endlinecolor\": \"#2a3f5f\", \"gridcolor\": \"white\", \"linecolor\": \"white\", \"minorgridcolor\": \"white\", \"startlinecolor\": \"#2a3f5f\"}, \"type\": \"carpet\"}], \"choropleth\": [{\"colorbar\": {\"outlinewidth\": 0, \"ticks\": \"\"}, \"type\": \"choropleth\"}], \"contour\": [{\"colorbar\": {\"outlinewidth\": 0, \"ticks\": \"\"}, \"colorscale\": [[0.0, \"#0d0887\"], [0.1111111111111111, \"#46039f\"], [0.2222222222222222, \"#7201a8\"], [0.3333333333333333, \"#9c179e\"], [0.4444444444444444, \"#bd3786\"], [0.5555555555555556, \"#d8576b\"], [0.6666666666666666, \"#ed7953\"], [0.7777777777777778, \"#fb9f3a\"], [0.8888888888888888, \"#fdca26\"], [1.0, \"#f0f921\"]], \"type\": \"contour\"}], \"contourcarpet\": [{\"colorbar\": {\"outlinewidth\": 0, \"ticks\": \"\"}, \"type\": \"contourcarpet\"}], \"heatmap\": [{\"colorbar\": {\"outlinewidth\": 0, \"ticks\": \"\"}, \"colorscale\": [[0.0, \"#0d0887\"], [0.1111111111111111, \"#46039f\"], [0.2222222222222222, \"#7201a8\"], [0.3333333333333333, \"#9c179e\"], [0.4444444444444444, \"#bd3786\"], [0.5555555555555556, \"#d8576b\"], [0.6666666666666666, \"#ed7953\"], [0.7777777777777778, \"#fb9f3a\"], [0.8888888888888888, \"#fdca26\"], [1.0, \"#f0f921\"]], \"type\": \"heatmap\"}], \"heatmapgl\": [{\"colorbar\": {\"outlinewidth\": 0, \"ticks\": \"\"}, \"colorscale\": [[0.0, \"#0d0887\"], [0.1111111111111111, \"#46039f\"], [0.2222222222222222, \"#7201a8\"], [0.3333333333333333, \"#9c179e\"], [0.4444444444444444, \"#bd3786\"], [0.5555555555555556, \"#d8576b\"], [0.6666666666666666, \"#ed7953\"], [0.7777777777777778, \"#fb9f3a\"], [0.8888888888888888, \"#fdca26\"], [1.0, \"#f0f921\"]], \"type\": \"heatmapgl\"}], \"histogram\": [{\"marker\": {\"colorbar\": {\"outlinewidth\": 0, \"ticks\": \"\"}}, \"type\": \"histogram\"}], \"histogram2d\": [{\"colorbar\": {\"outlinewidth\": 0, \"ticks\": \"\"}, \"colorscale\": [[0.0, \"#0d0887\"], [0.1111111111111111, \"#46039f\"], [0.2222222222222222, \"#7201a8\"], [0.3333333333333333, \"#9c179e\"], [0.4444444444444444, \"#bd3786\"], [0.5555555555555556, \"#d8576b\"], [0.6666666666666666, \"#ed7953\"], [0.7777777777777778, \"#fb9f3a\"], [0.8888888888888888, \"#fdca26\"], [1.0, \"#f0f921\"]], \"type\": \"histogram2d\"}], \"histogram2dcontour\": [{\"colorbar\": {\"outlinewidth\": 0, \"ticks\": \"\"}, \"colorscale\": [[0.0, \"#0d0887\"], [0.1111111111111111, \"#46039f\"], [0.2222222222222222, \"#7201a8\"], [0.3333333333333333, \"#9c179e\"], [0.4444444444444444, \"#bd3786\"], [0.5555555555555556, \"#d8576b\"], [0.6666666666666666, \"#ed7953\"], [0.7777777777777778, \"#fb9f3a\"], [0.8888888888888888, \"#fdca26\"], [1.0, \"#f0f921\"]], \"type\": \"histogram2dcontour\"}], \"mesh3d\": [{\"colorbar\": {\"outlinewidth\": 0, \"ticks\": \"\"}, \"type\": \"mesh3d\"}], \"parcoords\": [{\"line\": {\"colorbar\": {\"outlinewidth\": 0, \"ticks\": \"\"}}, \"type\": \"parcoords\"}], \"pie\": [{\"automargin\": true, \"type\": \"pie\"}], \"scatter\": [{\"marker\": {\"colorbar\": {\"outlinewidth\": 0, \"ticks\": \"\"}}, \"type\": \"scatter\"}], \"scatter3d\": [{\"line\": {\"colorbar\": {\"outlinewidth\": 0, \"ticks\": \"\"}}, \"marker\": {\"colorbar\": {\"outlinewidth\": 0, \"ticks\": \"\"}}, \"type\": \"scatter3d\"}], \"scattercarpet\": [{\"marker\": {\"colorbar\": {\"outlinewidth\": 0, \"ticks\": \"\"}}, \"type\": \"scattercarpet\"}], \"scattergeo\": [{\"marker\": {\"colorbar\": {\"outlinewidth\": 0, \"ticks\": \"\"}}, \"type\": \"scattergeo\"}], \"scattergl\": [{\"marker\": {\"colorbar\": {\"outlinewidth\": 0, \"ticks\": \"\"}}, \"type\": \"scattergl\"}], \"scattermapbox\": [{\"marker\": {\"colorbar\": {\"outlinewidth\": 0, \"ticks\": \"\"}}, \"type\": \"scattermapbox\"}], \"scatterpolar\": [{\"marker\": {\"colorbar\": {\"outlinewidth\": 0, \"ticks\": \"\"}}, \"type\": \"scatterpolar\"}], \"scatterpolargl\": [{\"marker\": {\"colorbar\": {\"outlinewidth\": 0, \"ticks\": \"\"}}, \"type\": \"scatterpolargl\"}], \"scatterternary\": [{\"marker\": {\"colorbar\": {\"outlinewidth\": 0, \"ticks\": \"\"}}, \"type\": \"scatterternary\"}], \"surface\": [{\"colorbar\": {\"outlinewidth\": 0, \"ticks\": \"\"}, \"colorscale\": [[0.0, \"#0d0887\"], [0.1111111111111111, \"#46039f\"], [0.2222222222222222, \"#7201a8\"], [0.3333333333333333, \"#9c179e\"], [0.4444444444444444, \"#bd3786\"], [0.5555555555555556, \"#d8576b\"], [0.6666666666666666, \"#ed7953\"], [0.7777777777777778, \"#fb9f3a\"], [0.8888888888888888, \"#fdca26\"], [1.0, \"#f0f921\"]], \"type\": \"surface\"}], \"table\": [{\"cells\": {\"fill\": {\"color\": \"#EBF0F8\"}, \"line\": {\"color\": \"white\"}}, \"header\": {\"fill\": {\"color\": \"#C8D4E3\"}, \"line\": {\"color\": \"white\"}}, \"type\": \"table\"}]}, \"layout\": {\"annotationdefaults\": {\"arrowcolor\": \"#2a3f5f\", \"arrowhead\": 0, \"arrowwidth\": 1}, \"coloraxis\": {\"colorbar\": {\"outlinewidth\": 0, \"ticks\": \"\"}}, \"colorscale\": {\"diverging\": [[0, \"#8e0152\"], [0.1, \"#c51b7d\"], [0.2, \"#de77ae\"], [0.3, \"#f1b6da\"], [0.4, \"#fde0ef\"], [0.5, \"#f7f7f7\"], [0.6, \"#e6f5d0\"], [0.7, \"#b8e186\"], [0.8, \"#7fbc41\"], [0.9, \"#4d9221\"], [1, \"#276419\"]], \"sequential\": [[0.0, \"#0d0887\"], [0.1111111111111111, \"#46039f\"], [0.2222222222222222, \"#7201a8\"], [0.3333333333333333, \"#9c179e\"], [0.4444444444444444, \"#bd3786\"], [0.5555555555555556, \"#d8576b\"], [0.6666666666666666, \"#ed7953\"], [0.7777777777777778, \"#fb9f3a\"], [0.8888888888888888, \"#fdca26\"], [1.0, \"#f0f921\"]], \"sequentialminus\": [[0.0, \"#0d0887\"], [0.1111111111111111, \"#46039f\"], [0.2222222222222222, \"#7201a8\"], [0.3333333333333333, \"#9c179e\"], [0.4444444444444444, \"#bd3786\"], [0.5555555555555556, \"#d8576b\"], [0.6666666666666666, \"#ed7953\"], [0.7777777777777778, \"#fb9f3a\"], [0.8888888888888888, \"#fdca26\"], [1.0, \"#f0f921\"]]}, \"colorway\": [\"#636efa\", \"#EF553B\", \"#00cc96\", \"#ab63fa\", \"#FFA15A\", \"#19d3f3\", \"#FF6692\", \"#B6E880\", \"#FF97FF\", \"#FECB52\"], \"font\": {\"color\": \"#2a3f5f\"}, \"geo\": {\"bgcolor\": \"white\", \"lakecolor\": \"white\", \"landcolor\": \"#E5ECF6\", \"showlakes\": true, \"showland\": true, \"subunitcolor\": \"white\"}, \"hoverlabel\": {\"align\": \"left\"}, \"hovermode\": \"closest\", \"mapbox\": {\"style\": \"light\"}, \"paper_bgcolor\": \"white\", \"plot_bgcolor\": \"#E5ECF6\", \"polar\": {\"angularaxis\": {\"gridcolor\": \"white\", \"linecolor\": \"white\", \"ticks\": \"\"}, \"bgcolor\": \"#E5ECF6\", \"radialaxis\": {\"gridcolor\": \"white\", \"linecolor\": \"white\", \"ticks\": \"\"}}, \"scene\": {\"xaxis\": {\"backgroundcolor\": \"#E5ECF6\", \"gridcolor\": \"white\", \"gridwidth\": 2, \"linecolor\": \"white\", \"showbackground\": true, \"ticks\": \"\", \"zerolinecolor\": \"white\"}, \"yaxis\": {\"backgroundcolor\": \"#E5ECF6\", \"gridcolor\": \"white\", \"gridwidth\": 2, \"linecolor\": \"white\", \"showbackground\": true, \"ticks\": \"\", \"zerolinecolor\": \"white\"}, \"zaxis\": {\"backgroundcolor\": \"#E5ECF6\", \"gridcolor\": \"white\", \"gridwidth\": 2, \"linecolor\": \"white\", \"showbackground\": true, \"ticks\": \"\", \"zerolinecolor\": \"white\"}}, \"shapedefaults\": {\"line\": {\"color\": \"#2a3f5f\"}}, \"ternary\": {\"aaxis\": {\"gridcolor\": \"white\", \"linecolor\": \"white\", \"ticks\": \"\"}, \"baxis\": {\"gridcolor\": \"white\", \"linecolor\": \"white\", \"ticks\": \"\"}, \"bgcolor\": \"#E5ECF6\", \"caxis\": {\"gridcolor\": \"white\", \"linecolor\": \"white\", \"ticks\": \"\"}}, \"title\": {\"x\": 0.05}, \"xaxis\": {\"automargin\": true, \"gridcolor\": \"white\", \"linecolor\": \"white\", \"ticks\": \"\", \"title\": {\"standoff\": 15}, \"zerolinecolor\": \"white\", \"zerolinewidth\": 2}, \"yaxis\": {\"automargin\": true, \"gridcolor\": \"white\", \"linecolor\": \"white\", \"ticks\": \"\", \"title\": {\"standoff\": 15}, \"zerolinecolor\": \"white\", \"zerolinewidth\": 2}}}, \"xaxis\": {\"anchor\": \"y\", \"categoryarray\": [\"depdate\", \"visapost\", \"occup\", \"entdepd\", \"entdepu\", \"matflag\", \"insnum\", \"airline\", \"departure_date\", \"duration_stay\"], \"categoryorder\": \"array\", \"domain\": [0.0, 1.0], \"title\": {\"text\": \"columns\"}}, \"yaxis\": {\"anchor\": \"x\", \"domain\": [0.0, 1.0], \"title\": {\"text\": \"% Missing Values\"}}},\n",
       "                        {\"responsive\": true}\n",
       "                    ).then(function(){\n",
       "                            \n",
       "var gd = document.getElementById('5aa02ff2-3767-430a-bdd3-b6e770918c78');\n",
       "var x = new MutationObserver(function (mutations, observer) {{\n",
       "        var display = window.getComputedStyle(gd).display;\n",
       "        if (!display || display === 'none') {{\n",
       "            console.log([gd, 'removed!']);\n",
       "            Plotly.purge(gd);\n",
       "            observer.disconnect();\n",
       "        }}\n",
       "}});\n",
       "\n",
       "// Listen for the removal of the full notebook cells\n",
       "var notebookContainer = gd.closest('#notebook-container');\n",
       "if (notebookContainer) {{\n",
       "    x.observe(notebookContainer, {childList: true});\n",
       "}}\n",
       "\n",
       "// Listen for the clearing of the current output cell\n",
       "var outputEl = gd.closest('.output');\n",
       "if (outputEl) {{\n",
       "    x.observe(outputEl, {childList: true});\n",
       "}}\n",
       "\n",
       "                        })\n",
       "                };\n",
       "                });\n",
       "            </script>\n",
       "        </div>"
      ]
     },
     "metadata": {},
     "output_type": "display_data"
    }
   ],
   "source": [
    "# Calculate missing values percentage for all column\n",
    "df_nan_imm_trans = df_nan_imm.transpose()\n",
    "df_nan_imm_trans.reset_index(inplace=True)\n",
    "df_nan_imm_trans.columns = ['columns','% Missing Values']\n",
    "df_nan_imm_trans['% Missing Values'] = df_nan_imm_trans['% Missing Values'] * 100 / total_immigration\n",
    "\n",
    "# As immigration data have a lot of columns that have % missing values below 2 percent\n",
    "# we can restrict them out from the barchart\n",
    "df_nan_imm_trans = df_nan_imm_trans[df_nan_imm_trans['% Missing Values'] >= 2]\n",
    "\n",
    "# Visualize missing values percentage as a bar chart\n",
    "fig = px.bar(df_nan_imm_trans, x=\"columns\", y=\"% Missing Values\", color='columns')\n",
    "fig.show()"
   ]
  },
  {
   "cell_type": "markdown",
   "metadata": {},
   "source": [
    "According our assumption, we need to remove columns with missing percentage more than 30%"
   ]
  },
  {
   "cell_type": "code",
   "execution_count": 23,
   "metadata": {},
   "outputs": [],
   "source": [
    "# columns with over 30% missing values\n",
    "cols = ['visapost', 'occup', 'entdepu','insnum']\n",
    "\n",
    "# drop these columns\n",
    "df_immigration = df_immigration.drop(*cols)"
   ]
  },
  {
   "cell_type": "code",
   "execution_count": 24,
   "metadata": {},
   "outputs": [
    {
     "name": "stdout",
     "output_type": "stream",
     "text": [
      "root\n",
      " |-- cicid: double (nullable = true)\n",
      " |-- i94yr: double (nullable = true)\n",
      " |-- i94mon: double (nullable = true)\n",
      " |-- i94cit: double (nullable = true)\n",
      " |-- i94res: double (nullable = true)\n",
      " |-- i94port: string (nullable = true)\n",
      " |-- arrdate: double (nullable = true)\n",
      " |-- i94mode: double (nullable = false)\n",
      " |-- i94addr: string (nullable = true)\n",
      " |-- depdate: double (nullable = true)\n",
      " |-- i94bir: double (nullable = true)\n",
      " |-- i94visa: double (nullable = true)\n",
      " |-- count: double (nullable = true)\n",
      " |-- dtadfile: string (nullable = true)\n",
      " |-- entdepa: string (nullable = true)\n",
      " |-- entdepd: string (nullable = true)\n",
      " |-- matflag: string (nullable = true)\n",
      " |-- biryear: double (nullable = true)\n",
      " |-- dtaddto: string (nullable = true)\n",
      " |-- gender: string (nullable = true)\n",
      " |-- airline: string (nullable = true)\n",
      " |-- admnum: double (nullable = true)\n",
      " |-- fltno: string (nullable = true)\n",
      " |-- visatype: string (nullable = true)\n",
      " |-- arrival_date: date (nullable = true)\n",
      " |-- departure_date: date (nullable = true)\n",
      " |-- duration_stay: integer (nullable = true)\n",
      "\n"
     ]
    }
   ],
   "source": [
    "# display final schema\n",
    "df_immigration.printSchema()"
   ]
  },
  {
   "cell_type": "markdown",
   "metadata": {},
   "source": [
    "**Duplicate Data**\n",
    "\n",
    "No duplicate data found in immigration data if we compare all rows"
   ]
  },
  {
   "cell_type": "code",
   "execution_count": 69,
   "metadata": {},
   "outputs": [
    {
     "name": "stdout",
     "output_type": "stream",
     "text": [
      "Duplicate data not exist\n"
     ]
    }
   ],
   "source": [
    "# Check duplicate data\n",
    "df_rm_duplicate = df_immigration.distinct()\n",
    "if (df_rm_duplicate.count() == df_immigration.count()):\n",
    "    print(\"Duplicate data not exist\")\n",
    "else:\n",
    "    print(\"Duplicate data exist\")"
   ]
  },
  {
   "cell_type": "markdown",
   "metadata": {},
   "source": [
    "#### Global Land Temperatures By City Data\n",
    "\n",
    "**EDA**\n",
    "\n",
    "The data is quite big (more than 8 million records) and we don't use them all. We need to remove these data with some assumptions."
   ]
  },
  {
   "cell_type": "code",
   "execution_count": 16,
   "metadata": {},
   "outputs": [
    {
     "name": "stdout",
     "output_type": "stream",
     "text": [
      "8599212\n"
     ]
    }
   ],
   "source": [
    "# count the total number of records\n",
    "total_temperature = df_temperature.count()\n",
    "print(total_temperature)"
   ]
  },
  {
   "cell_type": "code",
   "execution_count": 17,
   "metadata": {},
   "outputs": [
    {
     "name": "stdout",
     "output_type": "stream",
     "text": [
      "Minimum date : 1743-11-01 00:00:00\n",
      "Maximum date : 2013-09-01 00:00:00\n"
     ]
    }
   ],
   "source": [
    "# Get Minimum Date and Maximum Date\n",
    "min_date, max_date = df_temperature.select(min(\"dt\"), max(\"dt\")).first()\n",
    "print(\"Minimum date : {}\".format(min_date))\n",
    "print(\"Maximum date : {}\".format(max_date))"
   ]
  },
  {
   "cell_type": "markdown",
   "metadata": {},
   "source": [
    "We already focus on April 2016 data (immigration table) but we couldn't find 2016 temperature data here. For now we assume that average temperature from 2010 until 2013 could represent temperature in 2016 as the difference only 3-6 years. Because of this assumption, we need to remove data prior to 2010."
   ]
  },
  {
   "cell_type": "code",
   "execution_count": 18,
   "metadata": {},
   "outputs": [
    {
     "name": "stdout",
     "output_type": "stream",
     "text": [
      "Total records from 2010 until 2013 : 157950\n"
     ]
    }
   ],
   "source": [
    "# Remove all dates prior to 2010\n",
    "df_temperature = df_temperature.filter(df_temperature.dt >= '2010-01-01')\n",
    "\n",
    "print(\"Total records from 2010 until 2013 : {}\".format(df_temperature.count()))"
   ]
  },
  {
   "cell_type": "markdown",
   "metadata": {},
   "source": [
    "Create new table contains average temperature, latitude and longitude (group by country). Later ```df_country``` could lookup the values from this table."
   ]
  },
  {
   "cell_type": "code",
   "execution_count": 19,
   "metadata": {},
   "outputs": [
    {
     "data": {
      "text/html": [
       "<table border='1'>\n",
       "<tr><th>Country</th><th>AverageTemperature</th><th>Latitude</th><th>Longitude</th></tr>\n",
       "<tr><td>CHAD</td><td>27.99</td><td>8.84N</td><td>15.41E</td></tr>\n",
       "<tr><td>PARAGUAY</td><td>23.42</td><td>24.92S</td><td>58.52W</td></tr>\n",
       "<tr><td>RUSSIA</td><td>4.78</td><td>53.84N</td><td>91.36E</td></tr>\n",
       "<tr><td>YEMEN</td><td>26.9</td><td>13.66N</td><td>45.41E</td></tr>\n",
       "<tr><td>SENEGAL</td><td>26.89</td><td>15.27N</td><td>17.50W</td></tr>\n",
       "</table>\n"
      ],
      "text/plain": [
       "+--------+------------------+--------+---------+\n",
       "| Country|AverageTemperature|Latitude|Longitude|\n",
       "+--------+------------------+--------+---------+\n",
       "|    CHAD|             27.99|   8.84N|   15.41E|\n",
       "|PARAGUAY|             23.42|  24.92S|   58.52W|\n",
       "|  RUSSIA|              4.78|  53.84N|   91.36E|\n",
       "|   YEMEN|              26.9|  13.66N|   45.41E|\n",
       "| SENEGAL|             26.89|  15.27N|   17.50W|\n",
       "+--------+------------------+--------+---------+"
      ]
     },
     "execution_count": 19,
     "metadata": {},
     "output_type": "execute_result"
    }
   ],
   "source": [
    "# Aggregate by Country\n",
    "df_temperature = df_temperature.groupby([\"Country\"]).agg(avg(\"AverageTemperature\").alias(\"AverageTemperature\"), \\\n",
    "                                        first(\"Latitude\").alias(\"Latitude\"), \\\n",
    "                                        first(\"Longitude\").alias(\"Longitude\") \\\n",
    "                                       )\n",
    "\n",
    "# uppercase Country so later could be joined with Country dimension table\n",
    "df_temperature = df_temperature.withColumn('Country',upper(col('Country'))) \\\n",
    "                 .withColumn('AverageTemperature',round('AverageTemperature',2))\n",
    "df_temperature.limit(5)"
   ]
  },
  {
   "cell_type": "code",
   "execution_count": 20,
   "metadata": {},
   "outputs": [
    {
     "name": "stdout",
     "output_type": "stream",
     "text": [
      "root\n",
      " |-- Country: string (nullable = true)\n",
      " |-- AverageTemperature: double (nullable = true)\n",
      " |-- Latitude: string (nullable = true)\n",
      " |-- Longitude: string (nullable = true)\n",
      "\n"
     ]
    }
   ],
   "source": [
    "df_temperature.printSchema()"
   ]
  },
  {
   "cell_type": "markdown",
   "metadata": {},
   "source": [
    "Integrate ```df_country``` with ```df_temperature```"
   ]
  },
  {
   "cell_type": "code",
   "execution_count": 21,
   "metadata": {},
   "outputs": [
    {
     "name": "stdout",
     "output_type": "stream",
     "text": [
      "root\n",
      " |-- CountryCode: integer (nullable = true)\n",
      " |-- CountryName: string (nullable = true)\n",
      " |-- AverageTemperature: double (nullable = true)\n",
      " |-- Latitude: string (nullable = true)\n",
      " |-- Longitude: string (nullable = true)\n",
      "\n"
     ]
    },
    {
     "data": {
      "text/html": [
       "<table border='1'>\n",
       "<tr><th>CountryCode</th><th>CountryName</th><th>AverageTemperature</th><th>Latitude</th><th>Longitude</th></tr>\n",
       "<tr><td>151</td><td>ARMENIA</td><td>10.31</td><td>40.99N</td><td>44.73E</td></tr>\n",
       "<tr><td>512</td><td>BAHAMAS</td><td>25.44</td><td>24.92N</td><td>78.03W</td></tr>\n",
       "<tr><td>739</td><td>INVALID: DRONNING...</td><td>null</td><td>null</td><td>null</td></tr>\n",
       "<tr><td>373</td><td>SOUTH AFRICA</td><td>16.95</td><td>26.52S</td><td>28.66E</td></tr>\n",
       "<tr><td>914</td><td>No Country Code (...</td><td>null</td><td>null</td><td>null</td></tr>\n",
       "</table>\n"
      ],
      "text/plain": [
       "+-----------+--------------------+------------------+--------+---------+\n",
       "|CountryCode|         CountryName|AverageTemperature|Latitude|Longitude|\n",
       "+-----------+--------------------+------------------+--------+---------+\n",
       "|        151|             ARMENIA|             10.31|  40.99N|   44.73E|\n",
       "|        512|             BAHAMAS|             25.44|  24.92N|   78.03W|\n",
       "|        739|INVALID: DRONNING...|              null|    null|     null|\n",
       "|        373|        SOUTH AFRICA|             16.95|  26.52S|   28.66E|\n",
       "|        914|No Country Code (...|              null|    null|     null|\n",
       "+-----------+--------------------+------------------+--------+---------+"
      ]
     },
     "execution_count": 21,
     "metadata": {},
     "output_type": "execute_result"
    }
   ],
   "source": [
    "# Left Join df_country with df_temperature\n",
    "df_country = df_country.join(df_temperature, df_country['CountryName']==df_temperature['Country'],how='left')\n",
    "\n",
    "# drop these columns\n",
    "cols = ['Country']\n",
    "df_country = df_country.drop(*cols)\n",
    "\n",
    "df_country.printSchema()\n",
    "df_country.limit(5)"
   ]
  },
  {
   "cell_type": "markdown",
   "metadata": {},
   "source": [
    "We need to rename the columns of ```df_country``` so it will align with Redshift schema"
   ]
  },
  {
   "cell_type": "code",
   "execution_count": 22,
   "metadata": {},
   "outputs": [
    {
     "name": "stdout",
     "output_type": "stream",
     "text": [
      "root\n",
      " |-- country_code: integer (nullable = true)\n",
      " |-- country_name: string (nullable = true)\n",
      " |-- avg_temperature: double (nullable = true)\n",
      " |-- latitude: string (nullable = true)\n",
      " |-- longitude: string (nullable = true)\n",
      "\n"
     ]
    }
   ],
   "source": [
    "# rename columns align with Redshift table schema\n",
    "df_country = df_country.withColumnRenamed(\"CountryCode\",\"country_code\") \\\n",
    "                       .withColumnRenamed(\"CountryName\",\"country_name\") \\\n",
    "                       .withColumnRenamed(\"AverageTemperature\",\"avg_temperature\") \\\n",
    "                       .withColumnRenamed(\"Latitude\",\"latitude\") \\\n",
    "                       .withColumnRenamed(\"Longitude\",\"longitude\")\n",
    "df_country.printSchema()"
   ]
  },
  {
   "cell_type": "markdown",
   "metadata": {},
   "source": [
    "**Missing Values**\n",
    "\n",
    "We need to identify % missing percentage for all columns. Assume we only accept % missing percentages below or equal to 30%. Here we could see that missing values not exist in aggregated temperature table."
   ]
  },
  {
   "cell_type": "code",
   "execution_count": 31,
   "metadata": {},
   "outputs": [
    {
     "name": "stderr",
     "output_type": "stream",
     "text": [
      "/opt/conda/lib/python3.6/site-packages/pyarrow/util.py:43: FutureWarning:\n",
      "\n",
      "pyarrow.open_stream is deprecated as of 0.17.0, please use pyarrow.ipc.open_stream instead.\n",
      "\n"
     ]
    }
   ],
   "source": [
    "# count missing value for each column\n",
    "total_temperature = df_temperature.count()\n",
    "df_nan_temp = df_temperature.select([count(when(col(c).isNull(), c))\\\n",
    "            .alias(c) for c in df_temperature.columns]).toPandas()"
   ]
  },
  {
   "cell_type": "code",
   "execution_count": 32,
   "metadata": {},
   "outputs": [
    {
     "data": {
      "application/vnd.plotly.v1+json": {
       "config": {
        "plotlyServerURL": "https://plot.ly"
       },
       "data": [
        {
         "alignmentgroup": "True",
         "hoverlabel": {
          "namelength": 0
         },
         "hovertemplate": "columns=%{x}<br>% Missing Values=%{y}",
         "legendgroup": "Country",
         "marker": {
          "color": "#636efa"
         },
         "name": "Country",
         "offsetgroup": "Country",
         "orientation": "v",
         "showlegend": true,
         "textposition": "auto",
         "type": "bar",
         "x": [
          "Country"
         ],
         "xaxis": "x",
         "y": [
          0
         ],
         "yaxis": "y"
        },
        {
         "alignmentgroup": "True",
         "hoverlabel": {
          "namelength": 0
         },
         "hovertemplate": "columns=%{x}<br>% Missing Values=%{y}",
         "legendgroup": "AverageTemperature",
         "marker": {
          "color": "#EF553B"
         },
         "name": "AverageTemperature",
         "offsetgroup": "AverageTemperature",
         "orientation": "v",
         "showlegend": true,
         "textposition": "auto",
         "type": "bar",
         "x": [
          "AverageTemperature"
         ],
         "xaxis": "x",
         "y": [
          0
         ],
         "yaxis": "y"
        },
        {
         "alignmentgroup": "True",
         "hoverlabel": {
          "namelength": 0
         },
         "hovertemplate": "columns=%{x}<br>% Missing Values=%{y}",
         "legendgroup": "Latitude",
         "marker": {
          "color": "#00cc96"
         },
         "name": "Latitude",
         "offsetgroup": "Latitude",
         "orientation": "v",
         "showlegend": true,
         "textposition": "auto",
         "type": "bar",
         "x": [
          "Latitude"
         ],
         "xaxis": "x",
         "y": [
          0
         ],
         "yaxis": "y"
        },
        {
         "alignmentgroup": "True",
         "hoverlabel": {
          "namelength": 0
         },
         "hovertemplate": "columns=%{x}<br>% Missing Values=%{y}",
         "legendgroup": "Longitude",
         "marker": {
          "color": "#ab63fa"
         },
         "name": "Longitude",
         "offsetgroup": "Longitude",
         "orientation": "v",
         "showlegend": true,
         "textposition": "auto",
         "type": "bar",
         "x": [
          "Longitude"
         ],
         "xaxis": "x",
         "y": [
          0
         ],
         "yaxis": "y"
        }
       ],
       "layout": {
        "barmode": "relative",
        "legend": {
         "title": {
          "text": "columns"
         },
         "tracegroupgap": 0
        },
        "margin": {
         "t": 60
        },
        "template": {
         "data": {
          "bar": [
           {
            "error_x": {
             "color": "#2a3f5f"
            },
            "error_y": {
             "color": "#2a3f5f"
            },
            "marker": {
             "line": {
              "color": "#E5ECF6",
              "width": 0.5
             }
            },
            "type": "bar"
           }
          ],
          "barpolar": [
           {
            "marker": {
             "line": {
              "color": "#E5ECF6",
              "width": 0.5
             }
            },
            "type": "barpolar"
           }
          ],
          "carpet": [
           {
            "aaxis": {
             "endlinecolor": "#2a3f5f",
             "gridcolor": "white",
             "linecolor": "white",
             "minorgridcolor": "white",
             "startlinecolor": "#2a3f5f"
            },
            "baxis": {
             "endlinecolor": "#2a3f5f",
             "gridcolor": "white",
             "linecolor": "white",
             "minorgridcolor": "white",
             "startlinecolor": "#2a3f5f"
            },
            "type": "carpet"
           }
          ],
          "choropleth": [
           {
            "colorbar": {
             "outlinewidth": 0,
             "ticks": ""
            },
            "type": "choropleth"
           }
          ],
          "contour": [
           {
            "colorbar": {
             "outlinewidth": 0,
             "ticks": ""
            },
            "colorscale": [
             [
              0,
              "#0d0887"
             ],
             [
              0.1111111111111111,
              "#46039f"
             ],
             [
              0.2222222222222222,
              "#7201a8"
             ],
             [
              0.3333333333333333,
              "#9c179e"
             ],
             [
              0.4444444444444444,
              "#bd3786"
             ],
             [
              0.5555555555555556,
              "#d8576b"
             ],
             [
              0.6666666666666666,
              "#ed7953"
             ],
             [
              0.7777777777777778,
              "#fb9f3a"
             ],
             [
              0.8888888888888888,
              "#fdca26"
             ],
             [
              1,
              "#f0f921"
             ]
            ],
            "type": "contour"
           }
          ],
          "contourcarpet": [
           {
            "colorbar": {
             "outlinewidth": 0,
             "ticks": ""
            },
            "type": "contourcarpet"
           }
          ],
          "heatmap": [
           {
            "colorbar": {
             "outlinewidth": 0,
             "ticks": ""
            },
            "colorscale": [
             [
              0,
              "#0d0887"
             ],
             [
              0.1111111111111111,
              "#46039f"
             ],
             [
              0.2222222222222222,
              "#7201a8"
             ],
             [
              0.3333333333333333,
              "#9c179e"
             ],
             [
              0.4444444444444444,
              "#bd3786"
             ],
             [
              0.5555555555555556,
              "#d8576b"
             ],
             [
              0.6666666666666666,
              "#ed7953"
             ],
             [
              0.7777777777777778,
              "#fb9f3a"
             ],
             [
              0.8888888888888888,
              "#fdca26"
             ],
             [
              1,
              "#f0f921"
             ]
            ],
            "type": "heatmap"
           }
          ],
          "heatmapgl": [
           {
            "colorbar": {
             "outlinewidth": 0,
             "ticks": ""
            },
            "colorscale": [
             [
              0,
              "#0d0887"
             ],
             [
              0.1111111111111111,
              "#46039f"
             ],
             [
              0.2222222222222222,
              "#7201a8"
             ],
             [
              0.3333333333333333,
              "#9c179e"
             ],
             [
              0.4444444444444444,
              "#bd3786"
             ],
             [
              0.5555555555555556,
              "#d8576b"
             ],
             [
              0.6666666666666666,
              "#ed7953"
             ],
             [
              0.7777777777777778,
              "#fb9f3a"
             ],
             [
              0.8888888888888888,
              "#fdca26"
             ],
             [
              1,
              "#f0f921"
             ]
            ],
            "type": "heatmapgl"
           }
          ],
          "histogram": [
           {
            "marker": {
             "colorbar": {
              "outlinewidth": 0,
              "ticks": ""
             }
            },
            "type": "histogram"
           }
          ],
          "histogram2d": [
           {
            "colorbar": {
             "outlinewidth": 0,
             "ticks": ""
            },
            "colorscale": [
             [
              0,
              "#0d0887"
             ],
             [
              0.1111111111111111,
              "#46039f"
             ],
             [
              0.2222222222222222,
              "#7201a8"
             ],
             [
              0.3333333333333333,
              "#9c179e"
             ],
             [
              0.4444444444444444,
              "#bd3786"
             ],
             [
              0.5555555555555556,
              "#d8576b"
             ],
             [
              0.6666666666666666,
              "#ed7953"
             ],
             [
              0.7777777777777778,
              "#fb9f3a"
             ],
             [
              0.8888888888888888,
              "#fdca26"
             ],
             [
              1,
              "#f0f921"
             ]
            ],
            "type": "histogram2d"
           }
          ],
          "histogram2dcontour": [
           {
            "colorbar": {
             "outlinewidth": 0,
             "ticks": ""
            },
            "colorscale": [
             [
              0,
              "#0d0887"
             ],
             [
              0.1111111111111111,
              "#46039f"
             ],
             [
              0.2222222222222222,
              "#7201a8"
             ],
             [
              0.3333333333333333,
              "#9c179e"
             ],
             [
              0.4444444444444444,
              "#bd3786"
             ],
             [
              0.5555555555555556,
              "#d8576b"
             ],
             [
              0.6666666666666666,
              "#ed7953"
             ],
             [
              0.7777777777777778,
              "#fb9f3a"
             ],
             [
              0.8888888888888888,
              "#fdca26"
             ],
             [
              1,
              "#f0f921"
             ]
            ],
            "type": "histogram2dcontour"
           }
          ],
          "mesh3d": [
           {
            "colorbar": {
             "outlinewidth": 0,
             "ticks": ""
            },
            "type": "mesh3d"
           }
          ],
          "parcoords": [
           {
            "line": {
             "colorbar": {
              "outlinewidth": 0,
              "ticks": ""
             }
            },
            "type": "parcoords"
           }
          ],
          "pie": [
           {
            "automargin": true,
            "type": "pie"
           }
          ],
          "scatter": [
           {
            "marker": {
             "colorbar": {
              "outlinewidth": 0,
              "ticks": ""
             }
            },
            "type": "scatter"
           }
          ],
          "scatter3d": [
           {
            "line": {
             "colorbar": {
              "outlinewidth": 0,
              "ticks": ""
             }
            },
            "marker": {
             "colorbar": {
              "outlinewidth": 0,
              "ticks": ""
             }
            },
            "type": "scatter3d"
           }
          ],
          "scattercarpet": [
           {
            "marker": {
             "colorbar": {
              "outlinewidth": 0,
              "ticks": ""
             }
            },
            "type": "scattercarpet"
           }
          ],
          "scattergeo": [
           {
            "marker": {
             "colorbar": {
              "outlinewidth": 0,
              "ticks": ""
             }
            },
            "type": "scattergeo"
           }
          ],
          "scattergl": [
           {
            "marker": {
             "colorbar": {
              "outlinewidth": 0,
              "ticks": ""
             }
            },
            "type": "scattergl"
           }
          ],
          "scattermapbox": [
           {
            "marker": {
             "colorbar": {
              "outlinewidth": 0,
              "ticks": ""
             }
            },
            "type": "scattermapbox"
           }
          ],
          "scatterpolar": [
           {
            "marker": {
             "colorbar": {
              "outlinewidth": 0,
              "ticks": ""
             }
            },
            "type": "scatterpolar"
           }
          ],
          "scatterpolargl": [
           {
            "marker": {
             "colorbar": {
              "outlinewidth": 0,
              "ticks": ""
             }
            },
            "type": "scatterpolargl"
           }
          ],
          "scatterternary": [
           {
            "marker": {
             "colorbar": {
              "outlinewidth": 0,
              "ticks": ""
             }
            },
            "type": "scatterternary"
           }
          ],
          "surface": [
           {
            "colorbar": {
             "outlinewidth": 0,
             "ticks": ""
            },
            "colorscale": [
             [
              0,
              "#0d0887"
             ],
             [
              0.1111111111111111,
              "#46039f"
             ],
             [
              0.2222222222222222,
              "#7201a8"
             ],
             [
              0.3333333333333333,
              "#9c179e"
             ],
             [
              0.4444444444444444,
              "#bd3786"
             ],
             [
              0.5555555555555556,
              "#d8576b"
             ],
             [
              0.6666666666666666,
              "#ed7953"
             ],
             [
              0.7777777777777778,
              "#fb9f3a"
             ],
             [
              0.8888888888888888,
              "#fdca26"
             ],
             [
              1,
              "#f0f921"
             ]
            ],
            "type": "surface"
           }
          ],
          "table": [
           {
            "cells": {
             "fill": {
              "color": "#EBF0F8"
             },
             "line": {
              "color": "white"
             }
            },
            "header": {
             "fill": {
              "color": "#C8D4E3"
             },
             "line": {
              "color": "white"
             }
            },
            "type": "table"
           }
          ]
         },
         "layout": {
          "annotationdefaults": {
           "arrowcolor": "#2a3f5f",
           "arrowhead": 0,
           "arrowwidth": 1
          },
          "coloraxis": {
           "colorbar": {
            "outlinewidth": 0,
            "ticks": ""
           }
          },
          "colorscale": {
           "diverging": [
            [
             0,
             "#8e0152"
            ],
            [
             0.1,
             "#c51b7d"
            ],
            [
             0.2,
             "#de77ae"
            ],
            [
             0.3,
             "#f1b6da"
            ],
            [
             0.4,
             "#fde0ef"
            ],
            [
             0.5,
             "#f7f7f7"
            ],
            [
             0.6,
             "#e6f5d0"
            ],
            [
             0.7,
             "#b8e186"
            ],
            [
             0.8,
             "#7fbc41"
            ],
            [
             0.9,
             "#4d9221"
            ],
            [
             1,
             "#276419"
            ]
           ],
           "sequential": [
            [
             0,
             "#0d0887"
            ],
            [
             0.1111111111111111,
             "#46039f"
            ],
            [
             0.2222222222222222,
             "#7201a8"
            ],
            [
             0.3333333333333333,
             "#9c179e"
            ],
            [
             0.4444444444444444,
             "#bd3786"
            ],
            [
             0.5555555555555556,
             "#d8576b"
            ],
            [
             0.6666666666666666,
             "#ed7953"
            ],
            [
             0.7777777777777778,
             "#fb9f3a"
            ],
            [
             0.8888888888888888,
             "#fdca26"
            ],
            [
             1,
             "#f0f921"
            ]
           ],
           "sequentialminus": [
            [
             0,
             "#0d0887"
            ],
            [
             0.1111111111111111,
             "#46039f"
            ],
            [
             0.2222222222222222,
             "#7201a8"
            ],
            [
             0.3333333333333333,
             "#9c179e"
            ],
            [
             0.4444444444444444,
             "#bd3786"
            ],
            [
             0.5555555555555556,
             "#d8576b"
            ],
            [
             0.6666666666666666,
             "#ed7953"
            ],
            [
             0.7777777777777778,
             "#fb9f3a"
            ],
            [
             0.8888888888888888,
             "#fdca26"
            ],
            [
             1,
             "#f0f921"
            ]
           ]
          },
          "colorway": [
           "#636efa",
           "#EF553B",
           "#00cc96",
           "#ab63fa",
           "#FFA15A",
           "#19d3f3",
           "#FF6692",
           "#B6E880",
           "#FF97FF",
           "#FECB52"
          ],
          "font": {
           "color": "#2a3f5f"
          },
          "geo": {
           "bgcolor": "white",
           "lakecolor": "white",
           "landcolor": "#E5ECF6",
           "showlakes": true,
           "showland": true,
           "subunitcolor": "white"
          },
          "hoverlabel": {
           "align": "left"
          },
          "hovermode": "closest",
          "mapbox": {
           "style": "light"
          },
          "paper_bgcolor": "white",
          "plot_bgcolor": "#E5ECF6",
          "polar": {
           "angularaxis": {
            "gridcolor": "white",
            "linecolor": "white",
            "ticks": ""
           },
           "bgcolor": "#E5ECF6",
           "radialaxis": {
            "gridcolor": "white",
            "linecolor": "white",
            "ticks": ""
           }
          },
          "scene": {
           "xaxis": {
            "backgroundcolor": "#E5ECF6",
            "gridcolor": "white",
            "gridwidth": 2,
            "linecolor": "white",
            "showbackground": true,
            "ticks": "",
            "zerolinecolor": "white"
           },
           "yaxis": {
            "backgroundcolor": "#E5ECF6",
            "gridcolor": "white",
            "gridwidth": 2,
            "linecolor": "white",
            "showbackground": true,
            "ticks": "",
            "zerolinecolor": "white"
           },
           "zaxis": {
            "backgroundcolor": "#E5ECF6",
            "gridcolor": "white",
            "gridwidth": 2,
            "linecolor": "white",
            "showbackground": true,
            "ticks": "",
            "zerolinecolor": "white"
           }
          },
          "shapedefaults": {
           "line": {
            "color": "#2a3f5f"
           }
          },
          "ternary": {
           "aaxis": {
            "gridcolor": "white",
            "linecolor": "white",
            "ticks": ""
           },
           "baxis": {
            "gridcolor": "white",
            "linecolor": "white",
            "ticks": ""
           },
           "bgcolor": "#E5ECF6",
           "caxis": {
            "gridcolor": "white",
            "linecolor": "white",
            "ticks": ""
           }
          },
          "title": {
           "x": 0.05
          },
          "xaxis": {
           "automargin": true,
           "gridcolor": "white",
           "linecolor": "white",
           "ticks": "",
           "title": {
            "standoff": 15
           },
           "zerolinecolor": "white",
           "zerolinewidth": 2
          },
          "yaxis": {
           "automargin": true,
           "gridcolor": "white",
           "linecolor": "white",
           "ticks": "",
           "title": {
            "standoff": 15
           },
           "zerolinecolor": "white",
           "zerolinewidth": 2
          }
         }
        },
        "xaxis": {
         "anchor": "y",
         "categoryarray": [
          "Country",
          "AverageTemperature",
          "Latitude",
          "Longitude"
         ],
         "categoryorder": "array",
         "domain": [
          0,
          1
         ],
         "title": {
          "text": "columns"
         }
        },
        "yaxis": {
         "anchor": "x",
         "domain": [
          0,
          1
         ],
         "title": {
          "text": "% Missing Values"
         }
        }
       }
      },
      "text/html": [
       "<div>\n",
       "        \n",
       "        \n",
       "            <div id=\"2b2b91f3-bdf0-4f4d-9023-b8987c33b455\" class=\"plotly-graph-div\" style=\"height:525px; width:100%;\"></div>\n",
       "            <script type=\"text/javascript\">\n",
       "                require([\"plotly\"], function(Plotly) {\n",
       "                    window.PLOTLYENV=window.PLOTLYENV || {};\n",
       "                    \n",
       "                if (document.getElementById(\"2b2b91f3-bdf0-4f4d-9023-b8987c33b455\")) {\n",
       "                    Plotly.newPlot(\n",
       "                        '2b2b91f3-bdf0-4f4d-9023-b8987c33b455',\n",
       "                        [{\"alignmentgroup\": \"True\", \"hoverlabel\": {\"namelength\": 0}, \"hovertemplate\": \"columns=%{x}<br>% Missing Values=%{y}\", \"legendgroup\": \"Country\", \"marker\": {\"color\": \"#636efa\"}, \"name\": \"Country\", \"offsetgroup\": \"Country\", \"orientation\": \"v\", \"showlegend\": true, \"textposition\": \"auto\", \"type\": \"bar\", \"x\": [\"Country\"], \"xaxis\": \"x\", \"y\": [0.0], \"yaxis\": \"y\"}, {\"alignmentgroup\": \"True\", \"hoverlabel\": {\"namelength\": 0}, \"hovertemplate\": \"columns=%{x}<br>% Missing Values=%{y}\", \"legendgroup\": \"AverageTemperature\", \"marker\": {\"color\": \"#EF553B\"}, \"name\": \"AverageTemperature\", \"offsetgroup\": \"AverageTemperature\", \"orientation\": \"v\", \"showlegend\": true, \"textposition\": \"auto\", \"type\": \"bar\", \"x\": [\"AverageTemperature\"], \"xaxis\": \"x\", \"y\": [0.0], \"yaxis\": \"y\"}, {\"alignmentgroup\": \"True\", \"hoverlabel\": {\"namelength\": 0}, \"hovertemplate\": \"columns=%{x}<br>% Missing Values=%{y}\", \"legendgroup\": \"Latitude\", \"marker\": {\"color\": \"#00cc96\"}, \"name\": \"Latitude\", \"offsetgroup\": \"Latitude\", \"orientation\": \"v\", \"showlegend\": true, \"textposition\": \"auto\", \"type\": \"bar\", \"x\": [\"Latitude\"], \"xaxis\": \"x\", \"y\": [0.0], \"yaxis\": \"y\"}, {\"alignmentgroup\": \"True\", \"hoverlabel\": {\"namelength\": 0}, \"hovertemplate\": \"columns=%{x}<br>% Missing Values=%{y}\", \"legendgroup\": \"Longitude\", \"marker\": {\"color\": \"#ab63fa\"}, \"name\": \"Longitude\", \"offsetgroup\": \"Longitude\", \"orientation\": \"v\", \"showlegend\": true, \"textposition\": \"auto\", \"type\": \"bar\", \"x\": [\"Longitude\"], \"xaxis\": \"x\", \"y\": [0.0], \"yaxis\": \"y\"}],\n",
       "                        {\"barmode\": \"relative\", \"legend\": {\"title\": {\"text\": \"columns\"}, \"tracegroupgap\": 0}, \"margin\": {\"t\": 60}, \"template\": {\"data\": {\"bar\": [{\"error_x\": {\"color\": \"#2a3f5f\"}, \"error_y\": {\"color\": \"#2a3f5f\"}, \"marker\": {\"line\": {\"color\": \"#E5ECF6\", \"width\": 0.5}}, \"type\": \"bar\"}], \"barpolar\": [{\"marker\": {\"line\": {\"color\": \"#E5ECF6\", \"width\": 0.5}}, \"type\": \"barpolar\"}], \"carpet\": [{\"aaxis\": {\"endlinecolor\": \"#2a3f5f\", \"gridcolor\": \"white\", \"linecolor\": \"white\", \"minorgridcolor\": \"white\", \"startlinecolor\": \"#2a3f5f\"}, \"baxis\": {\"endlinecolor\": \"#2a3f5f\", \"gridcolor\": \"white\", \"linecolor\": \"white\", \"minorgridcolor\": \"white\", \"startlinecolor\": \"#2a3f5f\"}, \"type\": \"carpet\"}], \"choropleth\": [{\"colorbar\": {\"outlinewidth\": 0, \"ticks\": \"\"}, \"type\": \"choropleth\"}], \"contour\": [{\"colorbar\": {\"outlinewidth\": 0, \"ticks\": \"\"}, \"colorscale\": [[0.0, \"#0d0887\"], [0.1111111111111111, \"#46039f\"], [0.2222222222222222, \"#7201a8\"], [0.3333333333333333, \"#9c179e\"], [0.4444444444444444, \"#bd3786\"], [0.5555555555555556, \"#d8576b\"], [0.6666666666666666, \"#ed7953\"], [0.7777777777777778, \"#fb9f3a\"], [0.8888888888888888, \"#fdca26\"], [1.0, \"#f0f921\"]], \"type\": \"contour\"}], \"contourcarpet\": [{\"colorbar\": {\"outlinewidth\": 0, \"ticks\": \"\"}, \"type\": \"contourcarpet\"}], \"heatmap\": [{\"colorbar\": {\"outlinewidth\": 0, \"ticks\": \"\"}, \"colorscale\": [[0.0, \"#0d0887\"], [0.1111111111111111, \"#46039f\"], [0.2222222222222222, \"#7201a8\"], [0.3333333333333333, \"#9c179e\"], [0.4444444444444444, \"#bd3786\"], [0.5555555555555556, \"#d8576b\"], [0.6666666666666666, \"#ed7953\"], [0.7777777777777778, \"#fb9f3a\"], [0.8888888888888888, \"#fdca26\"], [1.0, \"#f0f921\"]], \"type\": \"heatmap\"}], \"heatmapgl\": [{\"colorbar\": {\"outlinewidth\": 0, \"ticks\": \"\"}, \"colorscale\": [[0.0, \"#0d0887\"], [0.1111111111111111, \"#46039f\"], [0.2222222222222222, \"#7201a8\"], [0.3333333333333333, \"#9c179e\"], [0.4444444444444444, \"#bd3786\"], [0.5555555555555556, \"#d8576b\"], [0.6666666666666666, \"#ed7953\"], [0.7777777777777778, \"#fb9f3a\"], [0.8888888888888888, \"#fdca26\"], [1.0, \"#f0f921\"]], \"type\": \"heatmapgl\"}], \"histogram\": [{\"marker\": {\"colorbar\": {\"outlinewidth\": 0, \"ticks\": \"\"}}, \"type\": \"histogram\"}], \"histogram2d\": [{\"colorbar\": {\"outlinewidth\": 0, \"ticks\": \"\"}, \"colorscale\": [[0.0, \"#0d0887\"], [0.1111111111111111, \"#46039f\"], [0.2222222222222222, \"#7201a8\"], [0.3333333333333333, \"#9c179e\"], [0.4444444444444444, \"#bd3786\"], [0.5555555555555556, \"#d8576b\"], [0.6666666666666666, \"#ed7953\"], [0.7777777777777778, \"#fb9f3a\"], [0.8888888888888888, \"#fdca26\"], [1.0, \"#f0f921\"]], \"type\": \"histogram2d\"}], \"histogram2dcontour\": [{\"colorbar\": {\"outlinewidth\": 0, \"ticks\": \"\"}, \"colorscale\": [[0.0, \"#0d0887\"], [0.1111111111111111, \"#46039f\"], [0.2222222222222222, \"#7201a8\"], [0.3333333333333333, \"#9c179e\"], [0.4444444444444444, \"#bd3786\"], [0.5555555555555556, \"#d8576b\"], [0.6666666666666666, \"#ed7953\"], [0.7777777777777778, \"#fb9f3a\"], [0.8888888888888888, \"#fdca26\"], [1.0, \"#f0f921\"]], \"type\": \"histogram2dcontour\"}], \"mesh3d\": [{\"colorbar\": {\"outlinewidth\": 0, \"ticks\": \"\"}, \"type\": \"mesh3d\"}], \"parcoords\": [{\"line\": {\"colorbar\": {\"outlinewidth\": 0, \"ticks\": \"\"}}, \"type\": \"parcoords\"}], \"pie\": [{\"automargin\": true, \"type\": \"pie\"}], \"scatter\": [{\"marker\": {\"colorbar\": {\"outlinewidth\": 0, \"ticks\": \"\"}}, \"type\": \"scatter\"}], \"scatter3d\": [{\"line\": {\"colorbar\": {\"outlinewidth\": 0, \"ticks\": \"\"}}, \"marker\": {\"colorbar\": {\"outlinewidth\": 0, \"ticks\": \"\"}}, \"type\": \"scatter3d\"}], \"scattercarpet\": [{\"marker\": {\"colorbar\": {\"outlinewidth\": 0, \"ticks\": \"\"}}, \"type\": \"scattercarpet\"}], \"scattergeo\": [{\"marker\": {\"colorbar\": {\"outlinewidth\": 0, \"ticks\": \"\"}}, \"type\": \"scattergeo\"}], \"scattergl\": [{\"marker\": {\"colorbar\": {\"outlinewidth\": 0, \"ticks\": \"\"}}, \"type\": \"scattergl\"}], \"scattermapbox\": [{\"marker\": {\"colorbar\": {\"outlinewidth\": 0, \"ticks\": \"\"}}, \"type\": \"scattermapbox\"}], \"scatterpolar\": [{\"marker\": {\"colorbar\": {\"outlinewidth\": 0, \"ticks\": \"\"}}, \"type\": \"scatterpolar\"}], \"scatterpolargl\": [{\"marker\": {\"colorbar\": {\"outlinewidth\": 0, \"ticks\": \"\"}}, \"type\": \"scatterpolargl\"}], \"scatterternary\": [{\"marker\": {\"colorbar\": {\"outlinewidth\": 0, \"ticks\": \"\"}}, \"type\": \"scatterternary\"}], \"surface\": [{\"colorbar\": {\"outlinewidth\": 0, \"ticks\": \"\"}, \"colorscale\": [[0.0, \"#0d0887\"], [0.1111111111111111, \"#46039f\"], [0.2222222222222222, \"#7201a8\"], [0.3333333333333333, \"#9c179e\"], [0.4444444444444444, \"#bd3786\"], [0.5555555555555556, \"#d8576b\"], [0.6666666666666666, \"#ed7953\"], [0.7777777777777778, \"#fb9f3a\"], [0.8888888888888888, \"#fdca26\"], [1.0, \"#f0f921\"]], \"type\": \"surface\"}], \"table\": [{\"cells\": {\"fill\": {\"color\": \"#EBF0F8\"}, \"line\": {\"color\": \"white\"}}, \"header\": {\"fill\": {\"color\": \"#C8D4E3\"}, \"line\": {\"color\": \"white\"}}, \"type\": \"table\"}]}, \"layout\": {\"annotationdefaults\": {\"arrowcolor\": \"#2a3f5f\", \"arrowhead\": 0, \"arrowwidth\": 1}, \"coloraxis\": {\"colorbar\": {\"outlinewidth\": 0, \"ticks\": \"\"}}, \"colorscale\": {\"diverging\": [[0, \"#8e0152\"], [0.1, \"#c51b7d\"], [0.2, \"#de77ae\"], [0.3, \"#f1b6da\"], [0.4, \"#fde0ef\"], [0.5, \"#f7f7f7\"], [0.6, \"#e6f5d0\"], [0.7, \"#b8e186\"], [0.8, \"#7fbc41\"], [0.9, \"#4d9221\"], [1, \"#276419\"]], \"sequential\": [[0.0, \"#0d0887\"], [0.1111111111111111, \"#46039f\"], [0.2222222222222222, \"#7201a8\"], [0.3333333333333333, \"#9c179e\"], [0.4444444444444444, \"#bd3786\"], [0.5555555555555556, \"#d8576b\"], [0.6666666666666666, \"#ed7953\"], [0.7777777777777778, \"#fb9f3a\"], [0.8888888888888888, \"#fdca26\"], [1.0, \"#f0f921\"]], \"sequentialminus\": [[0.0, \"#0d0887\"], [0.1111111111111111, \"#46039f\"], [0.2222222222222222, \"#7201a8\"], [0.3333333333333333, \"#9c179e\"], [0.4444444444444444, \"#bd3786\"], [0.5555555555555556, \"#d8576b\"], [0.6666666666666666, \"#ed7953\"], [0.7777777777777778, \"#fb9f3a\"], [0.8888888888888888, \"#fdca26\"], [1.0, \"#f0f921\"]]}, \"colorway\": [\"#636efa\", \"#EF553B\", \"#00cc96\", \"#ab63fa\", \"#FFA15A\", \"#19d3f3\", \"#FF6692\", \"#B6E880\", \"#FF97FF\", \"#FECB52\"], \"font\": {\"color\": \"#2a3f5f\"}, \"geo\": {\"bgcolor\": \"white\", \"lakecolor\": \"white\", \"landcolor\": \"#E5ECF6\", \"showlakes\": true, \"showland\": true, \"subunitcolor\": \"white\"}, \"hoverlabel\": {\"align\": \"left\"}, \"hovermode\": \"closest\", \"mapbox\": {\"style\": \"light\"}, \"paper_bgcolor\": \"white\", \"plot_bgcolor\": \"#E5ECF6\", \"polar\": {\"angularaxis\": {\"gridcolor\": \"white\", \"linecolor\": \"white\", \"ticks\": \"\"}, \"bgcolor\": \"#E5ECF6\", \"radialaxis\": {\"gridcolor\": \"white\", \"linecolor\": \"white\", \"ticks\": \"\"}}, \"scene\": {\"xaxis\": {\"backgroundcolor\": \"#E5ECF6\", \"gridcolor\": \"white\", \"gridwidth\": 2, \"linecolor\": \"white\", \"showbackground\": true, \"ticks\": \"\", \"zerolinecolor\": \"white\"}, \"yaxis\": {\"backgroundcolor\": \"#E5ECF6\", \"gridcolor\": \"white\", \"gridwidth\": 2, \"linecolor\": \"white\", \"showbackground\": true, \"ticks\": \"\", \"zerolinecolor\": \"white\"}, \"zaxis\": {\"backgroundcolor\": \"#E5ECF6\", \"gridcolor\": \"white\", \"gridwidth\": 2, \"linecolor\": \"white\", \"showbackground\": true, \"ticks\": \"\", \"zerolinecolor\": \"white\"}}, \"shapedefaults\": {\"line\": {\"color\": \"#2a3f5f\"}}, \"ternary\": {\"aaxis\": {\"gridcolor\": \"white\", \"linecolor\": \"white\", \"ticks\": \"\"}, \"baxis\": {\"gridcolor\": \"white\", \"linecolor\": \"white\", \"ticks\": \"\"}, \"bgcolor\": \"#E5ECF6\", \"caxis\": {\"gridcolor\": \"white\", \"linecolor\": \"white\", \"ticks\": \"\"}}, \"title\": {\"x\": 0.05}, \"xaxis\": {\"automargin\": true, \"gridcolor\": \"white\", \"linecolor\": \"white\", \"ticks\": \"\", \"title\": {\"standoff\": 15}, \"zerolinecolor\": \"white\", \"zerolinewidth\": 2}, \"yaxis\": {\"automargin\": true, \"gridcolor\": \"white\", \"linecolor\": \"white\", \"ticks\": \"\", \"title\": {\"standoff\": 15}, \"zerolinecolor\": \"white\", \"zerolinewidth\": 2}}}, \"xaxis\": {\"anchor\": \"y\", \"categoryarray\": [\"Country\", \"AverageTemperature\", \"Latitude\", \"Longitude\"], \"categoryorder\": \"array\", \"domain\": [0.0, 1.0], \"title\": {\"text\": \"columns\"}}, \"yaxis\": {\"anchor\": \"x\", \"domain\": [0.0, 1.0], \"title\": {\"text\": \"% Missing Values\"}}},\n",
       "                        {\"responsive\": true}\n",
       "                    ).then(function(){\n",
       "                            \n",
       "var gd = document.getElementById('2b2b91f3-bdf0-4f4d-9023-b8987c33b455');\n",
       "var x = new MutationObserver(function (mutations, observer) {{\n",
       "        var display = window.getComputedStyle(gd).display;\n",
       "        if (!display || display === 'none') {{\n",
       "            console.log([gd, 'removed!']);\n",
       "            Plotly.purge(gd);\n",
       "            observer.disconnect();\n",
       "        }}\n",
       "}});\n",
       "\n",
       "// Listen for the removal of the full notebook cells\n",
       "var notebookContainer = gd.closest('#notebook-container');\n",
       "if (notebookContainer) {{\n",
       "    x.observe(notebookContainer, {childList: true});\n",
       "}}\n",
       "\n",
       "// Listen for the clearing of the current output cell\n",
       "var outputEl = gd.closest('.output');\n",
       "if (outputEl) {{\n",
       "    x.observe(outputEl, {childList: true});\n",
       "}}\n",
       "\n",
       "                        })\n",
       "                };\n",
       "                });\n",
       "            </script>\n",
       "        </div>"
      ]
     },
     "metadata": {},
     "output_type": "display_data"
    }
   ],
   "source": [
    "# Calculate missing values percentage for all column\n",
    "df_nan_temp_trans = df_nan_temp.transpose()\n",
    "df_nan_temp_trans.reset_index(inplace=True)\n",
    "df_nan_temp_trans.columns = ['columns','% Missing Values']\n",
    "df_nan_temp_trans['% Missing Values'] = df_nan_temp_trans['% Missing Values'] * 100 / total_temperature\n",
    "\n",
    "# Visualize missing values percentage as a bar chart\n",
    "fig2 = px.bar(df_nan_temp_trans, x=\"columns\", y=\"% Missing Values\", color='columns')\n",
    "fig2.show()"
   ]
  },
  {
   "cell_type": "markdown",
   "metadata": {},
   "source": [
    "**Duplicate Data**\n",
    "\n",
    "No duplicate data found in global temperature data"
   ]
  },
  {
   "cell_type": "code",
   "execution_count": 14,
   "metadata": {},
   "outputs": [
    {
     "name": "stdout",
     "output_type": "stream",
     "text": [
      "Duplicate data not exist\n"
     ]
    }
   ],
   "source": [
    "# Check duplicate data\n",
    "df_rm_duplicate = df_temperature.select(\"Country\").distinct()\n",
    "if (df_rm_duplicate.count() == df_temperature.count()):\n",
    "    print(\"Duplicate data not exist\")\n",
    "else:\n",
    "    print(\"Duplicate data exist\")"
   ]
  },
  {
   "cell_type": "markdown",
   "metadata": {},
   "source": [
    "#### U.S. City Demographic Data\n",
    "\n",
    "\n",
    "**Missing Values**\n",
    "\n",
    "We need to identify % missing percentage for all columns. Assume we only accept % missing percentages below or equal to 30%. \n",
    "If more than 30% than we need to remove the column. Here we could see that % missing percentage are very small. We could drop these rows."
   ]
  },
  {
   "cell_type": "code",
   "execution_count": 34,
   "metadata": {},
   "outputs": [
    {
     "name": "stderr",
     "output_type": "stream",
     "text": [
      "/opt/conda/lib/python3.6/site-packages/pyarrow/util.py:43: FutureWarning:\n",
      "\n",
      "pyarrow.open_stream is deprecated as of 0.17.0, please use pyarrow.ipc.open_stream instead.\n",
      "\n"
     ]
    },
    {
     "name": "stdout",
     "output_type": "stream",
     "text": [
      "Total demographic rows: 2891\n"
     ]
    }
   ],
   "source": [
    "# count missing value for each column\n",
    "total_demographic = df_demographic.count()\n",
    "df_nan_dmgr = df_demographic.select([count(when(col(c).isNull(), c))\\\n",
    "            .alias(c) for c in df_demographic.columns]).toPandas()\n",
    "print(\"Total demographic rows: {}\".format(total_demographic))"
   ]
  },
  {
   "cell_type": "code",
   "execution_count": 35,
   "metadata": {},
   "outputs": [
    {
     "data": {
      "application/vnd.plotly.v1+json": {
       "config": {
        "plotlyServerURL": "https://plot.ly"
       },
       "data": [
        {
         "alignmentgroup": "True",
         "hoverlabel": {
          "namelength": 0
         },
         "hovertemplate": "columns=%{x}<br>% Missing Values=%{y}",
         "legendgroup": "City",
         "marker": {
          "color": "#636efa"
         },
         "name": "City",
         "offsetgroup": "City",
         "orientation": "v",
         "showlegend": true,
         "textposition": "auto",
         "type": "bar",
         "x": [
          "City"
         ],
         "xaxis": "x",
         "y": [
          0
         ],
         "yaxis": "y"
        },
        {
         "alignmentgroup": "True",
         "hoverlabel": {
          "namelength": 0
         },
         "hovertemplate": "columns=%{x}<br>% Missing Values=%{y}",
         "legendgroup": "State",
         "marker": {
          "color": "#EF553B"
         },
         "name": "State",
         "offsetgroup": "State",
         "orientation": "v",
         "showlegend": true,
         "textposition": "auto",
         "type": "bar",
         "x": [
          "State"
         ],
         "xaxis": "x",
         "y": [
          0
         ],
         "yaxis": "y"
        },
        {
         "alignmentgroup": "True",
         "hoverlabel": {
          "namelength": 0
         },
         "hovertemplate": "columns=%{x}<br>% Missing Values=%{y}",
         "legendgroup": "Median Age",
         "marker": {
          "color": "#00cc96"
         },
         "name": "Median Age",
         "offsetgroup": "Median Age",
         "orientation": "v",
         "showlegend": true,
         "textposition": "auto",
         "type": "bar",
         "x": [
          "Median Age"
         ],
         "xaxis": "x",
         "y": [
          0
         ],
         "yaxis": "y"
        },
        {
         "alignmentgroup": "True",
         "hoverlabel": {
          "namelength": 0
         },
         "hovertemplate": "columns=%{x}<br>% Missing Values=%{y}",
         "legendgroup": "Male Population",
         "marker": {
          "color": "#ab63fa"
         },
         "name": "Male Population",
         "offsetgroup": "Male Population",
         "orientation": "v",
         "showlegend": true,
         "textposition": "auto",
         "type": "bar",
         "x": [
          "Male Population"
         ],
         "xaxis": "x",
         "y": [
          0.10377032168799724
         ],
         "yaxis": "y"
        },
        {
         "alignmentgroup": "True",
         "hoverlabel": {
          "namelength": 0
         },
         "hovertemplate": "columns=%{x}<br>% Missing Values=%{y}",
         "legendgroup": "Female Population",
         "marker": {
          "color": "#FFA15A"
         },
         "name": "Female Population",
         "offsetgroup": "Female Population",
         "orientation": "v",
         "showlegend": true,
         "textposition": "auto",
         "type": "bar",
         "x": [
          "Female Population"
         ],
         "xaxis": "x",
         "y": [
          0.10377032168799724
         ],
         "yaxis": "y"
        },
        {
         "alignmentgroup": "True",
         "hoverlabel": {
          "namelength": 0
         },
         "hovertemplate": "columns=%{x}<br>% Missing Values=%{y}",
         "legendgroup": "Total Population",
         "marker": {
          "color": "#19d3f3"
         },
         "name": "Total Population",
         "offsetgroup": "Total Population",
         "orientation": "v",
         "showlegend": true,
         "textposition": "auto",
         "type": "bar",
         "x": [
          "Total Population"
         ],
         "xaxis": "x",
         "y": [
          0
         ],
         "yaxis": "y"
        },
        {
         "alignmentgroup": "True",
         "hoverlabel": {
          "namelength": 0
         },
         "hovertemplate": "columns=%{x}<br>% Missing Values=%{y}",
         "legendgroup": "Number of Veterans",
         "marker": {
          "color": "#FF6692"
         },
         "name": "Number of Veterans",
         "offsetgroup": "Number of Veterans",
         "orientation": "v",
         "showlegend": true,
         "textposition": "auto",
         "type": "bar",
         "x": [
          "Number of Veterans"
         ],
         "xaxis": "x",
         "y": [
          0.4496713939813214
         ],
         "yaxis": "y"
        },
        {
         "alignmentgroup": "True",
         "hoverlabel": {
          "namelength": 0
         },
         "hovertemplate": "columns=%{x}<br>% Missing Values=%{y}",
         "legendgroup": "Foreign-born",
         "marker": {
          "color": "#B6E880"
         },
         "name": "Foreign-born",
         "offsetgroup": "Foreign-born",
         "orientation": "v",
         "showlegend": true,
         "textposition": "auto",
         "type": "bar",
         "x": [
          "Foreign-born"
         ],
         "xaxis": "x",
         "y": [
          0.4496713939813214
         ],
         "yaxis": "y"
        },
        {
         "alignmentgroup": "True",
         "hoverlabel": {
          "namelength": 0
         },
         "hovertemplate": "columns=%{x}<br>% Missing Values=%{y}",
         "legendgroup": "Average Household Size",
         "marker": {
          "color": "#FF97FF"
         },
         "name": "Average Household Size",
         "offsetgroup": "Average Household Size",
         "orientation": "v",
         "showlegend": true,
         "textposition": "auto",
         "type": "bar",
         "x": [
          "Average Household Size"
         ],
         "xaxis": "x",
         "y": [
          0.5534417156693185
         ],
         "yaxis": "y"
        },
        {
         "alignmentgroup": "True",
         "hoverlabel": {
          "namelength": 0
         },
         "hovertemplate": "columns=%{x}<br>% Missing Values=%{y}",
         "legendgroup": "State Code",
         "marker": {
          "color": "#FECB52"
         },
         "name": "State Code",
         "offsetgroup": "State Code",
         "orientation": "v",
         "showlegend": true,
         "textposition": "auto",
         "type": "bar",
         "x": [
          "State Code"
         ],
         "xaxis": "x",
         "y": [
          0
         ],
         "yaxis": "y"
        },
        {
         "alignmentgroup": "True",
         "hoverlabel": {
          "namelength": 0
         },
         "hovertemplate": "columns=%{x}<br>% Missing Values=%{y}",
         "legendgroup": "Race",
         "marker": {
          "color": "#636efa"
         },
         "name": "Race",
         "offsetgroup": "Race",
         "orientation": "v",
         "showlegend": true,
         "textposition": "auto",
         "type": "bar",
         "x": [
          "Race"
         ],
         "xaxis": "x",
         "y": [
          0
         ],
         "yaxis": "y"
        },
        {
         "alignmentgroup": "True",
         "hoverlabel": {
          "namelength": 0
         },
         "hovertemplate": "columns=%{x}<br>% Missing Values=%{y}",
         "legendgroup": "Count",
         "marker": {
          "color": "#EF553B"
         },
         "name": "Count",
         "offsetgroup": "Count",
         "orientation": "v",
         "showlegend": true,
         "textposition": "auto",
         "type": "bar",
         "x": [
          "Count"
         ],
         "xaxis": "x",
         "y": [
          0
         ],
         "yaxis": "y"
        }
       ],
       "layout": {
        "barmode": "relative",
        "legend": {
         "title": {
          "text": "columns"
         },
         "tracegroupgap": 0
        },
        "margin": {
         "t": 60
        },
        "template": {
         "data": {
          "bar": [
           {
            "error_x": {
             "color": "#2a3f5f"
            },
            "error_y": {
             "color": "#2a3f5f"
            },
            "marker": {
             "line": {
              "color": "#E5ECF6",
              "width": 0.5
             }
            },
            "type": "bar"
           }
          ],
          "barpolar": [
           {
            "marker": {
             "line": {
              "color": "#E5ECF6",
              "width": 0.5
             }
            },
            "type": "barpolar"
           }
          ],
          "carpet": [
           {
            "aaxis": {
             "endlinecolor": "#2a3f5f",
             "gridcolor": "white",
             "linecolor": "white",
             "minorgridcolor": "white",
             "startlinecolor": "#2a3f5f"
            },
            "baxis": {
             "endlinecolor": "#2a3f5f",
             "gridcolor": "white",
             "linecolor": "white",
             "minorgridcolor": "white",
             "startlinecolor": "#2a3f5f"
            },
            "type": "carpet"
           }
          ],
          "choropleth": [
           {
            "colorbar": {
             "outlinewidth": 0,
             "ticks": ""
            },
            "type": "choropleth"
           }
          ],
          "contour": [
           {
            "colorbar": {
             "outlinewidth": 0,
             "ticks": ""
            },
            "colorscale": [
             [
              0,
              "#0d0887"
             ],
             [
              0.1111111111111111,
              "#46039f"
             ],
             [
              0.2222222222222222,
              "#7201a8"
             ],
             [
              0.3333333333333333,
              "#9c179e"
             ],
             [
              0.4444444444444444,
              "#bd3786"
             ],
             [
              0.5555555555555556,
              "#d8576b"
             ],
             [
              0.6666666666666666,
              "#ed7953"
             ],
             [
              0.7777777777777778,
              "#fb9f3a"
             ],
             [
              0.8888888888888888,
              "#fdca26"
             ],
             [
              1,
              "#f0f921"
             ]
            ],
            "type": "contour"
           }
          ],
          "contourcarpet": [
           {
            "colorbar": {
             "outlinewidth": 0,
             "ticks": ""
            },
            "type": "contourcarpet"
           }
          ],
          "heatmap": [
           {
            "colorbar": {
             "outlinewidth": 0,
             "ticks": ""
            },
            "colorscale": [
             [
              0,
              "#0d0887"
             ],
             [
              0.1111111111111111,
              "#46039f"
             ],
             [
              0.2222222222222222,
              "#7201a8"
             ],
             [
              0.3333333333333333,
              "#9c179e"
             ],
             [
              0.4444444444444444,
              "#bd3786"
             ],
             [
              0.5555555555555556,
              "#d8576b"
             ],
             [
              0.6666666666666666,
              "#ed7953"
             ],
             [
              0.7777777777777778,
              "#fb9f3a"
             ],
             [
              0.8888888888888888,
              "#fdca26"
             ],
             [
              1,
              "#f0f921"
             ]
            ],
            "type": "heatmap"
           }
          ],
          "heatmapgl": [
           {
            "colorbar": {
             "outlinewidth": 0,
             "ticks": ""
            },
            "colorscale": [
             [
              0,
              "#0d0887"
             ],
             [
              0.1111111111111111,
              "#46039f"
             ],
             [
              0.2222222222222222,
              "#7201a8"
             ],
             [
              0.3333333333333333,
              "#9c179e"
             ],
             [
              0.4444444444444444,
              "#bd3786"
             ],
             [
              0.5555555555555556,
              "#d8576b"
             ],
             [
              0.6666666666666666,
              "#ed7953"
             ],
             [
              0.7777777777777778,
              "#fb9f3a"
             ],
             [
              0.8888888888888888,
              "#fdca26"
             ],
             [
              1,
              "#f0f921"
             ]
            ],
            "type": "heatmapgl"
           }
          ],
          "histogram": [
           {
            "marker": {
             "colorbar": {
              "outlinewidth": 0,
              "ticks": ""
             }
            },
            "type": "histogram"
           }
          ],
          "histogram2d": [
           {
            "colorbar": {
             "outlinewidth": 0,
             "ticks": ""
            },
            "colorscale": [
             [
              0,
              "#0d0887"
             ],
             [
              0.1111111111111111,
              "#46039f"
             ],
             [
              0.2222222222222222,
              "#7201a8"
             ],
             [
              0.3333333333333333,
              "#9c179e"
             ],
             [
              0.4444444444444444,
              "#bd3786"
             ],
             [
              0.5555555555555556,
              "#d8576b"
             ],
             [
              0.6666666666666666,
              "#ed7953"
             ],
             [
              0.7777777777777778,
              "#fb9f3a"
             ],
             [
              0.8888888888888888,
              "#fdca26"
             ],
             [
              1,
              "#f0f921"
             ]
            ],
            "type": "histogram2d"
           }
          ],
          "histogram2dcontour": [
           {
            "colorbar": {
             "outlinewidth": 0,
             "ticks": ""
            },
            "colorscale": [
             [
              0,
              "#0d0887"
             ],
             [
              0.1111111111111111,
              "#46039f"
             ],
             [
              0.2222222222222222,
              "#7201a8"
             ],
             [
              0.3333333333333333,
              "#9c179e"
             ],
             [
              0.4444444444444444,
              "#bd3786"
             ],
             [
              0.5555555555555556,
              "#d8576b"
             ],
             [
              0.6666666666666666,
              "#ed7953"
             ],
             [
              0.7777777777777778,
              "#fb9f3a"
             ],
             [
              0.8888888888888888,
              "#fdca26"
             ],
             [
              1,
              "#f0f921"
             ]
            ],
            "type": "histogram2dcontour"
           }
          ],
          "mesh3d": [
           {
            "colorbar": {
             "outlinewidth": 0,
             "ticks": ""
            },
            "type": "mesh3d"
           }
          ],
          "parcoords": [
           {
            "line": {
             "colorbar": {
              "outlinewidth": 0,
              "ticks": ""
             }
            },
            "type": "parcoords"
           }
          ],
          "pie": [
           {
            "automargin": true,
            "type": "pie"
           }
          ],
          "scatter": [
           {
            "marker": {
             "colorbar": {
              "outlinewidth": 0,
              "ticks": ""
             }
            },
            "type": "scatter"
           }
          ],
          "scatter3d": [
           {
            "line": {
             "colorbar": {
              "outlinewidth": 0,
              "ticks": ""
             }
            },
            "marker": {
             "colorbar": {
              "outlinewidth": 0,
              "ticks": ""
             }
            },
            "type": "scatter3d"
           }
          ],
          "scattercarpet": [
           {
            "marker": {
             "colorbar": {
              "outlinewidth": 0,
              "ticks": ""
             }
            },
            "type": "scattercarpet"
           }
          ],
          "scattergeo": [
           {
            "marker": {
             "colorbar": {
              "outlinewidth": 0,
              "ticks": ""
             }
            },
            "type": "scattergeo"
           }
          ],
          "scattergl": [
           {
            "marker": {
             "colorbar": {
              "outlinewidth": 0,
              "ticks": ""
             }
            },
            "type": "scattergl"
           }
          ],
          "scattermapbox": [
           {
            "marker": {
             "colorbar": {
              "outlinewidth": 0,
              "ticks": ""
             }
            },
            "type": "scattermapbox"
           }
          ],
          "scatterpolar": [
           {
            "marker": {
             "colorbar": {
              "outlinewidth": 0,
              "ticks": ""
             }
            },
            "type": "scatterpolar"
           }
          ],
          "scatterpolargl": [
           {
            "marker": {
             "colorbar": {
              "outlinewidth": 0,
              "ticks": ""
             }
            },
            "type": "scatterpolargl"
           }
          ],
          "scatterternary": [
           {
            "marker": {
             "colorbar": {
              "outlinewidth": 0,
              "ticks": ""
             }
            },
            "type": "scatterternary"
           }
          ],
          "surface": [
           {
            "colorbar": {
             "outlinewidth": 0,
             "ticks": ""
            },
            "colorscale": [
             [
              0,
              "#0d0887"
             ],
             [
              0.1111111111111111,
              "#46039f"
             ],
             [
              0.2222222222222222,
              "#7201a8"
             ],
             [
              0.3333333333333333,
              "#9c179e"
             ],
             [
              0.4444444444444444,
              "#bd3786"
             ],
             [
              0.5555555555555556,
              "#d8576b"
             ],
             [
              0.6666666666666666,
              "#ed7953"
             ],
             [
              0.7777777777777778,
              "#fb9f3a"
             ],
             [
              0.8888888888888888,
              "#fdca26"
             ],
             [
              1,
              "#f0f921"
             ]
            ],
            "type": "surface"
           }
          ],
          "table": [
           {
            "cells": {
             "fill": {
              "color": "#EBF0F8"
             },
             "line": {
              "color": "white"
             }
            },
            "header": {
             "fill": {
              "color": "#C8D4E3"
             },
             "line": {
              "color": "white"
             }
            },
            "type": "table"
           }
          ]
         },
         "layout": {
          "annotationdefaults": {
           "arrowcolor": "#2a3f5f",
           "arrowhead": 0,
           "arrowwidth": 1
          },
          "coloraxis": {
           "colorbar": {
            "outlinewidth": 0,
            "ticks": ""
           }
          },
          "colorscale": {
           "diverging": [
            [
             0,
             "#8e0152"
            ],
            [
             0.1,
             "#c51b7d"
            ],
            [
             0.2,
             "#de77ae"
            ],
            [
             0.3,
             "#f1b6da"
            ],
            [
             0.4,
             "#fde0ef"
            ],
            [
             0.5,
             "#f7f7f7"
            ],
            [
             0.6,
             "#e6f5d0"
            ],
            [
             0.7,
             "#b8e186"
            ],
            [
             0.8,
             "#7fbc41"
            ],
            [
             0.9,
             "#4d9221"
            ],
            [
             1,
             "#276419"
            ]
           ],
           "sequential": [
            [
             0,
             "#0d0887"
            ],
            [
             0.1111111111111111,
             "#46039f"
            ],
            [
             0.2222222222222222,
             "#7201a8"
            ],
            [
             0.3333333333333333,
             "#9c179e"
            ],
            [
             0.4444444444444444,
             "#bd3786"
            ],
            [
             0.5555555555555556,
             "#d8576b"
            ],
            [
             0.6666666666666666,
             "#ed7953"
            ],
            [
             0.7777777777777778,
             "#fb9f3a"
            ],
            [
             0.8888888888888888,
             "#fdca26"
            ],
            [
             1,
             "#f0f921"
            ]
           ],
           "sequentialminus": [
            [
             0,
             "#0d0887"
            ],
            [
             0.1111111111111111,
             "#46039f"
            ],
            [
             0.2222222222222222,
             "#7201a8"
            ],
            [
             0.3333333333333333,
             "#9c179e"
            ],
            [
             0.4444444444444444,
             "#bd3786"
            ],
            [
             0.5555555555555556,
             "#d8576b"
            ],
            [
             0.6666666666666666,
             "#ed7953"
            ],
            [
             0.7777777777777778,
             "#fb9f3a"
            ],
            [
             0.8888888888888888,
             "#fdca26"
            ],
            [
             1,
             "#f0f921"
            ]
           ]
          },
          "colorway": [
           "#636efa",
           "#EF553B",
           "#00cc96",
           "#ab63fa",
           "#FFA15A",
           "#19d3f3",
           "#FF6692",
           "#B6E880",
           "#FF97FF",
           "#FECB52"
          ],
          "font": {
           "color": "#2a3f5f"
          },
          "geo": {
           "bgcolor": "white",
           "lakecolor": "white",
           "landcolor": "#E5ECF6",
           "showlakes": true,
           "showland": true,
           "subunitcolor": "white"
          },
          "hoverlabel": {
           "align": "left"
          },
          "hovermode": "closest",
          "mapbox": {
           "style": "light"
          },
          "paper_bgcolor": "white",
          "plot_bgcolor": "#E5ECF6",
          "polar": {
           "angularaxis": {
            "gridcolor": "white",
            "linecolor": "white",
            "ticks": ""
           },
           "bgcolor": "#E5ECF6",
           "radialaxis": {
            "gridcolor": "white",
            "linecolor": "white",
            "ticks": ""
           }
          },
          "scene": {
           "xaxis": {
            "backgroundcolor": "#E5ECF6",
            "gridcolor": "white",
            "gridwidth": 2,
            "linecolor": "white",
            "showbackground": true,
            "ticks": "",
            "zerolinecolor": "white"
           },
           "yaxis": {
            "backgroundcolor": "#E5ECF6",
            "gridcolor": "white",
            "gridwidth": 2,
            "linecolor": "white",
            "showbackground": true,
            "ticks": "",
            "zerolinecolor": "white"
           },
           "zaxis": {
            "backgroundcolor": "#E5ECF6",
            "gridcolor": "white",
            "gridwidth": 2,
            "linecolor": "white",
            "showbackground": true,
            "ticks": "",
            "zerolinecolor": "white"
           }
          },
          "shapedefaults": {
           "line": {
            "color": "#2a3f5f"
           }
          },
          "ternary": {
           "aaxis": {
            "gridcolor": "white",
            "linecolor": "white",
            "ticks": ""
           },
           "baxis": {
            "gridcolor": "white",
            "linecolor": "white",
            "ticks": ""
           },
           "bgcolor": "#E5ECF6",
           "caxis": {
            "gridcolor": "white",
            "linecolor": "white",
            "ticks": ""
           }
          },
          "title": {
           "x": 0.05
          },
          "xaxis": {
           "automargin": true,
           "gridcolor": "white",
           "linecolor": "white",
           "ticks": "",
           "title": {
            "standoff": 15
           },
           "zerolinecolor": "white",
           "zerolinewidth": 2
          },
          "yaxis": {
           "automargin": true,
           "gridcolor": "white",
           "linecolor": "white",
           "ticks": "",
           "title": {
            "standoff": 15
           },
           "zerolinecolor": "white",
           "zerolinewidth": 2
          }
         }
        },
        "xaxis": {
         "anchor": "y",
         "categoryarray": [
          "City",
          "State",
          "Median Age",
          "Male Population",
          "Female Population",
          "Total Population",
          "Number of Veterans",
          "Foreign-born",
          "Average Household Size",
          "State Code",
          "Race",
          "Count"
         ],
         "categoryorder": "array",
         "domain": [
          0,
          1
         ],
         "title": {
          "text": "columns"
         }
        },
        "yaxis": {
         "anchor": "x",
         "domain": [
          0,
          1
         ],
         "range": [
          0,
          100
         ],
         "title": {
          "text": "% Missing Values"
         }
        }
       }
      },
      "text/html": [
       "<div>\n",
       "        \n",
       "        \n",
       "            <div id=\"1b916caa-1334-4304-88eb-64d3707cc5ed\" class=\"plotly-graph-div\" style=\"height:525px; width:100%;\"></div>\n",
       "            <script type=\"text/javascript\">\n",
       "                require([\"plotly\"], function(Plotly) {\n",
       "                    window.PLOTLYENV=window.PLOTLYENV || {};\n",
       "                    \n",
       "                if (document.getElementById(\"1b916caa-1334-4304-88eb-64d3707cc5ed\")) {\n",
       "                    Plotly.newPlot(\n",
       "                        '1b916caa-1334-4304-88eb-64d3707cc5ed',\n",
       "                        [{\"alignmentgroup\": \"True\", \"hoverlabel\": {\"namelength\": 0}, \"hovertemplate\": \"columns=%{x}<br>% Missing Values=%{y}\", \"legendgroup\": \"City\", \"marker\": {\"color\": \"#636efa\"}, \"name\": \"City\", \"offsetgroup\": \"City\", \"orientation\": \"v\", \"showlegend\": true, \"textposition\": \"auto\", \"type\": \"bar\", \"x\": [\"City\"], \"xaxis\": \"x\", \"y\": [0.0], \"yaxis\": \"y\"}, {\"alignmentgroup\": \"True\", \"hoverlabel\": {\"namelength\": 0}, \"hovertemplate\": \"columns=%{x}<br>% Missing Values=%{y}\", \"legendgroup\": \"State\", \"marker\": {\"color\": \"#EF553B\"}, \"name\": \"State\", \"offsetgroup\": \"State\", \"orientation\": \"v\", \"showlegend\": true, \"textposition\": \"auto\", \"type\": \"bar\", \"x\": [\"State\"], \"xaxis\": \"x\", \"y\": [0.0], \"yaxis\": \"y\"}, {\"alignmentgroup\": \"True\", \"hoverlabel\": {\"namelength\": 0}, \"hovertemplate\": \"columns=%{x}<br>% Missing Values=%{y}\", \"legendgroup\": \"Median Age\", \"marker\": {\"color\": \"#00cc96\"}, \"name\": \"Median Age\", \"offsetgroup\": \"Median Age\", \"orientation\": \"v\", \"showlegend\": true, \"textposition\": \"auto\", \"type\": \"bar\", \"x\": [\"Median Age\"], \"xaxis\": \"x\", \"y\": [0.0], \"yaxis\": \"y\"}, {\"alignmentgroup\": \"True\", \"hoverlabel\": {\"namelength\": 0}, \"hovertemplate\": \"columns=%{x}<br>% Missing Values=%{y}\", \"legendgroup\": \"Male Population\", \"marker\": {\"color\": \"#ab63fa\"}, \"name\": \"Male Population\", \"offsetgroup\": \"Male Population\", \"orientation\": \"v\", \"showlegend\": true, \"textposition\": \"auto\", \"type\": \"bar\", \"x\": [\"Male Population\"], \"xaxis\": \"x\", \"y\": [0.10377032168799724], \"yaxis\": \"y\"}, {\"alignmentgroup\": \"True\", \"hoverlabel\": {\"namelength\": 0}, \"hovertemplate\": \"columns=%{x}<br>% Missing Values=%{y}\", \"legendgroup\": \"Female Population\", \"marker\": {\"color\": \"#FFA15A\"}, \"name\": \"Female Population\", \"offsetgroup\": \"Female Population\", \"orientation\": \"v\", \"showlegend\": true, \"textposition\": \"auto\", \"type\": \"bar\", \"x\": [\"Female Population\"], \"xaxis\": \"x\", \"y\": [0.10377032168799724], \"yaxis\": \"y\"}, {\"alignmentgroup\": \"True\", \"hoverlabel\": {\"namelength\": 0}, \"hovertemplate\": \"columns=%{x}<br>% Missing Values=%{y}\", \"legendgroup\": \"Total Population\", \"marker\": {\"color\": \"#19d3f3\"}, \"name\": \"Total Population\", \"offsetgroup\": \"Total Population\", \"orientation\": \"v\", \"showlegend\": true, \"textposition\": \"auto\", \"type\": \"bar\", \"x\": [\"Total Population\"], \"xaxis\": \"x\", \"y\": [0.0], \"yaxis\": \"y\"}, {\"alignmentgroup\": \"True\", \"hoverlabel\": {\"namelength\": 0}, \"hovertemplate\": \"columns=%{x}<br>% Missing Values=%{y}\", \"legendgroup\": \"Number of Veterans\", \"marker\": {\"color\": \"#FF6692\"}, \"name\": \"Number of Veterans\", \"offsetgroup\": \"Number of Veterans\", \"orientation\": \"v\", \"showlegend\": true, \"textposition\": \"auto\", \"type\": \"bar\", \"x\": [\"Number of Veterans\"], \"xaxis\": \"x\", \"y\": [0.4496713939813214], \"yaxis\": \"y\"}, {\"alignmentgroup\": \"True\", \"hoverlabel\": {\"namelength\": 0}, \"hovertemplate\": \"columns=%{x}<br>% Missing Values=%{y}\", \"legendgroup\": \"Foreign-born\", \"marker\": {\"color\": \"#B6E880\"}, \"name\": \"Foreign-born\", \"offsetgroup\": \"Foreign-born\", \"orientation\": \"v\", \"showlegend\": true, \"textposition\": \"auto\", \"type\": \"bar\", \"x\": [\"Foreign-born\"], \"xaxis\": \"x\", \"y\": [0.4496713939813214], \"yaxis\": \"y\"}, {\"alignmentgroup\": \"True\", \"hoverlabel\": {\"namelength\": 0}, \"hovertemplate\": \"columns=%{x}<br>% Missing Values=%{y}\", \"legendgroup\": \"Average Household Size\", \"marker\": {\"color\": \"#FF97FF\"}, \"name\": \"Average Household Size\", \"offsetgroup\": \"Average Household Size\", \"orientation\": \"v\", \"showlegend\": true, \"textposition\": \"auto\", \"type\": \"bar\", \"x\": [\"Average Household Size\"], \"xaxis\": \"x\", \"y\": [0.5534417156693185], \"yaxis\": \"y\"}, {\"alignmentgroup\": \"True\", \"hoverlabel\": {\"namelength\": 0}, \"hovertemplate\": \"columns=%{x}<br>% Missing Values=%{y}\", \"legendgroup\": \"State Code\", \"marker\": {\"color\": \"#FECB52\"}, \"name\": \"State Code\", \"offsetgroup\": \"State Code\", \"orientation\": \"v\", \"showlegend\": true, \"textposition\": \"auto\", \"type\": \"bar\", \"x\": [\"State Code\"], \"xaxis\": \"x\", \"y\": [0.0], \"yaxis\": \"y\"}, {\"alignmentgroup\": \"True\", \"hoverlabel\": {\"namelength\": 0}, \"hovertemplate\": \"columns=%{x}<br>% Missing Values=%{y}\", \"legendgroup\": \"Race\", \"marker\": {\"color\": \"#636efa\"}, \"name\": \"Race\", \"offsetgroup\": \"Race\", \"orientation\": \"v\", \"showlegend\": true, \"textposition\": \"auto\", \"type\": \"bar\", \"x\": [\"Race\"], \"xaxis\": \"x\", \"y\": [0.0], \"yaxis\": \"y\"}, {\"alignmentgroup\": \"True\", \"hoverlabel\": {\"namelength\": 0}, \"hovertemplate\": \"columns=%{x}<br>% Missing Values=%{y}\", \"legendgroup\": \"Count\", \"marker\": {\"color\": \"#EF553B\"}, \"name\": \"Count\", \"offsetgroup\": \"Count\", \"orientation\": \"v\", \"showlegend\": true, \"textposition\": \"auto\", \"type\": \"bar\", \"x\": [\"Count\"], \"xaxis\": \"x\", \"y\": [0.0], \"yaxis\": \"y\"}],\n",
       "                        {\"barmode\": \"relative\", \"legend\": {\"title\": {\"text\": \"columns\"}, \"tracegroupgap\": 0}, \"margin\": {\"t\": 60}, \"template\": {\"data\": {\"bar\": [{\"error_x\": {\"color\": \"#2a3f5f\"}, \"error_y\": {\"color\": \"#2a3f5f\"}, \"marker\": {\"line\": {\"color\": \"#E5ECF6\", \"width\": 0.5}}, \"type\": \"bar\"}], \"barpolar\": [{\"marker\": {\"line\": {\"color\": \"#E5ECF6\", \"width\": 0.5}}, \"type\": \"barpolar\"}], \"carpet\": [{\"aaxis\": {\"endlinecolor\": \"#2a3f5f\", \"gridcolor\": \"white\", \"linecolor\": \"white\", \"minorgridcolor\": \"white\", \"startlinecolor\": \"#2a3f5f\"}, \"baxis\": {\"endlinecolor\": \"#2a3f5f\", \"gridcolor\": \"white\", \"linecolor\": \"white\", \"minorgridcolor\": \"white\", \"startlinecolor\": \"#2a3f5f\"}, \"type\": \"carpet\"}], \"choropleth\": [{\"colorbar\": {\"outlinewidth\": 0, \"ticks\": \"\"}, \"type\": \"choropleth\"}], \"contour\": [{\"colorbar\": {\"outlinewidth\": 0, \"ticks\": \"\"}, \"colorscale\": [[0.0, \"#0d0887\"], [0.1111111111111111, \"#46039f\"], [0.2222222222222222, \"#7201a8\"], [0.3333333333333333, \"#9c179e\"], [0.4444444444444444, \"#bd3786\"], [0.5555555555555556, \"#d8576b\"], [0.6666666666666666, \"#ed7953\"], [0.7777777777777778, \"#fb9f3a\"], [0.8888888888888888, \"#fdca26\"], [1.0, \"#f0f921\"]], \"type\": \"contour\"}], \"contourcarpet\": [{\"colorbar\": {\"outlinewidth\": 0, \"ticks\": \"\"}, \"type\": \"contourcarpet\"}], \"heatmap\": [{\"colorbar\": {\"outlinewidth\": 0, \"ticks\": \"\"}, \"colorscale\": [[0.0, \"#0d0887\"], [0.1111111111111111, \"#46039f\"], [0.2222222222222222, \"#7201a8\"], [0.3333333333333333, \"#9c179e\"], [0.4444444444444444, \"#bd3786\"], [0.5555555555555556, \"#d8576b\"], [0.6666666666666666, \"#ed7953\"], [0.7777777777777778, \"#fb9f3a\"], [0.8888888888888888, \"#fdca26\"], [1.0, \"#f0f921\"]], \"type\": \"heatmap\"}], \"heatmapgl\": [{\"colorbar\": {\"outlinewidth\": 0, \"ticks\": \"\"}, \"colorscale\": [[0.0, \"#0d0887\"], [0.1111111111111111, \"#46039f\"], [0.2222222222222222, \"#7201a8\"], [0.3333333333333333, \"#9c179e\"], [0.4444444444444444, \"#bd3786\"], [0.5555555555555556, \"#d8576b\"], [0.6666666666666666, \"#ed7953\"], [0.7777777777777778, \"#fb9f3a\"], [0.8888888888888888, \"#fdca26\"], [1.0, \"#f0f921\"]], \"type\": \"heatmapgl\"}], \"histogram\": [{\"marker\": {\"colorbar\": {\"outlinewidth\": 0, \"ticks\": \"\"}}, \"type\": \"histogram\"}], \"histogram2d\": [{\"colorbar\": {\"outlinewidth\": 0, \"ticks\": \"\"}, \"colorscale\": [[0.0, \"#0d0887\"], [0.1111111111111111, \"#46039f\"], [0.2222222222222222, \"#7201a8\"], [0.3333333333333333, \"#9c179e\"], [0.4444444444444444, \"#bd3786\"], [0.5555555555555556, \"#d8576b\"], [0.6666666666666666, \"#ed7953\"], [0.7777777777777778, \"#fb9f3a\"], [0.8888888888888888, \"#fdca26\"], [1.0, \"#f0f921\"]], \"type\": \"histogram2d\"}], \"histogram2dcontour\": [{\"colorbar\": {\"outlinewidth\": 0, \"ticks\": \"\"}, \"colorscale\": [[0.0, \"#0d0887\"], [0.1111111111111111, \"#46039f\"], [0.2222222222222222, \"#7201a8\"], [0.3333333333333333, \"#9c179e\"], [0.4444444444444444, \"#bd3786\"], [0.5555555555555556, \"#d8576b\"], [0.6666666666666666, \"#ed7953\"], [0.7777777777777778, \"#fb9f3a\"], [0.8888888888888888, \"#fdca26\"], [1.0, \"#f0f921\"]], \"type\": \"histogram2dcontour\"}], \"mesh3d\": [{\"colorbar\": {\"outlinewidth\": 0, \"ticks\": \"\"}, \"type\": \"mesh3d\"}], \"parcoords\": [{\"line\": {\"colorbar\": {\"outlinewidth\": 0, \"ticks\": \"\"}}, \"type\": \"parcoords\"}], \"pie\": [{\"automargin\": true, \"type\": \"pie\"}], \"scatter\": [{\"marker\": {\"colorbar\": {\"outlinewidth\": 0, \"ticks\": \"\"}}, \"type\": \"scatter\"}], \"scatter3d\": [{\"line\": {\"colorbar\": {\"outlinewidth\": 0, \"ticks\": \"\"}}, \"marker\": {\"colorbar\": {\"outlinewidth\": 0, \"ticks\": \"\"}}, \"type\": \"scatter3d\"}], \"scattercarpet\": [{\"marker\": {\"colorbar\": {\"outlinewidth\": 0, \"ticks\": \"\"}}, \"type\": \"scattercarpet\"}], \"scattergeo\": [{\"marker\": {\"colorbar\": {\"outlinewidth\": 0, \"ticks\": \"\"}}, \"type\": \"scattergeo\"}], \"scattergl\": [{\"marker\": {\"colorbar\": {\"outlinewidth\": 0, \"ticks\": \"\"}}, \"type\": \"scattergl\"}], \"scattermapbox\": [{\"marker\": {\"colorbar\": {\"outlinewidth\": 0, \"ticks\": \"\"}}, \"type\": \"scattermapbox\"}], \"scatterpolar\": [{\"marker\": {\"colorbar\": {\"outlinewidth\": 0, \"ticks\": \"\"}}, \"type\": \"scatterpolar\"}], \"scatterpolargl\": [{\"marker\": {\"colorbar\": {\"outlinewidth\": 0, \"ticks\": \"\"}}, \"type\": \"scatterpolargl\"}], \"scatterternary\": [{\"marker\": {\"colorbar\": {\"outlinewidth\": 0, \"ticks\": \"\"}}, \"type\": \"scatterternary\"}], \"surface\": [{\"colorbar\": {\"outlinewidth\": 0, \"ticks\": \"\"}, \"colorscale\": [[0.0, \"#0d0887\"], [0.1111111111111111, \"#46039f\"], [0.2222222222222222, \"#7201a8\"], [0.3333333333333333, \"#9c179e\"], [0.4444444444444444, \"#bd3786\"], [0.5555555555555556, \"#d8576b\"], [0.6666666666666666, \"#ed7953\"], [0.7777777777777778, \"#fb9f3a\"], [0.8888888888888888, \"#fdca26\"], [1.0, \"#f0f921\"]], \"type\": \"surface\"}], \"table\": [{\"cells\": {\"fill\": {\"color\": \"#EBF0F8\"}, \"line\": {\"color\": \"white\"}}, \"header\": {\"fill\": {\"color\": \"#C8D4E3\"}, \"line\": {\"color\": \"white\"}}, \"type\": \"table\"}]}, \"layout\": {\"annotationdefaults\": {\"arrowcolor\": \"#2a3f5f\", \"arrowhead\": 0, \"arrowwidth\": 1}, \"coloraxis\": {\"colorbar\": {\"outlinewidth\": 0, \"ticks\": \"\"}}, \"colorscale\": {\"diverging\": [[0, \"#8e0152\"], [0.1, \"#c51b7d\"], [0.2, \"#de77ae\"], [0.3, \"#f1b6da\"], [0.4, \"#fde0ef\"], [0.5, \"#f7f7f7\"], [0.6, \"#e6f5d0\"], [0.7, \"#b8e186\"], [0.8, \"#7fbc41\"], [0.9, \"#4d9221\"], [1, \"#276419\"]], \"sequential\": [[0.0, \"#0d0887\"], [0.1111111111111111, \"#46039f\"], [0.2222222222222222, \"#7201a8\"], [0.3333333333333333, \"#9c179e\"], [0.4444444444444444, \"#bd3786\"], [0.5555555555555556, \"#d8576b\"], [0.6666666666666666, \"#ed7953\"], [0.7777777777777778, \"#fb9f3a\"], [0.8888888888888888, \"#fdca26\"], [1.0, \"#f0f921\"]], \"sequentialminus\": [[0.0, \"#0d0887\"], [0.1111111111111111, \"#46039f\"], [0.2222222222222222, \"#7201a8\"], [0.3333333333333333, \"#9c179e\"], [0.4444444444444444, \"#bd3786\"], [0.5555555555555556, \"#d8576b\"], [0.6666666666666666, \"#ed7953\"], [0.7777777777777778, \"#fb9f3a\"], [0.8888888888888888, \"#fdca26\"], [1.0, \"#f0f921\"]]}, \"colorway\": [\"#636efa\", \"#EF553B\", \"#00cc96\", \"#ab63fa\", \"#FFA15A\", \"#19d3f3\", \"#FF6692\", \"#B6E880\", \"#FF97FF\", \"#FECB52\"], \"font\": {\"color\": \"#2a3f5f\"}, \"geo\": {\"bgcolor\": \"white\", \"lakecolor\": \"white\", \"landcolor\": \"#E5ECF6\", \"showlakes\": true, \"showland\": true, \"subunitcolor\": \"white\"}, \"hoverlabel\": {\"align\": \"left\"}, \"hovermode\": \"closest\", \"mapbox\": {\"style\": \"light\"}, \"paper_bgcolor\": \"white\", \"plot_bgcolor\": \"#E5ECF6\", \"polar\": {\"angularaxis\": {\"gridcolor\": \"white\", \"linecolor\": \"white\", \"ticks\": \"\"}, \"bgcolor\": \"#E5ECF6\", \"radialaxis\": {\"gridcolor\": \"white\", \"linecolor\": \"white\", \"ticks\": \"\"}}, \"scene\": {\"xaxis\": {\"backgroundcolor\": \"#E5ECF6\", \"gridcolor\": \"white\", \"gridwidth\": 2, \"linecolor\": \"white\", \"showbackground\": true, \"ticks\": \"\", \"zerolinecolor\": \"white\"}, \"yaxis\": {\"backgroundcolor\": \"#E5ECF6\", \"gridcolor\": \"white\", \"gridwidth\": 2, \"linecolor\": \"white\", \"showbackground\": true, \"ticks\": \"\", \"zerolinecolor\": \"white\"}, \"zaxis\": {\"backgroundcolor\": \"#E5ECF6\", \"gridcolor\": \"white\", \"gridwidth\": 2, \"linecolor\": \"white\", \"showbackground\": true, \"ticks\": \"\", \"zerolinecolor\": \"white\"}}, \"shapedefaults\": {\"line\": {\"color\": \"#2a3f5f\"}}, \"ternary\": {\"aaxis\": {\"gridcolor\": \"white\", \"linecolor\": \"white\", \"ticks\": \"\"}, \"baxis\": {\"gridcolor\": \"white\", \"linecolor\": \"white\", \"ticks\": \"\"}, \"bgcolor\": \"#E5ECF6\", \"caxis\": {\"gridcolor\": \"white\", \"linecolor\": \"white\", \"ticks\": \"\"}}, \"title\": {\"x\": 0.05}, \"xaxis\": {\"automargin\": true, \"gridcolor\": \"white\", \"linecolor\": \"white\", \"ticks\": \"\", \"title\": {\"standoff\": 15}, \"zerolinecolor\": \"white\", \"zerolinewidth\": 2}, \"yaxis\": {\"automargin\": true, \"gridcolor\": \"white\", \"linecolor\": \"white\", \"ticks\": \"\", \"title\": {\"standoff\": 15}, \"zerolinecolor\": \"white\", \"zerolinewidth\": 2}}}, \"xaxis\": {\"anchor\": \"y\", \"categoryarray\": [\"City\", \"State\", \"Median Age\", \"Male Population\", \"Female Population\", \"Total Population\", \"Number of Veterans\", \"Foreign-born\", \"Average Household Size\", \"State Code\", \"Race\", \"Count\"], \"categoryorder\": \"array\", \"domain\": [0.0, 1.0], \"title\": {\"text\": \"columns\"}}, \"yaxis\": {\"anchor\": \"x\", \"domain\": [0.0, 1.0], \"range\": [0, 100], \"title\": {\"text\": \"% Missing Values\"}}},\n",
       "                        {\"responsive\": true}\n",
       "                    ).then(function(){\n",
       "                            \n",
       "var gd = document.getElementById('1b916caa-1334-4304-88eb-64d3707cc5ed');\n",
       "var x = new MutationObserver(function (mutations, observer) {{\n",
       "        var display = window.getComputedStyle(gd).display;\n",
       "        if (!display || display === 'none') {{\n",
       "            console.log([gd, 'removed!']);\n",
       "            Plotly.purge(gd);\n",
       "            observer.disconnect();\n",
       "        }}\n",
       "}});\n",
       "\n",
       "// Listen for the removal of the full notebook cells\n",
       "var notebookContainer = gd.closest('#notebook-container');\n",
       "if (notebookContainer) {{\n",
       "    x.observe(notebookContainer, {childList: true});\n",
       "}}\n",
       "\n",
       "// Listen for the clearing of the current output cell\n",
       "var outputEl = gd.closest('.output');\n",
       "if (outputEl) {{\n",
       "    x.observe(outputEl, {childList: true});\n",
       "}}\n",
       "\n",
       "                        })\n",
       "                };\n",
       "                });\n",
       "            </script>\n",
       "        </div>"
      ]
     },
     "metadata": {},
     "output_type": "display_data"
    }
   ],
   "source": [
    "# Calculate missing values percentage for all column\n",
    "df_nan_dmgr_trans = df_nan_dmgr.transpose()\n",
    "df_nan_dmgr_trans.reset_index(inplace=True)\n",
    "df_nan_dmgr_trans.columns = ['columns','% Missing Values']\n",
    "df_nan_dmgr_trans['% Missing Values'] = 100 * (df_nan_dmgr_trans['% Missing Values'] / total_demographic)\n",
    "\n",
    "# Visualize missing values percentage as a bar chart\n",
    "fig3 = px.bar(df_nan_dmgr_trans, x=\"columns\", y=\"% Missing Values\", color='columns', range_y=(0,100))\n",
    "fig3.show()"
   ]
  },
  {
   "cell_type": "code",
   "execution_count": 36,
   "metadata": {},
   "outputs": [
    {
     "name": "stdout",
     "output_type": "stream",
     "text": [
      "Total records after drop rows : 2875\n"
     ]
    }
   ],
   "source": [
    "# remove rows based on missing values\n",
    "df_demographic = df_demographic.na.drop(subset=(\"Male Population\",\"Female Population\",\"Number of Veterans\",\"Foreign-born\",\"Average Household Size\"))\n",
    "print(\"Total records after drop rows : {}\".format(df_demographic.count()))"
   ]
  },
  {
   "cell_type": "markdown",
   "metadata": {},
   "source": [
    "**Duplicated data**\n",
    "\n",
    "If we sample some data below, we could see that for one ```City``` and one ```State```, there are a lot of duplicated information. The difference only ```Race``` and ```Count```. It will be better if we pivot column ```Race``` so it will be aggregated into one row."
   ]
  },
  {
   "cell_type": "code",
   "execution_count": 37,
   "metadata": {},
   "outputs": [
    {
     "data": {
      "text/html": [
       "<table border='1'>\n",
       "<tr><th>City</th><th>State</th><th>Median Age</th><th>Male Population</th><th>Female Population</th><th>Total Population</th><th>Number of Veterans</th><th>Foreign-born</th><th>Average Household Size</th><th>State Code</th><th>Race</th><th>Count</th></tr>\n",
       "<tr><td>Waldorf</td><td>Maryland</td><td>33.6</td><td>35640</td><td>39872</td><td>75512</td><td>6932</td><td>5954</td><td>2.69</td><td>MD</td><td>Hispanic or Latino</td><td>4810</td></tr>\n",
       "<tr><td>Waldorf</td><td>Maryland</td><td>33.6</td><td>35640</td><td>39872</td><td>75512</td><td>6932</td><td>5954</td><td>2.69</td><td>MD</td><td>Asian</td><td>4100</td></tr>\n",
       "<tr><td>Waldorf</td><td>Maryland</td><td>33.6</td><td>35640</td><td>39872</td><td>75512</td><td>6932</td><td>5954</td><td>2.69</td><td>MD</td><td>White</td><td>26788</td></tr>\n",
       "<tr><td>Waldorf</td><td>Maryland</td><td>33.6</td><td>35640</td><td>39872</td><td>75512</td><td>6932</td><td>5954</td><td>2.69</td><td>MD</td><td>Black or African-...</td><td>47334</td></tr>\n",
       "<tr><td>Waldorf</td><td>Maryland</td><td>33.6</td><td>35640</td><td>39872</td><td>75512</td><td>6932</td><td>5954</td><td>2.69</td><td>MD</td><td>American Indian a...</td><td>1918</td></tr>\n",
       "</table>\n"
      ],
      "text/plain": [
       "+-------+--------+----------+---------------+-----------------+----------------+------------------+------------+----------------------+----------+--------------------+-----+\n",
       "|   City|   State|Median Age|Male Population|Female Population|Total Population|Number of Veterans|Foreign-born|Average Household Size|State Code|                Race|Count|\n",
       "+-------+--------+----------+---------------+-----------------+----------------+------------------+------------+----------------------+----------+--------------------+-----+\n",
       "|Waldorf|Maryland|      33.6|          35640|            39872|           75512|              6932|        5954|                  2.69|        MD|  Hispanic or Latino| 4810|\n",
       "|Waldorf|Maryland|      33.6|          35640|            39872|           75512|              6932|        5954|                  2.69|        MD|               Asian| 4100|\n",
       "|Waldorf|Maryland|      33.6|          35640|            39872|           75512|              6932|        5954|                  2.69|        MD|               White|26788|\n",
       "|Waldorf|Maryland|      33.6|          35640|            39872|           75512|              6932|        5954|                  2.69|        MD|Black or African-...|47334|\n",
       "|Waldorf|Maryland|      33.6|          35640|            39872|           75512|              6932|        5954|                  2.69|        MD|American Indian a...| 1918|\n",
       "+-------+--------+----------+---------------+-----------------+----------------+------------------+------------+----------------------+----------+--------------------+-----+"
      ]
     },
     "execution_count": 37,
     "metadata": {},
     "output_type": "execute_result"
    }
   ],
   "source": [
    "df_demographic.filter(\"State = 'Maryland' and City='Waldorf'\").limit(20)"
   ]
  },
  {
   "cell_type": "code",
   "execution_count": 38,
   "metadata": {},
   "outputs": [
    {
     "data": {
      "text/html": [
       "<table border='1'>\n",
       "<tr><th>City</th><th>State</th><th>Median Age</th><th>Male Population</th><th>Female Population</th><th>Total Population</th><th>Number of Veterans</th><th>Foreign-born</th><th>Average Household Size</th><th>State Code</th><th>American Indian and Alaska Native</th><th>Asian</th><th>Black or African-American</th><th>Hispanic or Latino</th><th>White</th></tr>\n",
       "<tr><td>Waldorf</td><td>Maryland</td><td>33.6</td><td>35640</td><td>39872</td><td>75512</td><td>6932</td><td>5954</td><td>2.69</td><td>MD</td><td>1918</td><td>4100</td><td>47334</td><td>4810</td><td>26788</td></tr>\n",
       "</table>\n"
      ],
      "text/plain": [
       "+-------+--------+----------+---------------+-----------------+----------------+------------------+------------+----------------------+----------+---------------------------------+-----+-------------------------+------------------+-----+\n",
       "|   City|   State|Median Age|Male Population|Female Population|Total Population|Number of Veterans|Foreign-born|Average Household Size|State Code|American Indian and Alaska Native|Asian|Black or African-American|Hispanic or Latino|White|\n",
       "+-------+--------+----------+---------------+-----------------+----------------+------------------+------------+----------------------+----------+---------------------------------+-----+-------------------------+------------------+-----+\n",
       "|Waldorf|Maryland|      33.6|          35640|            39872|           75512|              6932|        5954|                  2.69|        MD|                             1918| 4100|                    47334|              4810|26788|\n",
       "+-------+--------+----------+---------------+-----------------+----------------+------------------+------------+----------------------+----------+---------------------------------+-----+-------------------------+------------------+-----+"
      ]
     },
     "execution_count": 38,
     "metadata": {},
     "output_type": "execute_result"
    }
   ],
   "source": [
    "# pivot operation\n",
    "groupcol = ('City', 'State', 'Median Age', 'Male Population', 'Female Population', 'Total Population', 'Number of Veterans', \\\n",
    "  'Foreign-born', 'Average Household Size', 'State Code')\n",
    "aggrcol = sum('Count')\n",
    "\n",
    "df_demographic = df_demographic.groupBy(*groupcol).pivot(\"Race\").agg(aggrcol)\n",
    "df_demographic.filter(\"State = 'Maryland' and City='Waldorf'\").limit(20)"
   ]
  },
  {
   "cell_type": "markdown",
   "metadata": {},
   "source": [
    "We want to integrate this data with ```df_state``` so we need to aggregate this data (group by ```State```) and remove ```City```"
   ]
  },
  {
   "cell_type": "code",
   "execution_count": 39,
   "metadata": {},
   "outputs": [
    {
     "name": "stdout",
     "output_type": "stream",
     "text": [
      "root\n",
      " |-- State Code: string (nullable = true)\n",
      " |-- State: string (nullable = true)\n",
      " |-- avg_medianage: double (nullable = true)\n",
      " |-- total_male: long (nullable = true)\n",
      " |-- total_female: long (nullable = true)\n",
      " |-- total_population: long (nullable = true)\n",
      " |-- total_veteran: long (nullable = true)\n",
      " |-- total_foreignborn: long (nullable = true)\n",
      " |-- total_americannative: long (nullable = true)\n",
      " |-- total_asian: long (nullable = true)\n",
      " |-- total_african: long (nullable = true)\n",
      " |-- total_hispanic: long (nullable = true)\n",
      " |-- total_white: long (nullable = true)\n",
      " |-- min_avghousesize: double (nullable = true)\n",
      " |-- max_avghousesize: double (nullable = true)\n",
      "\n"
     ]
    },
    {
     "data": {
      "text/html": [
       "<table border='1'>\n",
       "<tr><th>State Code</th><th>State</th><th>avg_medianage</th><th>total_male</th><th>total_female</th><th>total_population</th><th>total_veteran</th><th>total_foreignborn</th><th>total_americannative</th><th>total_asian</th><th>total_african</th><th>total_hispanic</th><th>total_white</th><th>min_avghousesize</th><th>max_avghousesize</th></tr>\n",
       "<tr><td>MT</td><td>MONTANA</td><td>35.5</td><td>87707</td><td>93587</td><td>181294</td><td>13854</td><td>5977</td><td>9684</td><td>4165</td><td>3349</td><td>10000</td><td>169026</td><td>2.15</td><td>2.4</td></tr>\n",
       "<tr><td>NC</td><td>NORTH CAROLINA</td><td>33.79</td><td>1466105</td><td>1594094</td><td>3060199</td><td>166146</td><td>379327</td><td>35209</td><td>178740</td><td>1029446</td><td>354409</td><td>1790136</td><td>2.18</td><td>2.72</td></tr>\n",
       "<tr><td>MD</td><td>MARYLAND</td><td>36.37</td><td>627951</td><td>684178</td><td>1312129</td><td>64143</td><td>229794</td><td>16155</td><td>128839</td><td>573768</td><td>138644</td><td>594522</td><td>2.48</td><td>2.95</td></tr>\n",
       "<tr><td>CO</td><td>COLORADO</td><td>35.82</td><td>1454619</td><td>1481050</td><td>2935669</td><td>187896</td><td>337631</td><td>62613</td><td>148790</td><td>208043</td><td>703722</td><td>2463916</td><td>2.24</td><td>2.97</td></tr>\n",
       "<tr><td>CT</td><td>CONNECTICUT</td><td>34.96</td><td>432157</td><td>453424</td><td>885581</td><td>24953</td><td>225866</td><td>10729</td><td>48311</td><td>231822</td><td>309992</td><td>505674</td><td>2.48</td><td>2.86</td></tr>\n",
       "</table>\n"
      ],
      "text/plain": [
       "+----------+--------------+-------------+----------+------------+----------------+-------------+-----------------+--------------------+-----------+-------------+--------------+-----------+----------------+----------------+\n",
       "|State Code|         State|avg_medianage|total_male|total_female|total_population|total_veteran|total_foreignborn|total_americannative|total_asian|total_african|total_hispanic|total_white|min_avghousesize|max_avghousesize|\n",
       "+----------+--------------+-------------+----------+------------+----------------+-------------+-----------------+--------------------+-----------+-------------+--------------+-----------+----------------+----------------+\n",
       "|        MT|       MONTANA|         35.5|     87707|       93587|          181294|        13854|             5977|                9684|       4165|         3349|         10000|     169026|            2.15|             2.4|\n",
       "|        NC|NORTH CAROLINA|        33.79|   1466105|     1594094|         3060199|       166146|           379327|               35209|     178740|      1029446|        354409|    1790136|            2.18|            2.72|\n",
       "|        MD|      MARYLAND|        36.37|    627951|      684178|         1312129|        64143|           229794|               16155|     128839|       573768|        138644|     594522|            2.48|            2.95|\n",
       "|        CO|      COLORADO|        35.82|   1454619|     1481050|         2935669|       187896|           337631|               62613|     148790|       208043|        703722|    2463916|            2.24|            2.97|\n",
       "|        CT|   CONNECTICUT|        34.96|    432157|      453424|          885581|        24953|           225866|               10729|      48311|       231822|        309992|     505674|            2.48|            2.86|\n",
       "+----------+--------------+-------------+----------+------------+----------------+-------------+-----------------+--------------------+-----------+-------------+--------------+-----------+----------------+----------------+"
      ]
     },
     "execution_count": 39,
     "metadata": {},
     "output_type": "execute_result"
    }
   ],
   "source": [
    "# group by State\n",
    "df_demographic = df_demographic.groupBy(\"State Code\",\"State\").agg( \\\n",
    "    avg(\"Median Age\").alias(\"avg_medianage\"),\n",
    "    sum(\"Male Population\").alias(\"total_male\"),\n",
    "    sum(\"Female Population\").alias(\"total_female\"),\n",
    "    sum(\"Total Population\").alias(\"total_population\"),\n",
    "    sum(\"Number of Veterans\").alias(\"total_veteran\"),\n",
    "    sum(\"Foreign-born\").alias(\"total_foreignborn\"),\n",
    "    sum(\"American Indian and Alaska Native\").alias(\"total_americannative\"),\n",
    "    sum(\"Asian\").alias(\"total_asian\"),\n",
    "    sum(\"Black or African-American\").alias(\"total_african\"),\n",
    "    sum(\"Hispanic or Latino\").alias(\"total_hispanic\"),\n",
    "    sum(\"White\").alias(\"total_white\"),\n",
    "    min(\"Average Household Size\").alias(\"min_avghousesize\"),\n",
    "    max(\"Average Household Size\").alias(\"max_avghousesize\")                                                         \n",
    ")\n",
    "\n",
    "# upper case and rounding\n",
    "df_demographic = df_demographic.withColumn('State',upper(col('State'))) \\\n",
    "                     .withColumn('avg_medianage',round('avg_medianage',2))\n",
    "\n",
    "df_demographic.printSchema()\n",
    "df_demographic.limit(5)"
   ]
  },
  {
   "cell_type": "markdown",
   "metadata": {},
   "source": [
    "Integrate with ```df_state```"
   ]
  },
  {
   "cell_type": "code",
   "execution_count": 40,
   "metadata": {},
   "outputs": [
    {
     "name": "stdout",
     "output_type": "stream",
     "text": [
      "root\n",
      " |-- state_code: string (nullable = true)\n",
      " |-- state_name: string (nullable = true)\n",
      " |-- avg_medianage: double (nullable = true)\n",
      " |-- total_male: long (nullable = true)\n",
      " |-- total_female: long (nullable = true)\n",
      " |-- total_population: long (nullable = true)\n",
      " |-- total_veteran: long (nullable = true)\n",
      " |-- total_foreignborn: long (nullable = true)\n",
      " |-- total_americannative: long (nullable = true)\n",
      " |-- total_asian: long (nullable = true)\n",
      " |-- total_african: long (nullable = true)\n",
      " |-- total_hispanic: long (nullable = true)\n",
      " |-- total_white: long (nullable = true)\n",
      " |-- min_avghousesize: double (nullable = true)\n",
      " |-- max_avghousesize: double (nullable = true)\n",
      "\n"
     ]
    },
    {
     "data": {
      "text/html": [
       "<table border='1'>\n",
       "<tr><th>state_code</th><th>state_name</th><th>avg_medianage</th><th>total_male</th><th>total_female</th><th>total_population</th><th>total_veteran</th><th>total_foreignborn</th><th>total_americannative</th><th>total_asian</th><th>total_african</th><th>total_hispanic</th><th>total_white</th><th>min_avghousesize</th><th>max_avghousesize</th></tr>\n",
       "<tr><td>AL</td><td>ALABAMA</td><td>36.23</td><td>497248</td><td>552381</td><td>1049629</td><td>71543</td><td>52154</td><td>8084</td><td>28769</td><td>521068</td><td>39313</td><td>498920</td><td>2.18</td><td>2.67</td></tr>\n",
       "<tr><td>AK</td><td>ALASKA</td><td>32.2</td><td>152945</td><td>145750</td><td>298695</td><td>27492</td><td>33258</td><td>36339</td><td>36825</td><td>23107</td><td>27261</td><td>212696</td><td>2.77</td><td>2.77</td></tr>\n",
       "<tr><td>AZ</td><td>ARIZONA</td><td>35.04</td><td>2227455</td><td>2272087</td><td>4499542</td><td>264505</td><td>682313</td><td>129708</td><td>229183</td><td>296222</td><td>1508157</td><td>3591611</td><td>2.17</td><td>3.44</td></tr>\n",
       "<tr><td>AR</td><td>ARKANSAS</td><td>32.77</td><td>286479</td><td>303400</td><td>589879</td><td>31704</td><td>62108</td><td>9381</td><td>22062</td><td>149608</td><td>77813</td><td>384733</td><td>2.28</td><td>3.04</td></tr>\n",
       "<tr><td>CA</td><td>CALIFORNIA</td><td>36.18</td><td>12278281</td><td>12544179</td><td>24822460</td><td>928270</td><td>7448257</td><td>401386</td><td>4543730</td><td>2047009</td><td>9856464</td><td>14905129</td><td>2.0</td><td>4.78</td></tr>\n",
       "</table>\n"
      ],
      "text/plain": [
       "+----------+----------+-------------+----------+------------+----------------+-------------+-----------------+--------------------+-----------+-------------+--------------+-----------+----------------+----------------+\n",
       "|state_code|state_name|avg_medianage|total_male|total_female|total_population|total_veteran|total_foreignborn|total_americannative|total_asian|total_african|total_hispanic|total_white|min_avghousesize|max_avghousesize|\n",
       "+----------+----------+-------------+----------+------------+----------------+-------------+-----------------+--------------------+-----------+-------------+--------------+-----------+----------------+----------------+\n",
       "|        AL|   ALABAMA|        36.23|    497248|      552381|         1049629|        71543|            52154|                8084|      28769|       521068|         39313|     498920|            2.18|            2.67|\n",
       "|        AK|    ALASKA|         32.2|    152945|      145750|          298695|        27492|            33258|               36339|      36825|        23107|         27261|     212696|            2.77|            2.77|\n",
       "|        AZ|   ARIZONA|        35.04|   2227455|     2272087|         4499542|       264505|           682313|              129708|     229183|       296222|       1508157|    3591611|            2.17|            3.44|\n",
       "|        AR|  ARKANSAS|        32.77|    286479|      303400|          589879|        31704|            62108|                9381|      22062|       149608|         77813|     384733|            2.28|            3.04|\n",
       "|        CA|CALIFORNIA|        36.18|  12278281|    12544179|        24822460|       928270|          7448257|              401386|    4543730|      2047009|       9856464|   14905129|             2.0|            4.78|\n",
       "+----------+----------+-------------+----------+------------+----------------+-------------+-----------------+--------------------+-----------+-------------+--------------+-----------+----------------+----------------+"
      ]
     },
     "execution_count": 40,
     "metadata": {},
     "output_type": "execute_result"
    }
   ],
   "source": [
    "# Left Join df_state with df_demographic\n",
    "df_state = df_state.join(df_demographic,df_state['StateCode'] == df_demographic['State Code'],how='left')\n",
    "\n",
    "# drop these columns\n",
    "cols = ['State Code', 'State']\n",
    "df_state = df_state.drop(*cols)\n",
    "\n",
    "# rename column so it will align with Redshift schema\n",
    "df_state = df_state.withColumnRenamed(\"StateCode\",\"state_code\") \\\n",
    "                   .withColumnRenamed(\"StateName\",\"state_name\")\n",
    "\n",
    "df_state.printSchema()\n",
    "df_state.limit(5)"
   ]
  },
  {
   "cell_type": "markdown",
   "metadata": {},
   "source": [
    "#### Airport Data\n",
    "\n",
    "**EDA**\n",
    "\n",
    "As our fact table will focus on US Immigration data than we should only include US airport data. We should exclude other countries airport data."
   ]
  },
  {
   "cell_type": "code",
   "execution_count": 71,
   "metadata": {},
   "outputs": [
    {
     "data": {
      "text/plain": [
       "22757"
      ]
     },
     "execution_count": 71,
     "metadata": {},
     "output_type": "execute_result"
    }
   ],
   "source": [
    "# include US airport data only\n",
    "df_airport = df_airport.filter(df_airport.iso_country == 'US')\n",
    "df_airport.count()"
   ]
  },
  {
   "cell_type": "markdown",
   "metadata": {},
   "source": [
    "When we check airport type below, we assume that immigrant not enter USA through balloonport, closed, heliport, seaplane_base and small_airport."
   ]
  },
  {
   "cell_type": "code",
   "execution_count": 72,
   "metadata": {},
   "outputs": [
    {
     "name": "stdout",
     "output_type": "stream",
     "text": [
      "+--------------+\n",
      "|          type|\n",
      "+--------------+\n",
      "| large_airport|\n",
      "|   balloonport|\n",
      "| seaplane_base|\n",
      "|      heliport|\n",
      "|        closed|\n",
      "|medium_airport|\n",
      "| small_airport|\n",
      "+--------------+\n",
      "\n"
     ]
    }
   ],
   "source": [
    "df_airport.select(\"type\").distinct().show()"
   ]
  },
  {
   "cell_type": "code",
   "execution_count": 74,
   "metadata": {},
   "outputs": [
    {
     "data": {
      "text/html": [
       "<table border='1'>\n",
       "<tr><th>ident</th><th>type</th><th>name</th><th>elevation_ft</th><th>continent</th><th>iso_country</th><th>iso_region</th><th>municipality</th><th>gps_code</th><th>iata_code</th><th>local_code</th><th>coordinates</th></tr>\n",
       "<tr><td>5A8</td><td>medium_airport</td><td>Aleknagik / New A...</td><td>66</td><td>NA</td><td>US</td><td>US-AK</td><td>Aleknagik</td><td>5A8</td><td>WKK</td><td>5A8</td><td>-158.617996216, 5...</td></tr>\n",
       "<tr><td>K79J</td><td>medium_airport</td><td>South Alabama Reg...</td><td>310</td><td>NA</td><td>US</td><td>US-AL</td><td>Andalusia/Opp</td><td>K79J</td><td>null</td><td>79J</td><td>-86.393799, 31.3088</td></tr>\n",
       "<tr><td>KABE</td><td>medium_airport</td><td>Lehigh Valley Int...</td><td>393</td><td>NA</td><td>US</td><td>US-PA</td><td>Allentown</td><td>KABE</td><td>ABE</td><td>ABE</td><td>-75.4408035278320...</td></tr>\n",
       "<tr><td>KABI</td><td>medium_airport</td><td>Abilene Regional ...</td><td>1791</td><td>NA</td><td>US</td><td>US-TX</td><td>Abilene</td><td>KABI</td><td>ABI</td><td>ABI</td><td>-99.6819000244000...</td></tr>\n",
       "<tr><td>KABQ</td><td>large_airport</td><td>Albuquerque Inter...</td><td>5355</td><td>NA</td><td>US</td><td>US-NM</td><td>Albuquerque</td><td>KABQ</td><td>ABQ</td><td>ABQ</td><td>-106.609001, 35.0...</td></tr>\n",
       "</table>\n"
      ],
      "text/plain": [
       "+-----+--------------+--------------------+------------+---------+-----------+----------+-------------+--------+---------+----------+--------------------+\n",
       "|ident|          type|                name|elevation_ft|continent|iso_country|iso_region| municipality|gps_code|iata_code|local_code|         coordinates|\n",
       "+-----+--------------+--------------------+------------+---------+-----------+----------+-------------+--------+---------+----------+--------------------+\n",
       "|  5A8|medium_airport|Aleknagik / New A...|          66|       NA|         US|     US-AK|    Aleknagik|     5A8|      WKK|       5A8|-158.617996216, 5...|\n",
       "| K79J|medium_airport|South Alabama Reg...|         310|       NA|         US|     US-AL|Andalusia/Opp|    K79J|     null|       79J| -86.393799, 31.3088|\n",
       "| KABE|medium_airport|Lehigh Valley Int...|         393|       NA|         US|     US-PA|    Allentown|    KABE|      ABE|       ABE|-75.4408035278320...|\n",
       "| KABI|medium_airport|Abilene Regional ...|        1791|       NA|         US|     US-TX|      Abilene|    KABI|      ABI|       ABI|-99.6819000244000...|\n",
       "| KABQ| large_airport|Albuquerque Inter...|        5355|       NA|         US|     US-NM|  Albuquerque|    KABQ|      ABQ|       ABQ|-106.609001, 35.0...|\n",
       "+-----+--------------+--------------------+------------+---------+-----------+----------+-------------+--------+---------+----------+--------------------+"
      ]
     },
     "execution_count": 74,
     "metadata": {},
     "output_type": "execute_result"
    }
   ],
   "source": [
    "# Exclude balloonport, seaplane_base, heliport,closed and small airport\n",
    "df_airport = df_airport.filter(col('type').isin(['large_airport','medium_airport']))\n",
    "df_airport.limit(5)"
   ]
  },
  {
   "cell_type": "markdown",
   "metadata": {},
   "source": [
    "When we try to integrate this data with fact table ```df_immigration```, we found that some airport code (either ```ident```, ```gps_code```,```iata_code```,```local_code```) not match with ```df_immigration-i94port```. Please check the sample below (LAX not match with LOS). At the end, we conclude that we won't use this data in our model."
   ]
  },
  {
   "cell_type": "code",
   "execution_count": 81,
   "metadata": {},
   "outputs": [
    {
     "data": {
      "text/html": [
       "<table border='1'>\n",
       "<tr><th>ident</th><th>type</th><th>name</th><th>elevation_ft</th><th>continent</th><th>iso_country</th><th>iso_region</th><th>municipality</th><th>gps_code</th><th>iata_code</th><th>local_code</th><th>coordinates</th></tr>\n",
       "<tr><td>KLAX</td><td>large_airport</td><td>Los Angeles Inter...</td><td>125</td><td>NA</td><td>US</td><td>US-CA</td><td>Los Angeles</td><td>KLAX</td><td>LAX</td><td>LAX</td><td>-118.4079971, 33....</td></tr>\n",
       "</table>\n"
      ],
      "text/plain": [
       "+-----+-------------+--------------------+------------+---------+-----------+----------+------------+--------+---------+----------+--------------------+\n",
       "|ident|         type|                name|elevation_ft|continent|iso_country|iso_region|municipality|gps_code|iata_code|local_code|         coordinates|\n",
       "+-----+-------------+--------------------+------------+---------+-----------+----------+------------+--------+---------+----------+--------------------+\n",
       "| KLAX|large_airport|Los Angeles Inter...|         125|       NA|         US|     US-CA| Los Angeles|    KLAX|      LAX|       LAX|-118.4079971, 33....|\n",
       "+-----+-------------+--------------------+------------+---------+-----------+----------+------------+--------+---------+----------+--------------------+"
      ]
     },
     "execution_count": 81,
     "metadata": {},
     "output_type": "execute_result"
    }
   ],
   "source": [
    "# Airport: Los Angeles\n",
    "df_airport.filter(\"name like '%Los Angeles%'\").limit(5)"
   ]
  },
  {
   "cell_type": "code",
   "execution_count": 83,
   "metadata": {},
   "outputs": [
    {
     "data": {
      "text/html": [
       "<table border='1'>\n",
       "<tr><th>PortCode</th><th>PortName</th></tr>\n",
       "<tr><td>LOS</td><td>LOS ANGELES, CA</td></tr>\n",
       "</table>\n"
      ],
      "text/plain": [
       "+--------+---------------+\n",
       "|PortCode|       PortName|\n",
       "+--------+---------------+\n",
       "|     LOS|LOS ANGELES, CA|\n",
       "+--------+---------------+"
      ]
     },
     "execution_count": 83,
     "metadata": {},
     "output_type": "execute_result"
    }
   ],
   "source": [
    "# Port: Los Angeles\n",
    "df_port.filter(\"PortName like '%LOS ANGELES%'\").limit(5)"
   ]
  },
  {
   "cell_type": "markdown",
   "metadata": {},
   "source": [
    "### Step 3: Define the Data Model\n",
    "#### 3.1 Conceptual Data Model\n"
   ]
  },
  {
   "cell_type": "markdown",
   "metadata": {},
   "source": [
    "![Star Schema](images/Star_Schema.png)"
   ]
  },
  {
   "cell_type": "markdown",
   "metadata": {},
   "source": [
    "We are using star schema as it will improve the performance of query that will be executed by data analyst or data science. The immigration fact table is the center of the data model. We need to create dimension tables to support this fact table. Dimension table will contain text description and other information. We need to make sure that there will be no many to many relationship between fact table and dimension table (it's always one to many). That's why I aggregate demographic table by State. If we keep City information in demographic than it will become many to many relationship. Having this relationships in a dimensional model causes several difficult issues, such as losing the simplicity of the star schema structure, increasing complexity in forming queries, and degrading query performance by adding more joins"
   ]
  },
  {
   "cell_type": "markdown",
   "metadata": {},
   "source": [
    "#### 3.2 Mapping Out Data Pipelines\n",
    "*List the steps necessary to pipeline the data into the chosen data model*"
   ]
  },
  {
   "cell_type": "markdown",
   "metadata": {},
   "source": [
    "To accomplish all the tasks related to the transformation of the datasets it was developed by ```cleansing_data.py``` (the script is located in ```/home/workspace/airflow/dags/scripts```). We also using Airflow to manage the flow of the whole process. The script is ```etl_capstone.py``` which is located in ```/home/workspace/airflow/dags``` \n",
    "\n",
    "Here is the summary of the process:\n",
    "\n",
    "- All data source (CSV files and SAS file) will be stored in S3 using custom Airflow operator ```LoadFileIntoS3Operator```\n",
    "- Create new EMR cluster using Airflow Operator ```EmrCreateJobFlowOperator```\n",
    "- Move all raw data from S3 into EMR HDFS\n",
    "- Run the pyspark script ```cleansing_data.py``` in this new EMR cluster:\n",
    "  - Get Country information through function ```getCountry(input_file)```\n",
    "  - Get Port information through function ```getPort(input_file)```\n",
    "  - Get State information through function ```getState(input_file)```\n",
    "  - Get Mode of Transportation through function ```getModeTrans()```\n",
    "  - Get Visa Category through function ```getVisaCat()```\n",
    "  - Get Temperature through function ```getTemperature(input_file)```\n",
    "  - Get Demographic through function ```getDemographic(input_file)```\n",
    "  - Get Immigration through function ```getImmigration(input_file)```\n",
    "  - Get Calendar through function ```getCalendar(immigration_table)```\n",
    "  - Join Country with Temperature, the final result become Country dimension table\n",
    "  - Join State with Demographic, the final result become State dimension table\n",
    "  - Store fact table and all dimension tables into parquet files (saved into HDFS)\n",
    "- Move all parquet files from EMR HDFS into S3 (clean data)\n",
    "- Terminate EMR cluster using Airflow operator ```EmrTerminateJobFlowOperator```\n",
    "- Move all parquet files from S3 into Redshift using custom Airflow operator ```ParquetToRedshiftOperator``` (make sure that the schema already created in Redshift using sql statements in ```home/workspace/airflow/create_table_capstone.sql```)\n",
    "- Check data quality in Redshift using custom Airflow operator ```DataQualityOperator```"
   ]
  },
  {
   "cell_type": "markdown",
   "metadata": {},
   "source": [
    "### Step 4: Run Pipelines to Model the Data \n",
    "#### 4.1 Create the data model\n",
    "*Build the data pipelines to create the data model.*"
   ]
  },
  {
   "cell_type": "markdown",
   "metadata": {},
   "source": [
    "Dataset and pyspark script will be loaded into S3, then these will be uploaded into EMR. We use spark in EMR to load, extracted, transform and store the provided datasets into the AWS S3 staging area. We extract data from S3 and load them into tables of the same name in Amazon Redshift. As a final step we check the data quality to ensure no null values in primary key."
   ]
  },
  {
   "cell_type": "markdown",
   "metadata": {},
   "source": [
    "![AWS Diagram](images/AWS_Diagram.png)"
   ]
  },
  {
   "cell_type": "markdown",
   "metadata": {},
   "source": [
    "Below we show the pipeline we developed using Apache Airflow."
   ]
  },
  {
   "cell_type": "markdown",
   "metadata": {},
   "source": [
    "![Airflow Diagram](images/Airflow_Diagram.png)"
   ]
  },
  {
   "cell_type": "markdown",
   "metadata": {},
   "source": [
    "#### 4.2 Data Quality Checks\n",
    "Explain the data quality checks you'll perform to ensure the pipeline ran as expected. These could include:\n",
    " * Integrity constraints on the relational database (e.g., unique key, data type, etc.)\n",
    " * Unit tests for the scripts to ensure they are doing the right thing\n",
    " * Source/Count checks to ensure completeness\n",
    " \n",
    "Run Quality Checks"
   ]
  },
  {
   "cell_type": "markdown",
   "metadata": {},
   "source": [
    "Data quality check in here is to make sure that no null values for all primary keys in Redshift table"
   ]
  },
  {
   "cell_type": "markdown",
   "metadata": {},
   "source": [
    "![Data_Quality](images/Data_Quality.png)"
   ]
  },
  {
   "cell_type": "markdown",
   "metadata": {},
   "source": [
    "#### 4.3 Data dictionary \n",
    "Create a data dictionary for your data model. For each field, provide a brief description of what the data is and where it came from. You can include the data dictionary in the notebook or in a separate file."
   ]
  },
  {
   "cell_type": "markdown",
   "metadata": {},
   "source": [
    "#### Step 5: Complete Project Write Up\n"
   ]
  },
  {
   "cell_type": "markdown",
   "metadata": {},
   "source": [
    "**Clearly state the rationale for the choice of tools and technologies for the project.**\n",
    "\n",
    "We are using cloud computing technology because it provides a low-cost, scalable, and highly reliable infrastructure platform.\n",
    "\n",
    "Why we use the following services:\n",
    "\n",
    "**Airflow**: We use Airflow as our data pipeline orchestrator in order to easily orchestrating and monitoring data processes. Airflow provides many built-in operators that help us process data in S3, EMR and Redshift.\n",
    "\n",
    "**S3**: Provides an optimal foundation for a data lake because of its virtually unlimited scalability. We can seamlessly and nondisruptively increase storage from gigabytes to petabytes of content, paying only for what we use. Amazon S3 is designed to provide 99.999999999% durability.\n",
    "\n",
    "**Spark**: As we need to process a lot of data (around 3 million records), we need to use this big data framework. Spark provides an interface for programming entire clusters with implicit data parallelism and fault tolerance.\n",
    "\n",
    "**EMR**: Maximize spark process on this flexible big data platform. We could set up EMR, use the engine and terminate it programmaticaly through python script. It is very flexible and cheap.\n",
    "\n",
    "**Redshift**: Redshift provides a massively parallel, column-oriented data warehouse that provides easy-scale functionality.\n",
    "\n",
    "\n"
   ]
  },
  {
   "cell_type": "markdown",
   "metadata": {},
   "source": [
    "**Propose how often the data should be updated and why.**\n",
    "\n",
    "We should update the data daily (once per day) as data source usually changed every day."
   ]
  },
  {
   "cell_type": "markdown",
   "metadata": {},
   "source": [
    "**Write a description of how you would approach the problem differently under the following scenarios:**\n",
    "\n",
    "- The data was increased by 100x\n",
    "\n",
    "There will be no issue if we use cloud technology. \n",
    "\n",
    "The total volume of data and number of objects we can store in S3 are unlimited. Individual Amazon S3 objects can range in size from a minimum of 0 bytes to a maximum of 5 terabytes. We can enable EMR managed scaling or use automatic scaling with a custom policy to handle increment of data processing. With Redshift, we can resize our Amazon Redshift clusters by adding more nodes or changing node types in just a few hours.\n",
    "\n",
    "- The data populates a dashboard that must be updated on a daily basis by 7am every day\n",
    "\n",
    "We can activate Service Level Agreement (SLA) feature in Airflow. It provides the functionality of sending emails in the event a task exceeds its expected time frame from the start of the DAG execution. \n",
    "\n",
    "- The database needed to be accessed by 100+ people\n",
    "\n",
    "Amazon S3’s massive scale enables us to spread load evenly, so that no individual application is affected by traffic spikes.\n",
    "\n",
    "In Redshift, elastic resize lets us quickly increase or decrease the number of compute nodes, doubling or halving the original cluster’s node count, or even change the node type. We can expand the cluster to provide additional processing power to accommodate an expected increase in workload, such as Black Friday for internet shopping, or a championship game for a team’s web business"
   ]
  },
  {
   "cell_type": "code",
   "execution_count": null,
   "metadata": {},
   "outputs": [],
   "source": []
  }
 ],
 "metadata": {
  "kernelspec": {
   "display_name": "Python 3",
   "language": "python",
   "name": "python3"
  },
  "language_info": {
   "codemirror_mode": {
    "name": "ipython",
    "version": 3
   },
   "file_extension": ".py",
   "mimetype": "text/x-python",
   "name": "python",
   "nbconvert_exporter": "python",
   "pygments_lexer": "ipython3",
   "version": "3.6.3"
  }
 },
 "nbformat": 4,
 "nbformat_minor": 4
}
